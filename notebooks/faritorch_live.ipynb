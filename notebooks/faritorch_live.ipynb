{
 "cells": [
  {
   "cell_type": "markdown",
   "metadata": {},
   "source": [
    "## Demonstraition by synthetic dataset"
   ]
  },
  {
   "cell_type": "code",
   "execution_count": 3,
   "metadata": {},
   "outputs": [],
   "source": [
    "import os\n",
    "\n",
    "from fairtorch import ConstraintLoss, DemographicParityLoss, EqualiedOddsLoss\n",
    "import random\n",
    "import numpy as np\n",
    "import torch\n",
    "from torch import nn, optim\n",
    "from torch.utils.data import DataLoader, Dataset"
   ]
  },
  {
   "cell_type": "code",
   "execution_count": 5,
   "metadata": {},
   "outputs": [],
   "source": [
    "def seed_everything(seed):\n",
    "    random.seed(seed)\n",
    "    os.environ[\"PYTHONHASHSEED\"] = str(seed)\n",
    "    np.random.seed(seed)\n",
    "    torch.manual_seed(seed)\n",
    "    torch.cuda.manual_seed(seed)\n",
    "    torch.backends.cudnn.deterministic = True\n",
    "\n",
    "\n",
    "seed_everything(2021)"
   ]
  },
  {
   "cell_type": "markdown",
   "metadata": {},
   "source": [
    "## Prepare sysnthetic dataset"
   ]
  },
  {
   "cell_type": "code",
   "execution_count": 7,
   "metadata": {},
   "outputs": [],
   "source": [
    "n_feature = 5\n",
    "\n",
    "def generate_data(n_samples = 1000, n_feature=n_feature):\n",
    "\n",
    "    y = np.random.randint(0, 2, size=n_samples)\n",
    "    loc0 = np.random.uniform(-2, 2, n_feature)\n",
    "    loc1 = np.random.uniform(-2, 2, n_feature)\n",
    "\n",
    "    X = np.zeros((n_samples, n_feature))\n",
    "    for i, u in enumerate(y):\n",
    "        if y[i] ==0:\n",
    "            X[i] = np.random.normal(loc = loc0, scale=1.0, size=n_feature)  \n",
    "        else:\n",
    "            X[i] = np.random.normal(loc = loc1, scale=1.0, size=n_feature)  \n",
    "\n",
    "    sensi_feat = (X[:, 0] > X[:, 0].mean()).astype(int)\n",
    "    X[:, 0] = sensi_feat.astype(np.float32)\n",
    "    X = torch.from_numpy(X).float()\n",
    "    y = torch.from_numpy(y).float()\n",
    "    sensi_feat = torch.from_numpy(sensi_feat)\n",
    "    return X, y, sensi_feat"
   ]
  },
  {
   "cell_type": "code",
   "execution_count": 9,
   "metadata": {},
   "outputs": [],
   "source": [
    "dataset = genelate_data(1024, n_feature=n_feature)\n",
    "# data split\n",
    "n_train = int(0.7*len(dataset[0]))\n",
    "X_train, y_train, sensi_train = map(lambda x : x[:n_train], dataset)\n",
    "X_test, y_test, sensi_test = map(lambda x : x[n_train:], dataset)"
   ]
  },
  {
   "cell_type": "markdown",
   "metadata": {},
   "source": [
    "## train model"
   ]
  },
  {
   "cell_type": "code",
   "execution_count": 10,
   "metadata": {},
   "outputs": [
    {
     "name": "stdout",
     "output_type": "stream",
     "text": [
      "acc test:  0.9155844449996948\n",
      "gap of expected values:  0.4212213456630707\n"
     ]
    },
    {
     "name": "stderr",
     "output_type": "stream",
     "text": [
      "/opt/conda/lib/python3.8/site-packages/torch/autograd/__init__.py:130: UserWarning: CUDA initialization: Found no NVIDIA driver on your system. Please check that you have an NVIDIA GPU and installed a driver from http://www.nvidia.com/Download/index.aspx (Triggered internally at  /pytorch/c10/cuda/CUDAFunctions.cpp:100.)\n",
      "  Variable._execution_engine.run_backward(\n"
     ]
    }
   ],
   "source": [
    "model = nn.Sequential(nn.Linear(n_feature,1))\n",
    "\n",
    "\n",
    "criterion = nn.BCEWithLogitsLoss()\n",
    "optimizer = optim.SGD(model.parameters(),lr=0.1)\n",
    "\n",
    "for i in range(0, 200):\n",
    "    optimizer.zero_grad()    \n",
    "    logit = model(X_train)\n",
    "    loss = criterion(logit.view(-1), y_train)\n",
    "    \n",
    "    loss.backward()\n",
    "    optimizer.step()\n",
    "y_pred = (torch.sigmoid(model(X_test)).view(-1) > 0.5 ).float()\n",
    "acc_test = (y_pred  == y_test ).float().mean().item()\n",
    "\n",
    "print(\"acc test: \",acc_test)\n",
    "\n",
    "acc_test_vanilla = acc_test\n",
    "\n",
    "gap_vanilla = np.abs(y_pred[sensi_test==0].mean().item() - y_pred[sensi_test==1].mean().item())\n",
    "print(\"gap of expected values: \", gap_vanilla)"
   ]
  },
  {
   "cell_type": "markdown",
   "metadata": {},
   "source": [
    "### demographic parity"
   ]
  },
  {
   "cell_type": "code",
   "execution_count": 15,
   "metadata": {},
   "outputs": [
    {
     "name": "stdout",
     "output_type": "stream",
     "text": [
      "acc test:  0.8214285969734192\n",
      "gap of expected values:  0.1309041678905487\n"
     ]
    }
   ],
   "source": [
    "\n",
    "dim_hiden = 32\n",
    "model = nn.Sequential(nn.Linear(n_feature,1))\n",
    "\n",
    "dp_loss = DemographicParityLoss(sensitive_classes=[0, 1], alpha=100) # constraint \n",
    "optimizer = optim.SGD(model.parameters(),lr=0.1)\n",
    "\n",
    "\n",
    "\n",
    "# train \n",
    "for i in range(0, 100):\n",
    "    optimizer.zero_grad()    \n",
    "    logit = model(X_train)\n",
    "    loss = criterion(logit.view(-1), y_train)\n",
    "    loss +=  dp_loss(X_train, logit, sensi_train) # add constraint\n",
    "    loss.backward()\n",
    "    optimizer.step()\n",
    "y_pred = (torch.sigmoid(model(X_test)).view(-1) > 0.5 ).float()\n",
    "acc_test = (y_pred  == y_test ).float().mean().float().item()\n",
    "\n",
    "print(\"acc test: \",acc_test)\n",
    "\n",
    "acc_test_vanilla = acc_test\n",
    "\n",
    "gap_dp = np.abs(y_pred[sensi_test==0].mean().item() - y_pred[sensi_test==1].mean().item())\n",
    "print(\"gap of expected values: \", gap_dp)"
   ]
  },
  {
   "cell_type": "code",
   "execution_count": null,
   "metadata": {},
   "outputs": [],
   "source": []
  }
 ],
 "metadata": {
  "kernelspec": {
   "display_name": "Python 3",
   "language": "python",
   "name": "python3"
  },
  "language_info": {
   "codemirror_mode": {
    "name": "ipython",
    "version": 3
   },
   "file_extension": ".py",
   "mimetype": "text/x-python",
   "name": "python",
   "nbconvert_exporter": "python",
   "pygments_lexer": "ipython3",
   "version": "3.8.6"
  }
 },
 "nbformat": 4,
 "nbformat_minor": 4
}
