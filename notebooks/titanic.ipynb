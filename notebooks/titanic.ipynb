{
 "cells": [
  {
   "cell_type": "markdown",
   "metadata": {},
   "source": [
    "# import "
   ]
  },
  {
   "cell_type": "code",
   "execution_count": 1,
   "metadata": {},
   "outputs": [],
   "source": [
    "import os\n",
    "import sys \n",
    "\n",
    "import numpy as np\n",
    "import pandas as pd \n",
    "import matplotlib.pyplot as plt \n",
    "\n",
    "import torch\n",
    "from torch import nn \n",
    "from torch.utils.data import DataLoader, Dataset\n",
    "import torch.optim as optim\n",
    "import torch.nn.functional as F\n",
    "from torch.optim.lr_scheduler import ReduceLROnPlateau\n",
    "\n",
    "from sklearn.model_selection import StratifiedKFold\n",
    "from sklearn.metrics import roc_auc_score, accuracy_score\n",
    "\n",
    "\n",
    "from pytorch_tabnet.pretraining import TabNetPretrainer\n",
    "from pytorch_tabnet.tab_model import TabNetRegressor\n",
    "from pytorch_tabnet.tab_model import TabNetClassifier\n",
    "\n",
    "import lightgbm as lgb\n",
    "\n",
    "from utils.util import seed_everything"
   ]
  },
  {
   "cell_type": "code",
   "execution_count": 10,
   "metadata": {},
   "outputs": [],
   "source": [
    "INPUT_PATH = '/working/input'\n",
    "OUTPUT_PATH = '/working/ouput'\n",
    "\n",
    "train = pd.read_csv(os.path.join(INPUT_PATH,'train.csv'))\n",
    "test = pd.read_csv(os.path.join(INPUT_PATH,'test.csv'))\n"
   ]
  },
  {
   "cell_type": "code",
   "execution_count": 11,
   "metadata": {},
   "outputs": [],
   "source": [
    "seed_everything(seed_value=42)"
   ]
  },
  {
   "cell_type": "markdown",
   "metadata": {},
   "source": [
    "# Preprocess"
   ]
  },
  {
   "cell_type": "code",
   "execution_count": 12,
   "metadata": {},
   "outputs": [],
   "source": [
    "n_train = len(train)\n",
    "data = pd.concat([train,test],sort=False).reset_index(drop=True)"
   ]
  },
  {
   "cell_type": "code",
   "execution_count": 13,
   "metadata": {},
   "outputs": [],
   "source": [
    "data['Sex']=data['Sex'].replace(['male','female'],[0,1])\n",
    "data['Embarked'] =  data['Embarked'].fillna(('S'))\n",
    "data['Embarked'] =  data['Embarked'].map({'S':0,'C':1,'Q':2}).astype(int)\n",
    "data['Fare'] = data['Fare'].fillna(np.mean(data['Fare']))\n",
    "data['Age'] = data['Age'].fillna(data['Age'].median())"
   ]
  },
  {
   "cell_type": "code",
   "execution_count": 14,
   "metadata": {},
   "outputs": [],
   "source": [
    "del_col = ['Name','PassengerId','Ticket','Cabin']\n",
    "data.drop(del_col, axis=1, inplace=True)"
   ]
  },
  {
   "cell_type": "code",
   "execution_count": 15,
   "metadata": {},
   "outputs": [],
   "source": [
    "train = data[:n_train].reset_index(drop=True)\n",
    "test = data[n_train:].reset_index(drop=True)"
   ]
  },
  {
   "cell_type": "markdown",
   "metadata": {},
   "source": [
    "# Feature cols"
   ]
  },
  {
   "cell_type": "code",
   "execution_count": 17,
   "metadata": {},
   "outputs": [],
   "source": [
    "feature_col = [col for col in train.columns.tolist() if col != 'Survived']"
   ]
  },
  {
   "cell_type": "markdown",
   "metadata": {},
   "source": [
    "Define categorical features for categorical embeddings "
   ]
  },
  {
   "cell_type": "code",
   "execution_count": 18,
   "metadata": {},
   "outputs": [
    {
     "data": {
      "text/plain": [
       "['Pclass', 'Sex', 'Age', 'SibSp', 'Parch', 'Fare', 'Embarked']"
      ]
     },
     "execution_count": 18,
     "metadata": {},
     "output_type": "execute_result"
    }
   ],
   "source": [
    "feature_col"
   ]
  },
  {
   "cell_type": "code",
   "execution_count": 19,
   "metadata": {},
   "outputs": [],
   "source": [
    "cate_cols = ['Pclass','Sex','SibSp','Parch','Embarked']\n",
    "\n",
    "cate_dims = {}\n",
    "\n",
    "for col in cate_cols:\n",
    "    cate_dims[col] = train[col].unique()"
   ]
  },
  {
   "cell_type": "code",
   "execution_count": 23,
   "metadata": {},
   "outputs": [],
   "source": [
    "cat_idxs = [i for i, f in enumerate(feature_col) if f in cate_cols]\n",
    "cat_dims = [cate_dims[f] for i, f in enumerate(feature_col) if f in cate_cols]"
   ]
  },
  {
   "cell_type": "markdown",
   "metadata": {},
   "source": [
    "# TabNet Pretraining"
   ]
  },
  {
   "cell_type": "code",
   "execution_count": 25,
   "metadata": {},
   "outputs": [],
   "source": [
    "tabnet_params = dict(n_d=8, n_a=8, n_steps=3, gamma=1.3,\n",
    "                     n_independent=2, n_shared=2,\n",
    "                     seed=42, lambda_sparse=1e-3, \n",
    "                     optimizer_fn=torch.optim.Adam, \n",
    "                     optimizer_params=dict(lr=2e-2),\n",
    "                     mask_type=\"entmax\",\n",
    "                     scheduler_params=dict(mode=\"min\",\n",
    "                                           patience=5,\n",
    "                                           min_lr=1e-5,\n",
    "                                           factor=0.9,),\n",
    "                     scheduler_fn=torch.optim.lr_scheduler.ReduceLROnPlateau,\n",
    "                     verbose=10\n",
    "                    )"
   ]
  },
  {
   "cell_type": "code",
   "execution_count": 26,
   "metadata": {},
   "outputs": [
    {
     "name": "stdout",
     "output_type": "stream",
     "text": [
      "Device used : cpu\n",
      "epoch 0  | loss: 4.22455 | val_0_unsup_loss: 20.43877|  0:00:00s\n",
      "epoch 10 | loss: 1.69857 | val_0_unsup_loss: 2.50951 |  0:00:04s\n",
      "epoch 20 | loss: 1.21721 | val_0_unsup_loss: 1.44622 |  0:00:08s\n",
      "epoch 30 | loss: 0.81575 | val_0_unsup_loss: 1.23545 |  0:00:12s\n",
      "epoch 40 | loss: 0.92009 | val_0_unsup_loss: 1.19396 |  0:00:16s\n",
      "epoch 50 | loss: 0.85539 | val_0_unsup_loss: 1.11022 |  0:00:21s\n",
      "epoch 60 | loss: 0.8575  | val_0_unsup_loss: 1.0535  |  0:00:25s\n",
      "epoch 70 | loss: 0.87378 | val_0_unsup_loss: 1.02438 |  0:00:29s\n",
      "epoch 80 | loss: 0.93344 | val_0_unsup_loss: 1.0308  |  0:00:33s\n",
      "epoch 90 | loss: 0.84047 | val_0_unsup_loss: 0.97811 |  0:00:37s\n",
      "epoch 100| loss: 0.89844 | val_0_unsup_loss: 0.94757 |  0:00:41s\n",
      "epoch 110| loss: 0.75359 | val_0_unsup_loss: 0.93703 |  0:00:45s\n",
      "epoch 120| loss: 0.77009 | val_0_unsup_loss: 0.93611 |  0:00:49s\n",
      "\n",
      "Early stopping occured at epoch 126 with best_epoch = 106 and best_val_0_unsup_loss = 0.90037\n",
      "Best weights from best epoch are automatically used!\n"
     ]
    }
   ],
   "source": [
    "pretrainer = TabNetPretrainer(**tabnet_params)\n",
    "\n",
    "pretrainer.fit(\n",
    "        X_train=train.drop('Survived',axis=1).values,\n",
    "        eval_set=[train.drop('Survived',axis=1).values],\n",
    "        max_epochs=200,\n",
    "        patience=20,\n",
    "        batch_size=256,\n",
    "        virtual_batch_size=128,\n",
    "        num_workers=1,\n",
    "        drop_last=True\n",
    ")"
   ]
  },
  {
   "cell_type": "markdown",
   "metadata": {},
   "source": [
    "# Make Folds"
   ]
  },
  {
   "cell_type": "code",
   "execution_count": 28,
   "metadata": {},
   "outputs": [],
   "source": [
    "skf = StratifiedKFold(n_splits=5)\n",
    "for i, (trn_idx, val_idx) in enumerate(skf.split(train.drop('Survived',axis=1), train['Survived'])):\n",
    "    train.loc[val_idx,'fold'] = int(i)"
   ]
  },
  {
   "cell_type": "markdown",
   "metadata": {},
   "source": [
    "# Tabnet Training"
   ]
  },
  {
   "cell_type": "code",
   "execution_count": 40,
   "metadata": {},
   "outputs": [
    {
     "name": "stdout",
     "output_type": "stream",
     "text": [
      "FOLD: 0\n",
      "Device used : cpu\n",
      "Loading weights from unsupervised pretraining\n"
     ]
    },
    {
     "name": "stderr",
     "output_type": "stream",
     "text": [
      "/opt/conda/lib/python3.8/site-packages/pytorch_tabnet/abstract_model.py:96: UserWarning: Pretraining: cat_dims changed from [array([3, 1, 2]), array([0, 1]), array([1, 0, 3, 4, 2, 5, 8]), array([0, 1, 2, 5, 3, 4, 6]), array([0, 1, 2])] to []\n",
      "  warnings.warn(wrn_msg)\n",
      "/opt/conda/lib/python3.8/site-packages/pytorch_tabnet/abstract_model.py:96: UserWarning: Pretraining: cat_idxs changed from [0, 1, 3, 4, 6] to []\n",
      "  warnings.warn(wrn_msg)\n"
     ]
    },
    {
     "name": "stdout",
     "output_type": "stream",
     "text": [
      "epoch 0  | loss: 1.85153 | valid_auc: 0.54914 |  0:00:00s\n",
      "epoch 10 | loss: 0.58294 | valid_auc: 0.59321 |  0:00:01s\n",
      "epoch 20 | loss: 0.42628 | valid_auc: 0.78202 |  0:00:01s\n",
      "epoch 30 | loss: 0.37901 | valid_auc: 0.8469  |  0:00:02s\n",
      "epoch 40 | loss: 0.37052 | valid_auc: 0.84704 |  0:00:03s\n",
      "epoch 50 | loss: 0.39622 | valid_auc: 0.79183 |  0:00:04s\n",
      "epoch 60 | loss: 0.37375 | valid_auc: 0.8473  |  0:00:05s\n",
      "\n",
      "Early stopping occured at epoch 63 with best_epoch = 43 and best_valid_auc = 0.86535\n",
      "Best weights from best epoch are automatically used!\n",
      "FOLD: 1\n",
      "Device used : cpu\n",
      "Loading weights from unsupervised pretraining\n"
     ]
    },
    {
     "name": "stderr",
     "output_type": "stream",
     "text": [
      "/opt/conda/lib/python3.8/site-packages/pytorch_tabnet/abstract_model.py:96: UserWarning: Pretraining: cat_dims changed from [array([3, 1, 2]), array([0, 1]), array([1, 0, 3, 4, 2, 5, 8]), array([0, 1, 2, 5, 3, 4, 6]), array([0, 1, 2])] to []\n",
      "  warnings.warn(wrn_msg)\n",
      "/opt/conda/lib/python3.8/site-packages/pytorch_tabnet/abstract_model.py:96: UserWarning: Pretraining: cat_idxs changed from [0, 1, 3, 4, 6] to []\n",
      "  warnings.warn(wrn_msg)\n"
     ]
    },
    {
     "name": "stdout",
     "output_type": "stream",
     "text": [
      "epoch 0  | loss: 1.8748  | valid_auc: 0.67005 |  0:00:00s\n",
      "epoch 10 | loss: 0.60845 | valid_auc: 0.71818 |  0:00:01s\n",
      "epoch 20 | loss: 0.41081 | valid_auc: 0.81444 |  0:00:02s\n",
      "epoch 30 | loss: 0.361   | valid_auc: 0.79786 |  0:00:03s\n",
      "\n",
      "Early stopping occured at epoch 39 with best_epoch = 19 and best_valid_auc = 0.82273\n",
      "Best weights from best epoch are automatically used!\n",
      "FOLD: 2\n",
      "Device used : cpu\n",
      "Loading weights from unsupervised pretraining\n"
     ]
    },
    {
     "name": "stderr",
     "output_type": "stream",
     "text": [
      "/opt/conda/lib/python3.8/site-packages/pytorch_tabnet/abstract_model.py:96: UserWarning: Pretraining: cat_dims changed from [array([3, 1, 2]), array([0, 1]), array([1, 0, 3, 4, 2, 5, 8]), array([0, 1, 2, 5, 3, 4, 6]), array([0, 1, 2])] to []\n",
      "  warnings.warn(wrn_msg)\n",
      "/opt/conda/lib/python3.8/site-packages/pytorch_tabnet/abstract_model.py:96: UserWarning: Pretraining: cat_idxs changed from [0, 1, 3, 4, 6] to []\n",
      "  warnings.warn(wrn_msg)\n"
     ]
    },
    {
     "name": "stdout",
     "output_type": "stream",
     "text": [
      "epoch 0  | loss: 1.84117 | valid_auc: 0.59051 |  0:00:00s\n",
      "epoch 10 | loss: 0.6066  | valid_auc: 0.74806 |  0:00:01s\n",
      "epoch 20 | loss: 0.4238  | valid_auc: 0.826   |  0:00:01s\n",
      "epoch 30 | loss: 0.40128 | valid_auc: 0.81544 |  0:00:02s\n",
      "epoch 40 | loss: 0.38532 | valid_auc: 0.8377  |  0:00:03s\n",
      "epoch 50 | loss: 0.37821 | valid_auc: 0.826   |  0:00:04s\n",
      "epoch 60 | loss: 0.3547  | valid_auc: 0.86745 |  0:00:05s\n",
      "epoch 70 | loss: 0.34897 | valid_auc: 0.87233 |  0:00:06s\n",
      "epoch 80 | loss: 0.35658 | valid_auc: 0.85802 |  0:00:06s\n",
      "\n",
      "Early stopping occured at epoch 82 with best_epoch = 62 and best_valid_auc = 0.88202\n",
      "Best weights from best epoch are automatically used!\n",
      "FOLD: 3\n",
      "Device used : cpu\n",
      "Loading weights from unsupervised pretraining\n"
     ]
    },
    {
     "name": "stderr",
     "output_type": "stream",
     "text": [
      "/opt/conda/lib/python3.8/site-packages/pytorch_tabnet/abstract_model.py:96: UserWarning: Pretraining: cat_dims changed from [array([3, 1, 2]), array([0, 1]), array([1, 0, 3, 4, 2, 5, 8]), array([0, 1, 2, 5, 3, 4, 6]), array([0, 1, 2])] to []\n",
      "  warnings.warn(wrn_msg)\n",
      "/opt/conda/lib/python3.8/site-packages/pytorch_tabnet/abstract_model.py:96: UserWarning: Pretraining: cat_idxs changed from [0, 1, 3, 4, 6] to []\n",
      "  warnings.warn(wrn_msg)\n"
     ]
    },
    {
     "name": "stdout",
     "output_type": "stream",
     "text": [
      "epoch 0  | loss: 1.85323 | valid_auc: 0.61705 |  0:00:00s\n",
      "epoch 10 | loss: 0.61379 | valid_auc: 0.74719 |  0:00:01s\n",
      "epoch 20 | loss: 0.41736 | valid_auc: 0.83656 |  0:00:02s\n",
      "epoch 30 | loss: 0.38189 | valid_auc: 0.83676 |  0:00:03s\n",
      "epoch 40 | loss: 0.39883 | valid_auc: 0.80856 |  0:00:04s\n",
      "\n",
      "Early stopping occured at epoch 45 with best_epoch = 25 and best_valid_auc = 0.89559\n",
      "Best weights from best epoch are automatically used!\n",
      "FOLD: 4\n",
      "Device used : cpu\n",
      "Loading weights from unsupervised pretraining\n"
     ]
    },
    {
     "name": "stderr",
     "output_type": "stream",
     "text": [
      "/opt/conda/lib/python3.8/site-packages/pytorch_tabnet/abstract_model.py:96: UserWarning: Pretraining: cat_dims changed from [array([3, 1, 2]), array([0, 1]), array([1, 0, 3, 4, 2, 5, 8]), array([0, 1, 2, 5, 3, 4, 6]), array([0, 1, 2])] to []\n",
      "  warnings.warn(wrn_msg)\n",
      "/opt/conda/lib/python3.8/site-packages/pytorch_tabnet/abstract_model.py:96: UserWarning: Pretraining: cat_idxs changed from [0, 1, 3, 4, 6] to []\n",
      "  warnings.warn(wrn_msg)\n"
     ]
    },
    {
     "name": "stdout",
     "output_type": "stream",
     "text": [
      "epoch 0  | loss: 1.86898 | valid_auc: 0.60231 |  0:00:00s\n",
      "epoch 10 | loss: 0.62353 | valid_auc: 0.76645 |  0:00:01s\n",
      "epoch 20 | loss: 0.45364 | valid_auc: 0.86757 |  0:00:02s\n",
      "epoch 30 | loss: 0.39923 | valid_auc: 0.89602 |  0:00:02s\n",
      "epoch 40 | loss: 0.38689 | valid_auc: 0.88592 |  0:00:03s\n",
      "epoch 50 | loss: 0.3777  | valid_auc: 0.86451 |  0:00:04s\n",
      "epoch 60 | loss: 0.38406 | valid_auc: 0.88313 |  0:00:05s\n",
      "\n",
      "Early stopping occured at epoch 66 with best_epoch = 46 and best_valid_auc = 0.90467\n",
      "Best weights from best epoch are automatically used!\n"
     ]
    }
   ],
   "source": [
    "\n",
    "oof = np.zeros((len(train),))\n",
    "test_preds_all = np.zeros((len(test),))\n",
    "models = []\n",
    "\n",
    "for fold_num in range(5):\n",
    "    trn_idx = train[train.fold != fold_num].index\n",
    "    val_idx = train[train.fold == fold_num].index\n",
    "    print(f\"FOLD: {fold_num}\")\n",
    "    \n",
    "    X_train, y_train = train[feature_col].values[trn_idx],  train['Survived'].values[trn_idx]\n",
    "    X_valid, y_valid = train[feature_col].values[val_idx], train['Survived'].values[val_idx]\n",
    "    \n",
    "    tabnet_params = dict(n_d=8, n_a=8, n_steps=3, gamma=1.3,\n",
    "                     n_independent=2, n_shared=2,\n",
    "                     seed=42, lambda_sparse=1e-3,\n",
    "                     optimizer_fn=torch.optim.Adam,\n",
    "                     optimizer_params=dict(lr=2e-2,\n",
    "                                           weight_decay=1e-5\n",
    "                                          ),\n",
    "                     mask_type=\"entmax\",\n",
    "                     scheduler_params=dict(max_lr=0.05,\n",
    "                                           steps_per_epoch=int(X_train.shape[0] / 256),\n",
    "                                           epochs=200,\n",
    "                                           is_batch_level=True\n",
    "                                          ),\n",
    "                     scheduler_fn=torch.optim.lr_scheduler.OneCycleLR,\n",
    "                     verbose=10,\n",
    "                     cat_idxs=cat_idxs, # comment out when Unsupervised\n",
    "                     cat_dims=cat_dims, # comment out when Unsupervised\n",
    "                     cat_emb_dim=1 # comment out when Unsupervised\n",
    "                    )\n",
    "    model = TabNetClassifier(**tabnet_params)\n",
    "    model.fit(X_train=X_train,\n",
    "              y_train=y_train,\n",
    "              eval_set=[(X_valid, y_valid)],\n",
    "              eval_name = [\"valid\"],\n",
    "              eval_metric = [\"auc\"],\n",
    "              max_epochs=200,\n",
    "              patience=20, batch_size=256, virtual_batch_size=128,\n",
    "              num_workers=0, drop_last=False,\n",
    "              from_unsupervised=pretrainer # comment out when Unsupervised\n",
    "             )\n",
    "    \n",
    "    oof[val_idx] = model.predict(X_valid)\n",
    "    models.append(model)\n",
    "    pred_test = model.predict(test[feature_col].values)\n",
    "    test_preds_all += preds_test / 5\n",
    "\n"
   ]
  },
  {
   "cell_type": "markdown",
   "metadata": {},
   "source": [
    "# Metric"
   ]
  },
  {
   "cell_type": "code",
   "execution_count": 47,
   "metadata": {},
   "outputs": [
    {
     "name": "stdout",
     "output_type": "stream",
     "text": [
      "ROC-AUC\n",
      "0.781564567155594\n",
      "Accuracy\n",
      "0.813692480359147\n",
      "ROC-AUC test\n",
      "Accuracy test\n",
      "0.813692480359147\n"
     ]
    }
   ],
   "source": [
    "print('ROC-AUC')\n",
    "print(roc_auc_score(train['Survived'].ravel(), oof.ravel()))\n",
    "print('Accuracy')\n",
    "print(accuracy_score(train['Survived'].ravel(), (oof >0.5).astype('int').ravel()))\n",
    "print('ROC-AUC test')"
   ]
  },
  {
   "cell_type": "markdown",
   "metadata": {},
   "source": [
    "# Global Explainability: feature importance"
   ]
  },
  {
   "cell_type": "code",
   "execution_count": 53,
   "metadata": {},
   "outputs": [
    {
     "data": {
      "image/png": "[encoded data removed]",
      "text/plain": [
       "<Figure size 432x288 with 1 Axes>"
      ]
     },
     "metadata": {
      "needs_background": "light"
     },
     "output_type": "display_data"
    }
   ],
   "source": [
    "for fold_num, model in enumerate(models):\n",
    "    # Feature Importance\n",
    "    feat_imp_fold = pd.DataFrame(model.feature_importances_,index=feature_col, columns= [f'imp_{fold_num}'])\n",
    "    if fold_num == 0:\n",
    "        feature_importance = feat_imp_fold.copy()\n",
    "    else:\n",
    "        feature_importance = pd.concat([feature_importance, feat_imp_fold], axis=1)\n",
    "        \n",
    "\n",
    "feature_importance['imp_mean'] = feature_importance.mean(axis=1)\n",
    "plt.tick_params(labelsize=18)\n",
    "plt.barh(feature_importance.index.values,feature_importance['imp_mean']);\n",
    "plt.title('feature_importance',fontsize=18);"
   ]
  },
  {
   "cell_type": "code",
   "execution_count": 54,
   "metadata": {},
   "outputs": [
    {
     "data": {
      "text/html": [
       "<div>\n",
       "<style scoped>\n",
       "    .dataframe tbody tr th:only-of-type {\n",
       "        vertical-align: middle;\n",
       "    }\n",
       "\n",
       "    .dataframe tbody tr th {\n",
       "        vertical-align: top;\n",
       "    }\n",
       "\n",
       "    .dataframe thead th {\n",
       "        text-align: right;\n",
       "    }\n",
       "</style>\n",
       "<table border=\"1\" class=\"dataframe\">\n",
       "  <thead>\n",
       "    <tr style=\"text-align: right;\">\n",
       "      <th></th>\n",
       "      <th>imp_0</th>\n",
       "      <th>imp_1</th>\n",
       "      <th>imp_2</th>\n",
       "      <th>imp_3</th>\n",
       "      <th>imp_4</th>\n",
       "      <th>imp_mean</th>\n",
       "    </tr>\n",
       "  </thead>\n",
       "  <tbody>\n",
       "    <tr>\n",
       "      <th>Pclass</th>\n",
       "      <td>0.166779</td>\n",
       "      <td>0.205544</td>\n",
       "      <td>0.221500</td>\n",
       "      <td>0.186626</td>\n",
       "      <td>0.160964</td>\n",
       "      <td>0.188283</td>\n",
       "    </tr>\n",
       "    <tr>\n",
       "      <th>Sex</th>\n",
       "      <td>0.205414</td>\n",
       "      <td>0.163410</td>\n",
       "      <td>0.250233</td>\n",
       "      <td>0.199747</td>\n",
       "      <td>0.278334</td>\n",
       "      <td>0.219428</td>\n",
       "    </tr>\n",
       "    <tr>\n",
       "      <th>Age</th>\n",
       "      <td>0.112469</td>\n",
       "      <td>0.153309</td>\n",
       "      <td>0.218014</td>\n",
       "      <td>0.207240</td>\n",
       "      <td>0.186780</td>\n",
       "      <td>0.175562</td>\n",
       "    </tr>\n",
       "    <tr>\n",
       "      <th>SibSp</th>\n",
       "      <td>0.082567</td>\n",
       "      <td>0.097046</td>\n",
       "      <td>0.096862</td>\n",
       "      <td>0.148652</td>\n",
       "      <td>0.125677</td>\n",
       "      <td>0.110161</td>\n",
       "    </tr>\n",
       "    <tr>\n",
       "      <th>Parch</th>\n",
       "      <td>0.081826</td>\n",
       "      <td>0.035052</td>\n",
       "      <td>0.052029</td>\n",
       "      <td>0.028617</td>\n",
       "      <td>0.046823</td>\n",
       "      <td>0.048869</td>\n",
       "    </tr>\n",
       "    <tr>\n",
       "      <th>Fare</th>\n",
       "      <td>0.204957</td>\n",
       "      <td>0.284996</td>\n",
       "      <td>0.131835</td>\n",
       "      <td>0.219287</td>\n",
       "      <td>0.198966</td>\n",
       "      <td>0.208008</td>\n",
       "    </tr>\n",
       "    <tr>\n",
       "      <th>Embarked</th>\n",
       "      <td>0.145988</td>\n",
       "      <td>0.060644</td>\n",
       "      <td>0.029527</td>\n",
       "      <td>0.009831</td>\n",
       "      <td>0.002457</td>\n",
       "      <td>0.049689</td>\n",
       "    </tr>\n",
       "  </tbody>\n",
       "</table>\n",
       "</div>"
      ],
      "text/plain": [
       "             imp_0     imp_1     imp_2     imp_3     imp_4  imp_mean\n",
       "Pclass    0.166779  0.205544  0.221500  0.186626  0.160964  0.188283\n",
       "Sex       0.205414  0.163410  0.250233  0.199747  0.278334  0.219428\n",
       "Age       0.112469  0.153309  0.218014  0.207240  0.186780  0.175562\n",
       "SibSp     0.082567  0.097046  0.096862  0.148652  0.125677  0.110161\n",
       "Parch     0.081826  0.035052  0.052029  0.028617  0.046823  0.048869\n",
       "Fare      0.204957  0.284996  0.131835  0.219287  0.198966  0.208008\n",
       "Embarked  0.145988  0.060644  0.029527  0.009831  0.002457  0.049689"
      ]
     },
     "execution_count": 54,
     "metadata": {},
     "output_type": "execute_result"
    }
   ],
   "source": [
    "feature_importance"
   ]
  },
  {
   "cell_type": "markdown",
   "metadata": {},
   "source": [
    "# Local explainability and masks"
   ]
  },
  {
   "cell_type": "code",
   "execution_count": 57,
   "metadata": {},
   "outputs": [],
   "source": [
    "explain_matrix, masks = model.explain(test[feature_col].values)"
   ]
  },
  {
   "cell_type": "code",
   "execution_count": 64,
   "metadata": {},
   "outputs": [
    {
     "data": {
      "image/png": "[encoded data removed]",
      "text/plain": [
       "<Figure size 720x504 with 3 Axes>"
      ]
     },
     "metadata": {
      "needs_background": "light"
     },
     "output_type": "display_data"
    }
   ],
   "source": [
    "fig, axs = plt.subplots(1, 3, figsize=(10,7))\n",
    "\n",
    "for i in range(3):\n",
    "    axs[i].imshow(masks[i][:10])\n",
    "    axs[i].set_title(f\"mask {i}\")\n"
   ]
  },
  {
   "cell_type": "code",
   "execution_count": null,
   "metadata": {},
   "outputs": [],
   "source": []
  }
 ],
 "metadata": {
  "kernelspec": {
   "display_name": "Python 3",
   "language": "python",
   "name": "python3"
  },
  "language_info": {
   "codemirror_mode": {
    "name": "ipython",
    "version": 3
   },
   "file_extension": ".py",
   "mimetype": "text/x-python",
   "name": "python",
   "nbconvert_exporter": "python",
   "pygments_lexer": "ipython3",
   "version": "3.8.6"
  }
 },
 "nbformat": 4,
 "nbformat_minor": 4
}
