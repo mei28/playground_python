{
 "cells": [
  {
   "cell_type": "markdown",
   "metadata": {},
   "source": [
    "# import "
   ]
  },
  {
   "cell_type": "code",
   "execution_count": 1,
   "metadata": {},
   "outputs": [],
   "source": [
    "import os\n",
    "import sys \n",
    "\n",
    "import numpy as np\n",
    "import pandas as pd \n",
    "import matplotlib.pyplot as plt \n",
    "import seaborn as sns\n",
    "\n",
    "import torch\n",
    "from torch import nn \n",
    "from torch.utils.data import DataLoader, Dataset\n",
    "import torch.optim as optim\n",
    "import torch.nn.functional as F\n",
    "from torch.optim.lr_scheduler import ReduceLROnPlateau\n",
    "\n",
    "from sklearn.model_selection import StratifiedKFold\n",
    "from sklearn.metrics import roc_auc_score, accuracy_score\n",
    "\n",
    "\n",
    "from pytorch_tabnet.pretraining import TabNetPretrainer\n",
    "from pytorch_tabnet.tab_model import TabNetRegressor\n",
    "from pytorch_tabnet.tab_model import TabNetClassifier\n",
    "\n",
    "import lightgbm as lgb\n",
    "\n",
    "from utils.util import seed_everything"
   ]
  },
  {
   "cell_type": "code",
   "execution_count": 2,
   "metadata": {},
   "outputs": [],
   "source": [
    "INPUT_PATH = '/working/input/titanic'\n",
    "OUTPUT_PATH = '/working/output'\n",
    "\n",
    "train = pd.read_csv(os.path.join(INPUT_PATH,'train.csv'))\n",
    "test = pd.read_csv(os.path.join(INPUT_PATH,'test.csv'))\n"
   ]
  },
  {
   "cell_type": "code",
   "execution_count": 3,
   "metadata": {},
   "outputs": [
    {
     "name": "stderr",
     "output_type": "stream",
     "text": [
      "/opt/conda/lib/python3.8/site-packages/torch/cuda/__init__.py:52: UserWarning: CUDA initialization: Found no NVIDIA driver on your system. Please check that you have an NVIDIA GPU and installed a driver from http://www.nvidia.com/Download/index.aspx (Triggered internally at  /pytorch/c10/cuda/CUDAFunctions.cpp:100.)\n",
      "  return torch._C._cuda_getDeviceCount() > 0\n"
     ]
    }
   ],
   "source": [
    "seed_everything(seed_value=42)"
   ]
  },
  {
   "cell_type": "markdown",
   "metadata": {},
   "source": [
    "# Preprocess"
   ]
  },
  {
   "cell_type": "code",
   "execution_count": 4,
   "metadata": {},
   "outputs": [],
   "source": [
    "n_train = len(train)\n",
    "data = pd.concat([train,test],sort=False).reset_index(drop=True)"
   ]
  },
  {
   "cell_type": "code",
   "execution_count": 5,
   "metadata": {},
   "outputs": [],
   "source": [
    "data['Sex']=data['Sex'].replace(['male','female'],[0,1])\n",
    "data['Embarked'] =  data['Embarked'].fillna(('S'))\n",
    "data['Embarked'] =  data['Embarked'].map({'S':0,'C':1,'Q':2}).astype(int)\n",
    "data['Fare'] = data['Fare'].fillna(np.mean(data['Fare']))\n",
    "data['Age'] = data['Age'].fillna(data['Age'].median())"
   ]
  },
  {
   "cell_type": "code",
   "execution_count": 6,
   "metadata": {},
   "outputs": [],
   "source": [
    "del_col = ['Name','PassengerId','Ticket','Cabin']\n",
    "data.drop(del_col, axis=1, inplace=True)"
   ]
  },
  {
   "cell_type": "code",
   "execution_count": 7,
   "metadata": {},
   "outputs": [],
   "source": [
    "train = data[:n_train].reset_index(drop=True)\n",
    "test = data[n_train:].reset_index(drop=True)"
   ]
  },
  {
   "cell_type": "markdown",
   "metadata": {},
   "source": [
    "# Feature cols"
   ]
  },
  {
   "cell_type": "code",
   "execution_count": 8,
   "metadata": {},
   "outputs": [],
   "source": [
    "feature_col = [col for col in train.columns.tolist() if col != 'Survived']"
   ]
  },
  {
   "cell_type": "markdown",
   "metadata": {},
   "source": [
    "Define categorical features for categorical embeddings "
   ]
  },
  {
   "cell_type": "code",
   "execution_count": 9,
   "metadata": {},
   "outputs": [
    {
     "data": {
      "text/plain": [
       "['Pclass', 'Sex', 'Age', 'SibSp', 'Parch', 'Fare', 'Embarked']"
      ]
     },
     "execution_count": 9,
     "metadata": {},
     "output_type": "execute_result"
    }
   ],
   "source": [
    "feature_col"
   ]
  },
  {
   "cell_type": "code",
   "execution_count": 10,
   "metadata": {},
   "outputs": [],
   "source": [
    "cate_cols = ['Pclass','Sex','SibSp','Parch','Embarked']\n",
    "\n",
    "cate_dims = {}\n",
    "\n",
    "for col in cate_cols:\n",
    "    cate_dims[col] = train[col].unique()"
   ]
  },
  {
   "cell_type": "code",
   "execution_count": 11,
   "metadata": {},
   "outputs": [],
   "source": [
    "cat_idxs = [i for i, f in enumerate(feature_col) if f in cate_cols]\n",
    "cat_dims = [cate_dims[f] for i, f in enumerate(feature_col) if f in cate_cols]"
   ]
  },
  {
   "cell_type": "markdown",
   "metadata": {},
   "source": [
    "# TabNet Pretraining"
   ]
  },
  {
   "cell_type": "code",
   "execution_count": 12,
   "metadata": {},
   "outputs": [],
   "source": [
    "tabnet_params = dict(n_d=8, n_a=8, n_steps=3, gamma=1.3,\n",
    "                     n_independent=2, n_shared=2,\n",
    "                     seed=42, lambda_sparse=1e-3, \n",
    "                     optimizer_fn=torch.optim.Adam, \n",
    "                     optimizer_params=dict(lr=2e-2),\n",
    "                     mask_type=\"entmax\",\n",
    "                     scheduler_params=dict(mode=\"min\",\n",
    "                                           patience=5,\n",
    "                                           min_lr=1e-5,\n",
    "                                           factor=0.9,),\n",
    "                     scheduler_fn=torch.optim.lr_scheduler.ReduceLROnPlateau,\n",
    "                     verbose=10\n",
    "                    )"
   ]
  },
  {
   "cell_type": "code",
   "execution_count": 13,
   "metadata": {},
   "outputs": [
    {
     "name": "stdout",
     "output_type": "stream",
     "text": [
      "Device used : cpu\n",
      "epoch 0  | loss: 4.22455 | val_0_unsup_loss: 20.43877|  0:00:00s\n",
      "epoch 10 | loss: 1.69857 | val_0_unsup_loss: 2.50951 |  0:00:04s\n",
      "epoch 20 | loss: 1.21721 | val_0_unsup_loss: 1.44622 |  0:00:08s\n",
      "epoch 30 | loss: 0.81575 | val_0_unsup_loss: 1.23545 |  0:00:12s\n",
      "epoch 40 | loss: 0.92009 | val_0_unsup_loss: 1.19396 |  0:00:16s\n",
      "epoch 50 | loss: 0.85539 | val_0_unsup_loss: 1.11022 |  0:00:21s\n",
      "epoch 60 | loss: 0.8575  | val_0_unsup_loss: 1.0535  |  0:00:25s\n",
      "epoch 70 | loss: 0.87378 | val_0_unsup_loss: 1.02438 |  0:00:29s\n",
      "epoch 80 | loss: 0.93344 | val_0_unsup_loss: 1.0308  |  0:00:34s\n",
      "epoch 90 | loss: 0.84047 | val_0_unsup_loss: 0.97811 |  0:00:38s\n",
      "epoch 100| loss: 0.89844 | val_0_unsup_loss: 0.94757 |  0:00:43s\n",
      "epoch 110| loss: 0.75359 | val_0_unsup_loss: 0.93703 |  0:00:47s\n",
      "epoch 120| loss: 0.77009 | val_0_unsup_loss: 0.93611 |  0:00:52s\n",
      "\n",
      "Early stopping occured at epoch 126 with best_epoch = 106 and best_val_0_unsup_loss = 0.90037\n",
      "Best weights from best epoch are automatically used!\n"
     ]
    }
   ],
   "source": [
    "pretrainer = TabNetPretrainer(**tabnet_params)\n",
    "\n",
    "pretrainer.fit(\n",
    "        X_train=train.drop('Survived',axis=1).values,\n",
    "        eval_set=[train.drop('Survived',axis=1).values],\n",
    "        max_epochs=200,\n",
    "        patience=20,\n",
    "        batch_size=256,\n",
    "        virtual_batch_size=128,\n",
    "        num_workers=1,\n",
    "        drop_last=True\n",
    ")"
   ]
  },
  {
   "cell_type": "markdown",
   "metadata": {},
   "source": [
    "# Make Folds"
   ]
  },
  {
   "cell_type": "code",
   "execution_count": 14,
   "metadata": {},
   "outputs": [],
   "source": [
    "skf = StratifiedKFold(n_splits=5)\n",
    "for i, (trn_idx, val_idx) in enumerate(skf.split(train.drop('Survived',axis=1), train['Survived'])):\n",
    "    train.loc[val_idx,'fold'] = int(i)"
   ]
  },
  {
   "cell_type": "markdown",
   "metadata": {},
   "source": [
    "# Tabnet Training"
   ]
  },
  {
   "cell_type": "code",
   "execution_count": 15,
   "metadata": {},
   "outputs": [
    {
     "name": "stdout",
     "output_type": "stream",
     "text": [
      "FOLD: 0\n",
      "Device used : cpu\n",
      "Loading weights from unsupervised pretraining\n"
     ]
    },
    {
     "name": "stderr",
     "output_type": "stream",
     "text": [
      "/opt/conda/lib/python3.8/site-packages/pytorch_tabnet/abstract_model.py:96: UserWarning: Pretraining: cat_dims changed from [array([3, 1, 2]), array([0, 1]), array([1, 0, 3, 4, 2, 5, 8]), array([0, 1, 2, 5, 3, 4, 6]), array([0, 1, 2])] to []\n",
      "  warnings.warn(wrn_msg)\n",
      "/opt/conda/lib/python3.8/site-packages/pytorch_tabnet/abstract_model.py:96: UserWarning: Pretraining: cat_idxs changed from [0, 1, 3, 4, 6] to []\n",
      "  warnings.warn(wrn_msg)\n"
     ]
    },
    {
     "name": "stdout",
     "output_type": "stream",
     "text": [
      "epoch 0  | loss: 1.85153 | valid_auc: 0.54914 |  0:00:00s\n",
      "epoch 10 | loss: 0.58294 | valid_auc: 0.59321 |  0:00:01s\n",
      "epoch 20 | loss: 0.42628 | valid_auc: 0.78202 |  0:00:02s\n",
      "epoch 30 | loss: 0.37901 | valid_auc: 0.8469  |  0:00:03s\n",
      "epoch 40 | loss: 0.37052 | valid_auc: 0.84704 |  0:00:04s\n",
      "epoch 50 | loss: 0.39622 | valid_auc: 0.79183 |  0:00:05s\n",
      "epoch 60 | loss: 0.37375 | valid_auc: 0.8473  |  0:00:06s\n",
      "\n",
      "Early stopping occured at epoch 63 with best_epoch = 43 and best_valid_auc = 0.86535\n",
      "Best weights from best epoch are automatically used!\n",
      "FOLD: 1\n",
      "Device used : cpu\n",
      "Loading weights from unsupervised pretraining\n"
     ]
    },
    {
     "name": "stderr",
     "output_type": "stream",
     "text": [
      "/opt/conda/lib/python3.8/site-packages/pytorch_tabnet/abstract_model.py:96: UserWarning: Pretraining: cat_dims changed from [array([3, 1, 2]), array([0, 1]), array([1, 0, 3, 4, 2, 5, 8]), array([0, 1, 2, 5, 3, 4, 6]), array([0, 1, 2])] to []\n",
      "  warnings.warn(wrn_msg)\n",
      "/opt/conda/lib/python3.8/site-packages/pytorch_tabnet/abstract_model.py:96: UserWarning: Pretraining: cat_idxs changed from [0, 1, 3, 4, 6] to []\n",
      "  warnings.warn(wrn_msg)\n"
     ]
    },
    {
     "name": "stdout",
     "output_type": "stream",
     "text": [
      "epoch 0  | loss: 1.8748  | valid_auc: 0.67005 |  0:00:00s\n",
      "epoch 10 | loss: 0.60845 | valid_auc: 0.71818 |  0:00:01s\n",
      "epoch 20 | loss: 0.41081 | valid_auc: 0.81444 |  0:00:02s\n",
      "epoch 30 | loss: 0.361   | valid_auc: 0.79786 |  0:00:03s\n",
      "\n",
      "Early stopping occured at epoch 39 with best_epoch = 19 and best_valid_auc = 0.82273\n",
      "Best weights from best epoch are automatically used!\n",
      "FOLD: 2\n",
      "Device used : cpu\n",
      "Loading weights from unsupervised pretraining\n"
     ]
    },
    {
     "name": "stderr",
     "output_type": "stream",
     "text": [
      "/opt/conda/lib/python3.8/site-packages/pytorch_tabnet/abstract_model.py:96: UserWarning: Pretraining: cat_dims changed from [array([3, 1, 2]), array([0, 1]), array([1, 0, 3, 4, 2, 5, 8]), array([0, 1, 2, 5, 3, 4, 6]), array([0, 1, 2])] to []\n",
      "  warnings.warn(wrn_msg)\n",
      "/opt/conda/lib/python3.8/site-packages/pytorch_tabnet/abstract_model.py:96: UserWarning: Pretraining: cat_idxs changed from [0, 1, 3, 4, 6] to []\n",
      "  warnings.warn(wrn_msg)\n"
     ]
    },
    {
     "name": "stdout",
     "output_type": "stream",
     "text": [
      "epoch 0  | loss: 1.84117 | valid_auc: 0.59051 |  0:00:00s\n",
      "epoch 10 | loss: 0.6066  | valid_auc: 0.74806 |  0:00:01s\n",
      "epoch 20 | loss: 0.4238  | valid_auc: 0.826   |  0:00:02s\n",
      "epoch 30 | loss: 0.40128 | valid_auc: 0.81544 |  0:00:03s\n",
      "epoch 40 | loss: 0.38532 | valid_auc: 0.8377  |  0:00:04s\n",
      "epoch 50 | loss: 0.37821 | valid_auc: 0.826   |  0:00:04s\n",
      "epoch 60 | loss: 0.3547  | valid_auc: 0.86745 |  0:00:05s\n",
      "epoch 70 | loss: 0.34897 | valid_auc: 0.87233 |  0:00:06s\n",
      "epoch 80 | loss: 0.35658 | valid_auc: 0.85802 |  0:00:07s\n",
      "\n",
      "Early stopping occured at epoch 82 with best_epoch = 62 and best_valid_auc = 0.88202\n",
      "Best weights from best epoch are automatically used!\n",
      "FOLD: 3\n",
      "Device used : cpu\n",
      "Loading weights from unsupervised pretraining\n"
     ]
    },
    {
     "name": "stderr",
     "output_type": "stream",
     "text": [
      "/opt/conda/lib/python3.8/site-packages/pytorch_tabnet/abstract_model.py:96: UserWarning: Pretraining: cat_dims changed from [array([3, 1, 2]), array([0, 1]), array([1, 0, 3, 4, 2, 5, 8]), array([0, 1, 2, 5, 3, 4, 6]), array([0, 1, 2])] to []\n",
      "  warnings.warn(wrn_msg)\n",
      "/opt/conda/lib/python3.8/site-packages/pytorch_tabnet/abstract_model.py:96: UserWarning: Pretraining: cat_idxs changed from [0, 1, 3, 4, 6] to []\n",
      "  warnings.warn(wrn_msg)\n"
     ]
    },
    {
     "name": "stdout",
     "output_type": "stream",
     "text": [
      "epoch 0  | loss: 1.85323 | valid_auc: 0.61705 |  0:00:00s\n",
      "epoch 10 | loss: 0.61379 | valid_auc: 0.74719 |  0:00:01s\n",
      "epoch 20 | loss: 0.41736 | valid_auc: 0.83656 |  0:00:02s\n",
      "epoch 30 | loss: 0.38189 | valid_auc: 0.83676 |  0:00:03s\n",
      "epoch 40 | loss: 0.39883 | valid_auc: 0.80856 |  0:00:04s\n",
      "\n",
      "Early stopping occured at epoch 45 with best_epoch = 25 and best_valid_auc = 0.89559\n",
      "Best weights from best epoch are automatically used!\n",
      "FOLD: 4\n",
      "Device used : cpu\n",
      "Loading weights from unsupervised pretraining\n"
     ]
    },
    {
     "name": "stderr",
     "output_type": "stream",
     "text": [
      "/opt/conda/lib/python3.8/site-packages/pytorch_tabnet/abstract_model.py:96: UserWarning: Pretraining: cat_dims changed from [array([3, 1, 2]), array([0, 1]), array([1, 0, 3, 4, 2, 5, 8]), array([0, 1, 2, 5, 3, 4, 6]), array([0, 1, 2])] to []\n",
      "  warnings.warn(wrn_msg)\n",
      "/opt/conda/lib/python3.8/site-packages/pytorch_tabnet/abstract_model.py:96: UserWarning: Pretraining: cat_idxs changed from [0, 1, 3, 4, 6] to []\n",
      "  warnings.warn(wrn_msg)\n"
     ]
    },
    {
     "name": "stdout",
     "output_type": "stream",
     "text": [
      "epoch 0  | loss: 1.86898 | valid_auc: 0.60231 |  0:00:00s\n",
      "epoch 10 | loss: 0.62353 | valid_auc: 0.76645 |  0:00:01s\n",
      "epoch 20 | loss: 0.45364 | valid_auc: 0.86757 |  0:00:02s\n",
      "epoch 30 | loss: 0.39923 | valid_auc: 0.89602 |  0:00:03s\n",
      "epoch 40 | loss: 0.38689 | valid_auc: 0.88592 |  0:00:04s\n",
      "epoch 50 | loss: 0.3777  | valid_auc: 0.86451 |  0:00:05s\n",
      "epoch 60 | loss: 0.38406 | valid_auc: 0.88313 |  0:00:06s\n",
      "\n",
      "Early stopping occured at epoch 66 with best_epoch = 46 and best_valid_auc = 0.90467\n",
      "Best weights from best epoch are automatically used!\n"
     ]
    }
   ],
   "source": [
    "\n",
    "oof = np.zeros((len(train),))\n",
    "test_preds_all = np.zeros((len(test),))\n",
    "models = []\n",
    "\n",
    "for fold_num in range(5):\n",
    "    trn_idx = train[train.fold != fold_num].index\n",
    "    val_idx = train[train.fold == fold_num].index\n",
    "    print(f\"FOLD: {fold_num}\")\n",
    "    \n",
    "    X_train, y_train = train[feature_col].values[trn_idx],  train['Survived'].values[trn_idx]\n",
    "    X_valid, y_valid = train[feature_col].values[val_idx], train['Survived'].values[val_idx]\n",
    "    \n",
    "    tabnet_params = dict(n_d=8, n_a=8, n_steps=3, gamma=1.3,\n",
    "                     n_independent=2, n_shared=2,\n",
    "                     seed=42, lambda_sparse=1e-3,\n",
    "                     optimizer_fn=torch.optim.Adam,\n",
    "                     optimizer_params=dict(lr=2e-2,\n",
    "                                           weight_decay=1e-5\n",
    "                                          ),\n",
    "                     mask_type=\"entmax\",\n",
    "                     scheduler_params=dict(max_lr=0.05,\n",
    "                                           steps_per_epoch=int(X_train.shape[0] / 256),\n",
    "                                           epochs=200,\n",
    "                                           is_batch_level=True\n",
    "                                          ),\n",
    "                     scheduler_fn=torch.optim.lr_scheduler.OneCycleLR,\n",
    "                     verbose=10,\n",
    "                     cat_idxs=cat_idxs, # comment out when Unsupervised\n",
    "                     cat_dims=cat_dims, # comment out when Unsupervised\n",
    "                     cat_emb_dim=1 # comment out when Unsupervised\n",
    "                    )\n",
    "    model = TabNetClassifier(**tabnet_params)\n",
    "    model.fit(X_train=X_train,\n",
    "              y_train=y_train,\n",
    "              eval_set=[(X_valid, y_valid)],\n",
    "              eval_name = [\"valid\"],\n",
    "              eval_metric = [\"auc\"],\n",
    "              max_epochs=200,\n",
    "              patience=20, batch_size=256, virtual_batch_size=128,\n",
    "              num_workers=0, drop_last=False,\n",
    "              from_unsupervised=pretrainer # comment out when Unsupervised\n",
    "             )\n",
    "    \n",
    "    oof[val_idx] = model.predict(X_valid)\n",
    "    models.append(model)\n",
    "    pred_test = model.predict(test[feature_col].values)\n",
    "    test_preds_all += pred_test / 5\n",
    "\n"
   ]
  },
  {
   "cell_type": "markdown",
   "metadata": {},
   "source": [
    "# Metric"
   ]
  },
  {
   "cell_type": "code",
   "execution_count": 16,
   "metadata": {},
   "outputs": [
    {
     "name": "stdout",
     "output_type": "stream",
     "text": [
      "ROC-AUC\n",
      "0.781564567155594\n",
      "Accuracy\n",
      "0.813692480359147\n",
      "ROC-AUC test\n"
     ]
    }
   ],
   "source": [
    "print('ROC-AUC')\n",
    "print(roc_auc_score(train['Survived'].ravel(), oof.ravel()))\n",
    "print('Accuracy')\n",
    "print(accuracy_score(train['Survived'].ravel(), (oof >0.5).astype('int').ravel()))\n",
    "print('ROC-AUC test')"
   ]
  },
  {
   "cell_type": "markdown",
   "metadata": {},
   "source": [
    "# Global Explainability: feature importance"
   ]
  },
  {
   "cell_type": "code",
   "execution_count": 17,
   "metadata": {},
   "outputs": [
    {
     "data": {
      "image/png": "[encoded data removed]",
      "text/plain": [
       "<Figure size 432x288 with 1 Axes>"
      ]
     },
     "metadata": {
      "needs_background": "light"
     },
     "output_type": "display_data"
    }
   ],
   "source": [
    "for fold_num, model in enumerate(models):\n",
    "    # Feature Importance\n",
    "    feat_imp_fold = pd.DataFrame(model.feature_importances_,index=feature_col, columns= [f'imp_{fold_num}'])\n",
    "    if fold_num == 0:\n",
    "        feature_importance = feat_imp_fold.copy()\n",
    "    else:\n",
    "        feature_importance = pd.concat([feature_importance, feat_imp_fold], axis=1)\n",
    "        \n",
    "\n",
    "feature_importance['imp_mean'] = feature_importance.mean(axis=1)\n",
    "plt.tick_params(labelsize=18)\n",
    "plt.barh(feature_importance.index.values,feature_importance['imp_mean']);\n",
    "plt.title('feature_importance',fontsize=18);"
   ]
  },
  {
   "cell_type": "code",
   "execution_count": 18,
   "metadata": {},
   "outputs": [
    {
     "data": {
      "text/html": [
       "<div>\n",
       "<style scoped>\n",
       "    .dataframe tbody tr th:only-of-type {\n",
       "        vertical-align: middle;\n",
       "    }\n",
       "\n",
       "    .dataframe tbody tr th {\n",
       "        vertical-align: top;\n",
       "    }\n",
       "\n",
       "    .dataframe thead th {\n",
       "        text-align: right;\n",
       "    }\n",
       "</style>\n",
       "<table border=\"1\" class=\"dataframe\">\n",
       "  <thead>\n",
       "    <tr style=\"text-align: right;\">\n",
       "      <th></th>\n",
       "      <th>imp_0</th>\n",
       "      <th>imp_1</th>\n",
       "      <th>imp_2</th>\n",
       "      <th>imp_3</th>\n",
       "      <th>imp_4</th>\n",
       "      <th>imp_mean</th>\n",
       "    </tr>\n",
       "  </thead>\n",
       "  <tbody>\n",
       "    <tr>\n",
       "      <th>Pclass</th>\n",
       "      <td>0.166779</td>\n",
       "      <td>0.205544</td>\n",
       "      <td>0.221500</td>\n",
       "      <td>0.186626</td>\n",
       "      <td>0.160964</td>\n",
       "      <td>0.188283</td>\n",
       "    </tr>\n",
       "    <tr>\n",
       "      <th>Sex</th>\n",
       "      <td>0.205414</td>\n",
       "      <td>0.163410</td>\n",
       "      <td>0.250233</td>\n",
       "      <td>0.199747</td>\n",
       "      <td>0.278334</td>\n",
       "      <td>0.219428</td>\n",
       "    </tr>\n",
       "    <tr>\n",
       "      <th>Age</th>\n",
       "      <td>0.112469</td>\n",
       "      <td>0.153309</td>\n",
       "      <td>0.218014</td>\n",
       "      <td>0.207240</td>\n",
       "      <td>0.186780</td>\n",
       "      <td>0.175562</td>\n",
       "    </tr>\n",
       "    <tr>\n",
       "      <th>SibSp</th>\n",
       "      <td>0.082567</td>\n",
       "      <td>0.097046</td>\n",
       "      <td>0.096862</td>\n",
       "      <td>0.148652</td>\n",
       "      <td>0.125677</td>\n",
       "      <td>0.110161</td>\n",
       "    </tr>\n",
       "    <tr>\n",
       "      <th>Parch</th>\n",
       "      <td>0.081826</td>\n",
       "      <td>0.035052</td>\n",
       "      <td>0.052029</td>\n",
       "      <td>0.028617</td>\n",
       "      <td>0.046823</td>\n",
       "      <td>0.048869</td>\n",
       "    </tr>\n",
       "    <tr>\n",
       "      <th>Fare</th>\n",
       "      <td>0.204957</td>\n",
       "      <td>0.284996</td>\n",
       "      <td>0.131835</td>\n",
       "      <td>0.219287</td>\n",
       "      <td>0.198966</td>\n",
       "      <td>0.208008</td>\n",
       "    </tr>\n",
       "    <tr>\n",
       "      <th>Embarked</th>\n",
       "      <td>0.145988</td>\n",
       "      <td>0.060644</td>\n",
       "      <td>0.029527</td>\n",
       "      <td>0.009831</td>\n",
       "      <td>0.002457</td>\n",
       "      <td>0.049689</td>\n",
       "    </tr>\n",
       "  </tbody>\n",
       "</table>\n",
       "</div>"
      ],
      "text/plain": [
       "             imp_0     imp_1     imp_2     imp_3     imp_4  imp_mean\n",
       "Pclass    0.166779  0.205544  0.221500  0.186626  0.160964  0.188283\n",
       "Sex       0.205414  0.163410  0.250233  0.199747  0.278334  0.219428\n",
       "Age       0.112469  0.153309  0.218014  0.207240  0.186780  0.175562\n",
       "SibSp     0.082567  0.097046  0.096862  0.148652  0.125677  0.110161\n",
       "Parch     0.081826  0.035052  0.052029  0.028617  0.046823  0.048869\n",
       "Fare      0.204957  0.284996  0.131835  0.219287  0.198966  0.208008\n",
       "Embarked  0.145988  0.060644  0.029527  0.009831  0.002457  0.049689"
      ]
     },
     "execution_count": 18,
     "metadata": {},
     "output_type": "execute_result"
    }
   ],
   "source": [
    "feature_importance"
   ]
  },
  {
   "cell_type": "code",
   "execution_count": 19,
   "metadata": {},
   "outputs": [
    {
     "data": {
      "image/png": "[encoded data removed]",
      "text/plain": [
       "<Figure size 432x504 with 1 Axes>"
      ]
     },
     "metadata": {
      "needs_background": "light"
     },
     "output_type": "display_data"
    }
   ],
   "source": [
    "def visualize_importance(models,df):\n",
    "    feature_importance_df = pd.DataFrame()\n",
    "    \n",
    "    for i, model in enumerate(models):\n",
    "        _df = pd.DataFrame()\n",
    "        _df['feature_importance'] = model.feature_importances_\n",
    "        _df['column'] = df.columns\n",
    "        _df['fold'] = i+1\n",
    "        feature_importance_df = pd.concat([feature_importance_df,_df],axis=0,ignore_index=True)\n",
    "    \n",
    "    order = feature_importance_df.groupby('column').sum()[['feature_importance']].sort_values('feature_importance',ascending=False).index\n",
    "    \n",
    "    fig, ax = plt.subplots(figsize=(max(6, len(order)*.5),7))\n",
    "    sns.boxenplot(data=feature_importance_df, x='column', y='feature_importance', order=order, ax=ax)\n",
    "    ax.tick_params(axis='x', rotation=90)\n",
    "    ax.grid()\n",
    "    fig.tight_layout()\n",
    "    return fig,ax\n",
    "\n",
    "fig, ax = visualize_importance(models,train[feature_col] )"
   ]
  },
  {
   "cell_type": "markdown",
   "metadata": {},
   "source": [
    "# Local explainability and masks"
   ]
  },
  {
   "cell_type": "code",
   "execution_count": 20,
   "metadata": {},
   "outputs": [],
   "source": [
    "explain_matrix, masks = model.explain(test[feature_col].values)"
   ]
  },
  {
   "cell_type": "code",
   "execution_count": 21,
   "metadata": {},
   "outputs": [
    {
     "data": {
      "image/png": "[encoded data removed]",
      "text/plain": [
       "<Figure size 720x504 with 3 Axes>"
      ]
     },
     "metadata": {
      "needs_background": "light"
     },
     "output_type": "display_data"
    }
   ],
   "source": [
    "fig, ax = plt.subplots(1, 3, figsize=(10,7))\n",
    "\n",
    "for i in range(3):\n",
    "    ax[i].imshow(masks[i][:10])\n",
    "    ax[i].set_title(f\"mask {i}\")\n",
    "    ax[i].set_xticks([i for i in range(len(train[feature_col].columns))])\n",
    "    ax[i].set_xticklabels(train[feature_col].columns)\n",
    "    ax[i].tick_params(axis='x', rotation=90)"
   ]
  },
  {
   "cell_type": "markdown",
   "metadata": {},
   "source": [
    "# LightGBM"
   ]
  },
  {
   "cell_type": "code",
   "execution_count": 22,
   "metadata": {},
   "outputs": [],
   "source": [
    "# changet to category \n",
    "\n",
    "for col in cate_cols:\n",
    "    train[col] = train[col].astype('category')\n",
    "    test[col] = test[col].astype('category')"
   ]
  },
  {
   "cell_type": "code",
   "execution_count": 23,
   "metadata": {},
   "outputs": [
    {
     "name": "stdout",
     "output_type": "stream",
     "text": [
      "FOLD: 0\n",
      "[10]\ttraining's binary_logloss: 0.415056\n",
      "[20]\ttraining's binary_logloss: 0.339912\n",
      "[30]\ttraining's binary_logloss: 0.298753\n",
      "[40]\ttraining's binary_logloss: 0.265532\n",
      "[50]\ttraining's binary_logloss: 0.239837\n",
      "[60]\ttraining's binary_logloss: 0.219283\n",
      "[70]\ttraining's binary_logloss: 0.202619\n",
      "[80]\ttraining's binary_logloss: 0.185783\n",
      "[90]\ttraining's binary_logloss: 0.171218\n",
      "[100]\ttraining's binary_logloss: 0.160344\n",
      "FOLD: 1\n",
      "[10]\ttraining's binary_logloss: 0.412185\n",
      "[20]\ttraining's binary_logloss: 0.326\n",
      "[30]\ttraining's binary_logloss: 0.277814\n",
      "[40]\ttraining's binary_logloss: 0.243692\n",
      "[50]\ttraining's binary_logloss: 0.217736\n",
      "[60]\ttraining's binary_logloss: 0.197754\n",
      "[70]\ttraining's binary_logloss: 0.180134\n",
      "[80]\ttraining's binary_logloss: 0.166068\n",
      "[90]\ttraining's binary_logloss: 0.15343\n",
      "[100]\ttraining's binary_logloss: 0.143583\n",
      "FOLD: 2\n",
      "[10]\ttraining's binary_logloss: 0.430307\n",
      "[20]\ttraining's binary_logloss: 0.351541\n",
      "[30]\ttraining's binary_logloss: 0.3128\n",
      "[40]\ttraining's binary_logloss: 0.280622\n",
      "[50]\ttraining's binary_logloss: 0.255244\n",
      "[60]\ttraining's binary_logloss: 0.233862\n",
      "[70]\ttraining's binary_logloss: 0.215937\n",
      "[80]\ttraining's binary_logloss: 0.199704\n",
      "[90]\ttraining's binary_logloss: 0.185596\n",
      "[100]\ttraining's binary_logloss: 0.174408\n",
      "FOLD: 3\n",
      "[10]\ttraining's binary_logloss: 0.426738\n",
      "[20]\ttraining's binary_logloss: 0.340874\n",
      "[30]\ttraining's binary_logloss: 0.295042\n",
      "[40]\ttraining's binary_logloss: 0.260362\n",
      "[50]\ttraining's binary_logloss: 0.23551\n",
      "[60]\ttraining's binary_logloss: 0.21651\n",
      "[70]\ttraining's binary_logloss: 0.200247\n",
      "[80]\ttraining's binary_logloss: 0.184703\n",
      "[90]\ttraining's binary_logloss: 0.173388\n",
      "[100]\ttraining's binary_logloss: 0.162426\n",
      "FOLD: 4\n",
      "[10]\ttraining's binary_logloss: 0.429076\n",
      "[20]\ttraining's binary_logloss: 0.355029\n",
      "[30]\ttraining's binary_logloss: 0.312003\n",
      "[40]\ttraining's binary_logloss: 0.277808\n",
      "[50]\ttraining's binary_logloss: 0.253074\n",
      "[60]\ttraining's binary_logloss: 0.231876\n",
      "[70]\ttraining's binary_logloss: 0.213576\n",
      "[80]\ttraining's binary_logloss: 0.200179\n",
      "[90]\ttraining's binary_logloss: 0.188464\n",
      "[100]\ttraining's binary_logloss: 0.178104\n"
     ]
    }
   ],
   "source": [
    "oof = np.zeros((len(train),))\n",
    "test_preds_all = np.zeros((len(test),))\n",
    "models = []\n",
    "\n",
    "for fold_num in range(5):\n",
    "    trn_idx = train[train.fold != fold_num].index\n",
    "    val_idx = train[train.fold == fold_num].index\n",
    "    print(f\"FOLD: {fold_num}\")\n",
    "    \n",
    "    X_train, y_train = train[feature_col].values[trn_idx],  train['Survived'].values[trn_idx]\n",
    "    X_valid, y_valid = train[feature_col].values[val_idx], train['Survived'].values[val_idx]\n",
    "\n",
    "    lgb_train = lgb.Dataset(X_train, y_train)\n",
    "    lgb_valid = lgb.Dataset(X_valid, y_valid)\n",
    "    \n",
    "    params = {\n",
    "        'objective': 'binary',\n",
    "        'importance_type': 'gain',    \n",
    "    }\n",
    "    \n",
    "    model = lgb.LGBMClassifier(**params)\n",
    "    model.fit(X_train,y_train,eval_set=[(X_train,y_train)],\n",
    "              verbose=10)\n",
    "    \n",
    "    oof[val_idx] = model.predict(X_valid)\n",
    "    models.append(model)\n",
    "    \n",
    "    test_preds_all += model.predict(test[feature_col]) / 5\n"
   ]
  },
  {
   "cell_type": "code",
   "execution_count": 24,
   "metadata": {},
   "outputs": [
    {
     "name": "stdout",
     "output_type": "stream",
     "text": [
      "ROC-AUC\n",
      "0.812889464097402\n",
      "Accuracy\n",
      "0.8271604938271605\n"
     ]
    }
   ],
   "source": [
    "print('ROC-AUC')\n",
    "print(roc_auc_score(train['Survived'].ravel(), oof.ravel()))\n",
    "print('Accuracy')\n",
    "print(accuracy_score(train['Survived'].ravel(), (oof>.5).astype('int').ravel()))"
   ]
  },
  {
   "cell_type": "code",
   "execution_count": 25,
   "metadata": {},
   "outputs": [
    {
     "data": {
      "image/png": "[encoded data removed]",
      "text/plain": [
       "<Figure size 432x504 with 1 Axes>"
      ]
     },
     "metadata": {
      "needs_background": "light"
     },
     "output_type": "display_data"
    }
   ],
   "source": [
    "fig, ax = visualize_importance(models,train[feature_col] )"
   ]
  },
  {
   "cell_type": "markdown",
   "metadata": {},
   "source": [
    "# NN model"
   ]
  },
  {
   "cell_type": "code",
   "execution_count": 26,
   "metadata": {},
   "outputs": [],
   "source": [
    "target_cols = ['Survived']"
   ]
  },
  {
   "cell_type": "code",
   "execution_count": 27,
   "metadata": {},
   "outputs": [],
   "source": [
    "class TitanicDataset:\n",
    "    def __init__(self, features, targets):\n",
    "        self.features = features\n",
    "        self.targets = targets\n",
    "        \n",
    "    def __len__(self):\n",
    "        return (self.features.shape[0])\n",
    "    \n",
    "    def __getitem__(self, idx):\n",
    "        dct = {\n",
    "            'x' : torch.tensor(self.features[idx, :], dtype=torch.float),\n",
    "            'y' : torch.tensor(self.targets[idx], dtype=torch.float)            \n",
    "        }\n",
    "        return dct\n",
    "    \n",
    "class TestDataset:\n",
    "    def __init__(self, features):\n",
    "        self.features = features\n",
    "        \n",
    "    def __len__(self):\n",
    "        return (self.features.shape[0])\n",
    "    \n",
    "    def __getitem__(self, idx):\n",
    "        dct = {\n",
    "            'x' : torch.tensor(self.features[idx, :], dtype=torch.float)\n",
    "        }\n",
    "        return dct"
   ]
  },
  {
   "cell_type": "code",
   "execution_count": 28,
   "metadata": {},
   "outputs": [],
   "source": [
    "def train_fn(model, optimizer, scheduler, loss_fn, dataloader, device):\n",
    "    model.train()\n",
    "    final_loss = 0\n",
    "    \n",
    "    for data in dataloader:\n",
    "        optimizer.zero_grad()\n",
    "        inputs, targets = data['x'].to(device), data['y'].to(device)\n",
    "        outputs = model(inputs)\n",
    "        loss = loss_fn(outputs, targets)\n",
    "        loss.backward()\n",
    "        optimizer.step()\n",
    "        scheduler.step()\n",
    "        \n",
    "        final_loss += loss.item()\n",
    "        \n",
    "    final_loss /= len(dataloader)\n",
    "    \n",
    "    return final_loss\n",
    "\n",
    "\n",
    "def valid_fn(model, loss_fn, dataloader, device):\n",
    "    model.eval()\n",
    "    final_loss = 0\n",
    "    valid_preds = []\n",
    "    \n",
    "    for data in dataloader:\n",
    "        inputs, targets = data['x'].to(device), data['y'].to(device)\n",
    "        outputs = model(inputs)\n",
    "        loss = loss_fn(outputs, targets)\n",
    "        \n",
    "        final_loss += loss.item()\n",
    "        valid_preds.append(outputs.sigmoid().detach().cpu().numpy())\n",
    "        \n",
    "    final_loss /= len(dataloader)\n",
    "    valid_preds = np.concatenate(valid_preds)\n",
    "    \n",
    "    return final_loss, valid_preds\n",
    "\n",
    "def inference_fn(model, dataloader, device):\n",
    "    model.eval()\n",
    "    preds = []\n",
    "    \n",
    "    for data in dataloader:\n",
    "        inputs = data['x'].to(device)\n",
    "\n",
    "        with torch.no_grad():\n",
    "            outputs = model(inputs)\n",
    "        \n",
    "        preds.append(outputs.sigmoid().detach().cpu().numpy())\n",
    "        \n",
    "    preds = np.concatenate(preds)\n",
    "    \n",
    "    return preds"
   ]
  },
  {
   "cell_type": "code",
   "execution_count": 29,
   "metadata": {},
   "outputs": [],
   "source": [
    "DEVICE = ('cuda' if torch.cuda.is_available() else 'cpu')\n",
    "EPOCHS = 25\n",
    "NFOLDS = 5\n",
    "\n",
    "BATCH_SIZE = 128\n",
    "LEARNING_RATE = 1e-3\n",
    "WEIGHT_DECAY = 1e-5\n",
    "EARLY_STOPPING_STEPS = 10\n",
    "EARLY_STOP = True\n",
    "\n",
    "num_features=len(feature_col)\n",
    "num_targets=1\n",
    "hidden_size =150"
   ]
  },
  {
   "cell_type": "code",
   "execution_count": 30,
   "metadata": {},
   "outputs": [],
   "source": [
    "class Model(nn.Module):\n",
    "    def __init__(self, num_features, num_targets, hidden_size):\n",
    "        super(Model, self).__init__()\n",
    "        self.embedding = nn.Sequential(\n",
    "            nn.BatchNorm1d(num_features),\n",
    "            nn.Dropout(0.25),\n",
    "            nn.utils.weight_norm(nn.Linear(num_features,hidden_size)),\n",
    "\n",
    "            nn.BatchNorm1d(hidden_size),\n",
    "            nn.Dropout(0.25),\n",
    "            nn.utils.weight_norm(nn.Linear(hidden_size, hidden_size)),\n",
    "\n",
    "            nn.BatchNorm1d(hidden_size),\n",
    "            nn.Dropout(0.25),\n",
    "            nn.utils.weight_norm(nn.Linear(hidden_size, num_targets))\n",
    "        )\n",
    "    \n",
    "    def forward(self, x):\n",
    "        x = self.embedding(x)\n",
    "        return x\n",
    "\n",
    "# class Model(nn.Module):\n",
    "#     def __init__(self, num_features, num_targets, hidden_size):\n",
    "#         super(Model, self).__init__()\n",
    "#         self.batch_norm1 = nn.BatchNorm1d(num_features)\n",
    "#         self.dropout1 = nn.Dropout(0.25)\n",
    "#         self.dense1 = nn.utils.weight_norm(nn.Linear(num_features, hidden_size))\n",
    "        \n",
    "#         self.batch_norm2 = nn.BatchNorm1d(hidden_size)\n",
    "#         self.dropout2 = nn.Dropout(0.25)\n",
    "#         self.dense2 = nn.utils.weight_norm(nn.Linear(hidden_size, hidden_size))\n",
    "        \n",
    "#         self.batch_norm3 = nn.BatchNorm1d(hidden_size)\n",
    "#         self.dropout3 = nn.Dropout(0.25)\n",
    "#         self.dense3 = nn.utils.weight_norm(nn.Linear(hidden_size, num_targets))\n",
    "    \n",
    "#     def forward(self, x):\n",
    "#         x = self.batch_norm1(x)\n",
    "#         x = self.dropout1(x)\n",
    "#         x = F.relu(self.dense1(x))\n",
    "        \n",
    "#         x = self.batch_norm2(x)\n",
    "#         x = self.dropout2(x)\n",
    "#         x = F.relu(self.dense2(x))\n",
    "        \n",
    "#         x = self.batch_norm3(x)\n",
    "#         x = self.dropout3(x)\n",
    "#         x = self.dense3(x)\n",
    "        \n",
    "#         return x"
   ]
  },
  {
   "cell_type": "code",
   "execution_count": 48,
   "metadata": {},
   "outputs": [],
   "source": [
    "def run_training(fold_num, seed, train, test, target_cols):\n",
    "    trn_idx = train[train.fold != fold_num].index\n",
    "    val_idx = train[train.fold == fold_num].index\n",
    "    print(f\"FOLD: {fold_num}\")\n",
    "    \n",
    "    ## model\n",
    "    ## model\n",
    "    X_train, y_train = train[feature_col].values[trn_idx,], train[['Survived']].values[trn_idx,].astype(float)\n",
    "    X_valid, y_valid = train[feature_col].values[val_idx,], train[['Survived']].values[val_idx,].astype(float)\n",
    "    \n",
    "    train_dataset = TitanicDataset(X_train, y_train)\n",
    "    valid_dataset = TitanicDataset(X_valid, y_valid)\n",
    "    \n",
    "    train_loader = DataLoader(train_dataset, batch_size=BATCH_SIZE, shuffle=True)\n",
    "    valid_loader = DataLoader(valid_dataset, batch_size=BATCH_SIZE, shuffle=False)\n",
    "    \n",
    "    model = Model(\n",
    "        num_features = num_features,\n",
    "        num_targets = num_targets,\n",
    "        hidden_size = hidden_size,\n",
    "    )\n",
    "    \n",
    "    model.to(DEVICE)\n",
    "    optimizer = torch.optim.Adam(model.parameters(), lr=LEARNING_RATE, weight_decay=WEIGHT_DECAY)\n",
    "    scheduler = optim.lr_scheduler.OneCycleLR(optimizer=optimizer, pct_start=0.1,\n",
    "                                              div_factor=1e3,max_lr=1e-2,epochs=EPOCHS,\n",
    "                                              steps_per_epoch=len(train_loader))\n",
    "    loss_fn = nn.BCEWithLogitsLoss()\n",
    "    loss_tr = nn.BCEWithLogitsLoss()\n",
    "    \n",
    "    early_stopping_steps = EARLY_STOPPING_STEPS\n",
    "    early_step = 0\n",
    "    \n",
    "    oof = np.zeros((len(train), num_targets))\n",
    "    preds = np.zeros((len(test),num_targets))\n",
    "    \n",
    "    best_loss = np.inf\n",
    "    \n",
    "    for epoch in range(EPOCHS):\n",
    "        train_loss = train_fn(model, optimizer, scheduler, loss_tr, train_loader, DEVICE)\n",
    "        valid_loss, valid_preds = valid_fn(model, loss_fn, valid_loader, DEVICE)\n",
    "        \n",
    "        print(f\"seed: {seed}, FOLD: {fold_num}, EPOCH: {epoch}, tr_loss: {train_loss}, val_loss: {valid_loss}\")\n",
    "        \n",
    "        if valid_loss < best_loss:\n",
    "            print('UPDATE!')\n",
    "            best_loss = valid_loss\n",
    "            oof[val_idx] = valid_preds\n",
    "            torch.save(model.state_dict(), f\"{OUTPUT_PATH}/FOLD{fold_num}_seed{seed}_.pth\")\n",
    "            early_step = 0\n",
    "            \n",
    "        elif(EARLY_STOP == True):\n",
    "            early_step += 1\n",
    "            if (early_step >= early_stopping_steps):\n",
    "                print(f'Early Stop epoch{epoch} early_step{early_step}')\n",
    "                break\n",
    "        \n",
    "    #---- PREDICT ---\n",
    "    x_test = test[feature_col].values\n",
    "    test_dataset = TestDataset(x_test)\n",
    "    test_loader = DataLoader(test_dataset, batch_size=BATCH_SIZE, shuffle=False)\n",
    "\n",
    "    model = Model(\n",
    "        num_features = num_features,\n",
    "        num_targets = num_targets,\n",
    "        hidden_size = hidden_size\n",
    "    )\n",
    "\n",
    "    model.load_state_dict(torch.load(f\"{OUTPUT_PATH}/FOLD{fold_num}_seed{seed}_.pth\"))\n",
    "    model.to(DEVICE)\n",
    "    \n",
    "    preds = inference_fn(model, test_loader, DEVICE)\n",
    "    return oof, preds\n",
    "\n",
    "\n",
    "# def run_training(fold_num, seed, train, test, target_cols):\n",
    "    \n",
    "#     seed_everything(seed)\n",
    "    \n",
    "#     print(\"FOLDS : \", fold_num)\n",
    "    \n",
    "#     train_idx = train[train.fold != fold_num].index\n",
    "#     valid_idx = train[train.fold == fold_num].index\n",
    "\n",
    "#     ## model\n",
    "#     X_train, y_train = train[feature_col].values[train_idx,], train[['Survived']].values[train_idx,].astype(float)\n",
    "#     X_valid, y_valid = train[feature_col].values[valid_idx,], train[['Survived']].values[valid_idx,].astype(float)\n",
    "    \n",
    "#     train_dataset = TitanicDataset(X_train, y_train)\n",
    "#     valid_dataset = TitanicDataset(X_valid, y_valid)\n",
    "#     trainloader = torch.utils.data.DataLoader(train_dataset, batch_size=BATCH_SIZE, shuffle=True)\n",
    "#     validloader = torch.utils.data.DataLoader(valid_dataset, batch_size=BATCH_SIZE, shuffle=False)\n",
    "    \n",
    "#     model = Model(\n",
    "#         num_features=num_features,\n",
    "#         num_targets=num_targets,\n",
    "#         hidden_size=hidden_size\n",
    "#     )\n",
    "    \n",
    "#     model.to(DEVICE)\n",
    "    \n",
    "#     optimizer = torch.optim.Adam(model.parameters(), lr=LEARNING_RATE, weight_decay=WEIGHT_DECAY)        \n",
    "#     scheduler = optim.lr_scheduler.OneCycleLR(optimizer=optimizer, pct_start=0.1, div_factor=1e3, \n",
    "#                                           max_lr=1e-2, epochs=EPOCHS, steps_per_epoch=len(trainloader))\n",
    "    \n",
    "#     loss_fn = nn.BCEWithLogitsLoss()\n",
    "#     loss_tr = nn.BCEWithLogitsLoss()\n",
    "    \n",
    "#     early_stopping_steps = EARLY_STOPPING_STEPS\n",
    "#     early_step = 0\n",
    "   \n",
    "#     oof = np.zeros((len(train), num_targets))\n",
    "#     predictions = np.zeros((len(test), num_targets))\n",
    "    \n",
    "#     best_loss = np.inf\n",
    "    \n",
    "#     for epoch in range(EPOCHS):\n",
    "        \n",
    "#         train_loss = train_fn(model, optimizer,scheduler, loss_tr, trainloader, DEVICE)\n",
    "#         valid_loss, valid_preds = valid_fn(model, loss_fn, validloader, DEVICE)\n",
    "#         print(f\"seed{seed}, FOLD: {fold_num}, EPOCH: {epoch}, train_loss: {train_loss}, valid_loss: {valid_loss}\")\n",
    "        \n",
    "#         if valid_loss < best_loss:\n",
    "#             print('Update best loss')\n",
    "#             best_loss = valid_loss\n",
    "#             oof[valid_idx] = valid_preds\n",
    "#             torch.save(model.state_dict(), f\"{OUTPUT_PATH}/FOLD{fold_num}_seed{seed}_.pth\")\n",
    "        \n",
    "#         elif(EARLY_STOP == True):\n",
    "#             early_step += 1\n",
    "#             if (early_step >= early_stopping_steps):\n",
    "#                 print(f'Early Stop epoch{epoch} early_step{early_step}')\n",
    "#                 break\n",
    "            \n",
    "    \n",
    "#     #--------------------- PREDICTION---------------------\n",
    "#     x_test = test[feature_col].values\n",
    "#     testdataset = TestDataset(x_test)\n",
    "#     testloader = torch.utils.data.DataLoader(testdataset, batch_size=BATCH_SIZE, shuffle=False)\n",
    "\n",
    "#     model = Model(\n",
    "#         num_features=num_features,\n",
    "#         num_targets=num_targets,\n",
    "#         hidden_size=hidden_size,\n",
    "\n",
    "#     )\n",
    "\n",
    "#     model.load_state_dict(torch.load(f\"{OUTPUT_PATH}/FOLD{fold_num}_seed{seed}_.pth\"))\n",
    "#     model.to(DEVICE)\n",
    "\n",
    "#     predictions = inference_fn(model, testloader, DEVICE)\n",
    "    \n",
    "#     return oof, predictions"
   ]
  },
  {
   "cell_type": "code",
   "execution_count": 49,
   "metadata": {},
   "outputs": [],
   "source": [
    "def run_k_fold(NFOLDS, seed):\n",
    "    oof = np.zeros((len(train), len(target_cols)))\n",
    "    predictions = np.zeros((len(test), len(target_cols)))\n",
    "\n",
    "    for fold_num in range(NFOLDS):\n",
    "        oof_, pred_ = run_training(fold_num, seed, train, test, target_cols)\n",
    "\n",
    "        predictions += pred_ / NFOLDS\n",
    "        oof += oof_\n",
    "        \n",
    "    return oof, predictions"
   ]
  },
  {
   "cell_type": "code",
   "execution_count": 50,
   "metadata": {},
   "outputs": [
    {
     "name": "stdout",
     "output_type": "stream",
     "text": [
      "######################## Training ############################\n",
      "FOLD: 0\n",
      "seed: 33, FOLD: 0, EPOCH: 0, tr_loss: 0.6923815011978149, val_loss: 0.5693422555923462\n",
      "UPDATE!\n",
      "seed: 33, FOLD: 0, EPOCH: 1, tr_loss: 0.6119853556156158, val_loss: 0.5463746339082718\n",
      "UPDATE!\n",
      "seed: 33, FOLD: 0, EPOCH: 2, tr_loss: 0.575022558371226, val_loss: 0.5764071345329285\n",
      "seed: 33, FOLD: 0, EPOCH: 3, tr_loss: 0.5529847343762716, val_loss: 0.5112219601869583\n",
      "UPDATE!\n",
      "seed: 33, FOLD: 0, EPOCH: 4, tr_loss: 0.5191130091746649, val_loss: 0.5095878094434738\n",
      "UPDATE!\n",
      "seed: 33, FOLD: 0, EPOCH: 5, tr_loss: 0.5311484634876251, val_loss: 0.502944603562355\n",
      "UPDATE!\n",
      "seed: 33, FOLD: 0, EPOCH: 6, tr_loss: 0.5093894302845001, val_loss: 0.5098332762718201\n",
      "seed: 33, FOLD: 0, EPOCH: 7, tr_loss: 0.5103791157404581, val_loss: 0.5171014070510864\n",
      "seed: 33, FOLD: 0, EPOCH: 8, tr_loss: 0.4976866940657298, val_loss: 0.5230216383934021\n",
      "seed: 33, FOLD: 0, EPOCH: 9, tr_loss: 0.5000720024108887, val_loss: 0.5097694993019104\n",
      "seed: 33, FOLD: 0, EPOCH: 10, tr_loss: 0.5314698666334152, val_loss: 0.5118241012096405\n",
      "seed: 33, FOLD: 0, EPOCH: 11, tr_loss: 0.4920756270488103, val_loss: 0.5085535943508148\n",
      "seed: 33, FOLD: 0, EPOCH: 12, tr_loss: 0.5011177261670431, val_loss: 0.5114363431930542\n",
      "seed: 33, FOLD: 0, EPOCH: 13, tr_loss: 0.4988577365875244, val_loss: 0.5206425189971924\n",
      "seed: 33, FOLD: 0, EPOCH: 14, tr_loss: 0.4912807196378708, val_loss: 0.5159414708614349\n",
      "seed: 33, FOLD: 0, EPOCH: 15, tr_loss: 0.49061285952727, val_loss: 0.49969981610774994\n",
      "UPDATE!\n",
      "seed: 33, FOLD: 0, EPOCH: 16, tr_loss: 0.5120920638243357, val_loss: 0.4861750602722168\n",
      "UPDATE!\n",
      "seed: 33, FOLD: 0, EPOCH: 17, tr_loss: 0.4940189520517985, val_loss: 0.4845492094755173\n",
      "UPDATE!\n",
      "seed: 33, FOLD: 0, EPOCH: 18, tr_loss: 0.4971378097931544, val_loss: 0.4829951971769333\n",
      "UPDATE!\n",
      "seed: 33, FOLD: 0, EPOCH: 19, tr_loss: 0.5114670296510061, val_loss: 0.4800272136926651\n",
      "UPDATE!\n",
      "seed: 33, FOLD: 0, EPOCH: 20, tr_loss: 0.48818738758563995, val_loss: 0.47741618752479553\n",
      "UPDATE!\n",
      "seed: 33, FOLD: 0, EPOCH: 21, tr_loss: 0.4879177858432134, val_loss: 0.4729185402393341\n",
      "UPDATE!\n",
      "seed: 33, FOLD: 0, EPOCH: 22, tr_loss: 0.5074025044838587, val_loss: 0.47089190781116486\n",
      "UPDATE!\n",
      "seed: 33, FOLD: 0, EPOCH: 23, tr_loss: 0.4932814786831538, val_loss: 0.4685516506433487\n",
      "UPDATE!\n",
      "seed: 33, FOLD: 0, EPOCH: 24, tr_loss: 0.5016905665397644, val_loss: 0.4667072147130966\n",
      "UPDATE!\n",
      "FOLD: 1\n",
      "seed: 33, FOLD: 1, EPOCH: 0, tr_loss: 0.6863249739011129, val_loss: 0.5156079083681107\n",
      "UPDATE!\n",
      "seed: 33, FOLD: 1, EPOCH: 1, tr_loss: 0.6098272999127706, val_loss: 0.4881853759288788\n",
      "UPDATE!\n",
      "seed: 33, FOLD: 1, EPOCH: 2, tr_loss: 0.5873671819766363, val_loss: 0.47693291306495667\n",
      "UPDATE!\n",
      "seed: 33, FOLD: 1, EPOCH: 3, tr_loss: 0.5254752486944199, val_loss: 0.4552294909954071\n",
      "UPDATE!\n",
      "seed: 33, FOLD: 1, EPOCH: 4, tr_loss: 0.5216069916884104, val_loss: 0.4717548340559006\n",
      "seed: 33, FOLD: 1, EPOCH: 5, tr_loss: 0.512363443771998, val_loss: 0.47248202562332153\n",
      "seed: 33, FOLD: 1, EPOCH: 6, tr_loss: 0.5285280247529348, val_loss: 0.47083909809589386\n",
      "seed: 33, FOLD: 1, EPOCH: 7, tr_loss: 0.5386561850706736, val_loss: 0.4863313138484955\n",
      "seed: 33, FOLD: 1, EPOCH: 8, tr_loss: 0.4898839791615804, val_loss: 0.491626113653183\n",
      "seed: 33, FOLD: 1, EPOCH: 9, tr_loss: 0.503226712346077, val_loss: 0.4585939645767212\n",
      "seed: 33, FOLD: 1, EPOCH: 10, tr_loss: 0.5300279905398687, val_loss: 0.47814884781837463\n",
      "seed: 33, FOLD: 1, EPOCH: 11, tr_loss: 0.5017926345268885, val_loss: 0.484151154756546\n",
      "seed: 33, FOLD: 1, EPOCH: 12, tr_loss: 0.5215529302755991, val_loss: 0.4879865050315857\n",
      "seed: 33, FOLD: 1, EPOCH: 13, tr_loss: 0.5070546815792719, val_loss: 0.48161038756370544\n",
      "Early Stop epoch13 early_step10\n",
      "FOLD: 2\n",
      "seed: 33, FOLD: 2, EPOCH: 0, tr_loss: 0.6464552879333496, val_loss: 0.5252457857131958\n",
      "UPDATE!\n",
      "seed: 33, FOLD: 2, EPOCH: 1, tr_loss: 0.5970990906159083, val_loss: 0.5426815748214722\n",
      "seed: 33, FOLD: 2, EPOCH: 2, tr_loss: 0.5423423945903778, val_loss: 0.5099344551563263\n",
      "UPDATE!\n",
      "seed: 33, FOLD: 2, EPOCH: 3, tr_loss: 0.5304967910051346, val_loss: 0.4768224209547043\n",
      "UPDATE!\n",
      "seed: 33, FOLD: 2, EPOCH: 4, tr_loss: 0.5425776243209839, val_loss: 0.4945940375328064\n",
      "seed: 33, FOLD: 2, EPOCH: 5, tr_loss: 0.5131367643674215, val_loss: 0.5020718425512314\n",
      "seed: 33, FOLD: 2, EPOCH: 6, tr_loss: 0.4979115426540375, val_loss: 0.5048792064189911\n",
      "seed: 33, FOLD: 2, EPOCH: 7, tr_loss: 0.496229166785876, val_loss: 0.49542395770549774\n",
      "seed: 33, FOLD: 2, EPOCH: 8, tr_loss: 0.4912515381971995, val_loss: 0.4891177713871002\n",
      "seed: 33, FOLD: 2, EPOCH: 9, tr_loss: 0.5150937288999557, val_loss: 0.5077687203884125\n",
      "seed: 33, FOLD: 2, EPOCH: 10, tr_loss: 0.518768514196078, val_loss: 0.5167590379714966\n",
      "seed: 33, FOLD: 2, EPOCH: 11, tr_loss: 0.492151399453481, val_loss: 0.5047018378973007\n",
      "seed: 33, FOLD: 2, EPOCH: 12, tr_loss: 0.47971021632353467, val_loss: 0.4919874221086502\n",
      "seed: 33, FOLD: 2, EPOCH: 13, tr_loss: 0.5069348563750585, val_loss: 0.4856623709201813\n",
      "Early Stop epoch13 early_step10\n",
      "FOLD: 3\n",
      "seed: 33, FOLD: 3, EPOCH: 0, tr_loss: 0.6214074293772379, val_loss: 0.5099708884954453\n",
      "UPDATE!\n",
      "seed: 33, FOLD: 3, EPOCH: 1, tr_loss: 0.6122539142767588, val_loss: 0.43941091001033783\n",
      "UPDATE!\n",
      "seed: 33, FOLD: 3, EPOCH: 2, tr_loss: 0.5901594460010529, val_loss: 0.5218791961669922\n",
      "seed: 33, FOLD: 3, EPOCH: 3, tr_loss: 0.5448585947354635, val_loss: 0.45945459604263306\n",
      "seed: 33, FOLD: 3, EPOCH: 4, tr_loss: 0.5242322236299515, val_loss: 0.4532478153705597\n",
      "seed: 33, FOLD: 3, EPOCH: 5, tr_loss: 0.5292693277200063, val_loss: 0.4981880933046341\n",
      "seed: 33, FOLD: 3, EPOCH: 6, tr_loss: 0.5155332386493683, val_loss: 0.4948402941226959\n",
      "seed: 33, FOLD: 3, EPOCH: 7, tr_loss: 0.513661672671636, val_loss: 0.48782357573509216\n",
      "seed: 33, FOLD: 3, EPOCH: 8, tr_loss: 0.48289090891679126, val_loss: 0.4827335625886917\n",
      "seed: 33, FOLD: 3, EPOCH: 9, tr_loss: 0.5095683137575785, val_loss: 0.46534889936447144\n",
      "seed: 33, FOLD: 3, EPOCH: 10, tr_loss: 0.5108699997266134, val_loss: 0.4749777913093567\n",
      "seed: 33, FOLD: 3, EPOCH: 11, tr_loss: 0.5119799772898356, val_loss: 0.4913896322250366\n",
      "Early Stop epoch11 early_step10\n",
      "FOLD: 4\n",
      "seed: 33, FOLD: 4, EPOCH: 0, tr_loss: 0.7278585334618887, val_loss: 0.5058613568544388\n",
      "UPDATE!\n",
      "seed: 33, FOLD: 4, EPOCH: 1, tr_loss: 0.6488052805264791, val_loss: 0.4216228127479553\n",
      "UPDATE!\n",
      "seed: 33, FOLD: 4, EPOCH: 2, tr_loss: 0.5630319466193517, val_loss: 0.4889746308326721\n",
      "seed: 33, FOLD: 4, EPOCH: 3, tr_loss: 0.553407683968544, val_loss: 0.4541029930114746\n",
      "seed: 33, FOLD: 4, EPOCH: 4, tr_loss: 0.5461259484291077, val_loss: 0.4442199319601059\n",
      "seed: 33, FOLD: 4, EPOCH: 5, tr_loss: 0.5466887553532919, val_loss: 0.4694773554801941\n",
      "seed: 33, FOLD: 4, EPOCH: 6, tr_loss: 0.533728634317716, val_loss: 0.4846186488866806\n",
      "seed: 33, FOLD: 4, EPOCH: 7, tr_loss: 0.520871157447497, val_loss: 0.4716067761182785\n",
      "seed: 33, FOLD: 4, EPOCH: 8, tr_loss: 0.5365428477525711, val_loss: 0.4798344373703003\n",
      "seed: 33, FOLD: 4, EPOCH: 9, tr_loss: 0.5224428623914719, val_loss: 0.48064032196998596\n",
      "seed: 33, FOLD: 4, EPOCH: 10, tr_loss: 0.511589507261912, val_loss: 0.47154274582862854\n",
      "seed: 33, FOLD: 4, EPOCH: 11, tr_loss: 0.5333155790964762, val_loss: 0.47111931443214417\n",
      "Early Stop epoch11 early_step10\n",
      "CPU times: user 18.9 s, sys: 235 ms, total: 19.2 s\n",
      "Wall time: 5.08 s\n"
     ]
    }
   ],
   "source": [
    "%%time\n",
    "SEED = [33]\n",
    "oof = np.zeros((len(train), len(target_cols)))\n",
    "predictions = np.zeros((len(test), len(target_cols)))\n",
    "\n",
    "print(\"######################## Training ############################\")\n",
    "for seed in SEED:\n",
    "    oof_, predictions_ = run_k_fold(NFOLDS, seed)\n",
    "    oof += oof_ / len(SEED)\n",
    "    predictions += predictions_ / len(SEED)"
   ]
  },
  {
   "cell_type": "code",
   "execution_count": 52,
   "metadata": {},
   "outputs": [
    {
     "name": "stdout",
     "output_type": "stream",
     "text": [
      "ROC-AUC\n",
      "0.8448188625784253\n",
      "Accuracy\n",
      "0.8114478114478114\n"
     ]
    }
   ],
   "source": [
    "print('ROC-AUC')\n",
    "print(roc_auc_score(train['Survived'].ravel(), oof.ravel()))\n",
    "print('Accuracy')\n",
    "print(accuracy_score(train['Survived'].ravel(), (oof >.5).astype('int').ravel()))"
   ]
  },
  {
   "cell_type": "code",
   "execution_count": null,
   "metadata": {},
   "outputs": [],
   "source": []
  }
 ],
 "metadata": {
  "kernelspec": {
   "display_name": "Python 3",
   "language": "python",
   "name": "python3"
  },
  "language_info": {
   "codemirror_mode": {
    "name": "ipython",
    "version": 3
   },
   "file_extension": ".py",
   "mimetype": "text/x-python",
   "name": "python",
   "nbconvert_exporter": "python",
   "pygments_lexer": "ipython3",
   "version": "3.8.6"
  }
 },
 "nbformat": 4,
 "nbformat_minor": 4
}
