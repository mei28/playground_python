{
 "cells": [
  {
   "cell_type": "code",
   "execution_count": 1,
   "metadata": {},
   "outputs": [],
   "source": [
    "from pytorch_tabnet.tab_model import TabNetClassifier\n",
    "\n",
    "import torch\n",
    "from sklearn.preprocessing import LabelEncoder\n",
    "from sklearn.metrics import roc_auc_score, accuracy_score\n",
    "\n",
    "import pandas as pd \n",
    "import numpy as np \n",
    "\n",
    "import os\n",
    "import sys \n",
    "import wget\n",
    "\n",
    "import matplotlib.pyplot as plt \n",
    "import seaborn as sns \n",
    "\n",
    "%matplotlib inline\n",
    "sns.set_style('ticks')"
   ]
  },
  {
   "cell_type": "markdown",
   "metadata": {},
   "source": [
    "# Download census-income dataset"
   ]
  },
  {
   "cell_type": "code",
   "execution_count": 2,
   "metadata": {},
   "outputs": [],
   "source": [
    "url = \"https://archive.ics.uci.edu/ml/machine-learning-databases/adult/adult.data\"\n",
    "dataset_name = 'census-income'\n",
    "\n",
    "INPUT_PATH = '/working/input/adult'\n"
   ]
  },
  {
   "cell_type": "markdown",
   "metadata": {},
   "source": [
    "# Load data and split"
   ]
  },
  {
   "cell_type": "code",
   "execution_count": 3,
   "metadata": {},
   "outputs": [],
   "source": [
    "train = pd.read_csv(os.path.join(INPUT_PATH,'adult.data'))"
   ]
  },
  {
   "cell_type": "code",
   "execution_count": 4,
   "metadata": {},
   "outputs": [],
   "source": [
    "target = '<=50K'\n",
    "if 'Set' not in train.columns:\n",
    "    train['Set'] = np.random.choice(['Train','Valid','Test'],p=[.8,.1,.1],size=(train.shape[0],))\n",
    "    \n",
    "train_index = train[train.Set=='Train'].index\n",
    "valid_index = train[train.Set=='Valid'].index\n",
    "test_index = train[train.Set=='Test'].index"
   ]
  },
  {
   "cell_type": "markdown",
   "metadata": {},
   "source": [
    "# Simple preprocessing\n",
    "Label encode cate cols and fill empty cells"
   ]
  },
  {
   "cell_type": "code",
   "execution_count": 5,
   "metadata": {},
   "outputs": [
    {
     "name": "stdout",
     "output_type": "stream",
     "text": [
      "age <bound method IndexOpsMixin.nunique of 0        39\n",
      "1        50\n",
      "2        38\n",
      "3        53\n",
      "4        28\n",
      "         ..\n",
      "32556    27\n",
      "32557    40\n",
      "32558    58\n",
      "32559    22\n",
      "32560    52\n",
      "Name: age, Length: 32561, dtype: int64>\n",
      "workclass <bound method IndexOpsMixin.nunique of 0                State-gov\n",
      "1         Self-emp-not-inc\n",
      "2                  Private\n",
      "3                  Private\n",
      "4                  Private\n",
      "               ...        \n",
      "32556              Private\n",
      "32557              Private\n",
      "32558              Private\n",
      "32559              Private\n",
      "32560         Self-emp-inc\n",
      "Name: workclass, Length: 32561, dtype: object>\n",
      "education <bound method IndexOpsMixin.nunique of 0          Bachelors\n",
      "1          Bachelors\n",
      "2            HS-grad\n",
      "3               11th\n",
      "4          Bachelors\n",
      "            ...     \n",
      "32556     Assoc-acdm\n",
      "32557        HS-grad\n",
      "32558        HS-grad\n",
      "32559        HS-grad\n",
      "32560        HS-grad\n",
      "Name: education, Length: 32561, dtype: object>\n",
      "education-num <bound method IndexOpsMixin.nunique of 0        13\n",
      "1        13\n",
      "2         9\n",
      "3         7\n",
      "4        13\n",
      "         ..\n",
      "32556    12\n",
      "32557     9\n",
      "32558     9\n",
      "32559     9\n",
      "32560     9\n",
      "Name: education-num, Length: 32561, dtype: int64>\n",
      "marital-status <bound method IndexOpsMixin.nunique of 0              Never-married\n",
      "1         Married-civ-spouse\n",
      "2                   Divorced\n",
      "3         Married-civ-spouse\n",
      "4         Married-civ-spouse\n",
      "                ...         \n",
      "32556     Married-civ-spouse\n",
      "32557     Married-civ-spouse\n",
      "32558                Widowed\n",
      "32559          Never-married\n",
      "32560     Married-civ-spouse\n",
      "Name: marital-status, Length: 32561, dtype: object>\n",
      "occupation <bound method IndexOpsMixin.nunique of 0              Adm-clerical\n",
      "1           Exec-managerial\n",
      "2         Handlers-cleaners\n",
      "3         Handlers-cleaners\n",
      "4            Prof-specialty\n",
      "                ...        \n",
      "32556          Tech-support\n",
      "32557     Machine-op-inspct\n",
      "32558          Adm-clerical\n",
      "32559          Adm-clerical\n",
      "32560       Exec-managerial\n",
      "Name: occupation, Length: 32561, dtype: object>\n",
      "relationship <bound method IndexOpsMixin.nunique of 0         Not-in-family\n",
      "1               Husband\n",
      "2         Not-in-family\n",
      "3               Husband\n",
      "4                  Wife\n",
      "              ...      \n",
      "32556              Wife\n",
      "32557           Husband\n",
      "32558         Unmarried\n",
      "32559         Own-child\n",
      "32560              Wife\n",
      "Name: relationship, Length: 32561, dtype: object>\n",
      "race <bound method IndexOpsMixin.nunique of 0         White\n",
      "1         White\n",
      "2         White\n",
      "3         Black\n",
      "4         Black\n",
      "          ...  \n",
      "32556     White\n",
      "32557     White\n",
      "32558     White\n",
      "32559     White\n",
      "32560     White\n",
      "Name: race, Length: 32561, dtype: object>\n",
      "sex <bound method IndexOpsMixin.nunique of 0           Male\n",
      "1           Male\n",
      "2           Male\n",
      "3           Male\n",
      "4         Female\n",
      "          ...   \n",
      "32556     Female\n",
      "32557       Male\n",
      "32558     Female\n",
      "32559       Male\n",
      "32560     Female\n",
      "Name: sex, Length: 32561, dtype: object>\n",
      "capital-gain <bound method IndexOpsMixin.nunique of 0         2174\n",
      "1            0\n",
      "2            0\n",
      "3            0\n",
      "4            0\n",
      "         ...  \n",
      "32556        0\n",
      "32557        0\n",
      "32558        0\n",
      "32559        0\n",
      "32560    15024\n",
      "Name: capital-gain, Length: 32561, dtype: int64>\n",
      "capital-loss <bound method IndexOpsMixin.nunique of 0        0\n",
      "1        0\n",
      "2        0\n",
      "3        0\n",
      "4        0\n",
      "        ..\n",
      "32556    0\n",
      "32557    0\n",
      "32558    0\n",
      "32559    0\n",
      "32560    0\n",
      "Name: capital-loss, Length: 32561, dtype: int64>\n",
      "hours-per-week <bound method IndexOpsMixin.nunique of 0        40\n",
      "1        13\n",
      "2        40\n",
      "3        40\n",
      "4        40\n",
      "         ..\n",
      "32556    38\n",
      "32557    40\n",
      "32558    40\n",
      "32559    20\n",
      "32560    40\n",
      "Name: hours-per-week, Length: 32561, dtype: int64>\n",
      "native-country <bound method IndexOpsMixin.nunique of 0         United-States\n",
      "1         United-States\n",
      "2         United-States\n",
      "3         United-States\n",
      "4                  Cuba\n",
      "              ...      \n",
      "32556     United-States\n",
      "32557     United-States\n",
      "32558     United-States\n",
      "32559     United-States\n",
      "32560     United-States\n",
      "Name: native-country, Length: 32561, dtype: object>\n",
      "target <bound method IndexOpsMixin.nunique of 0         <=50K\n",
      "1         <=50K\n",
      "2         <=50K\n",
      "3         <=50K\n",
      "4         <=50K\n",
      "          ...  \n",
      "32556     <=50K\n",
      "32557      >50K\n",
      "32558     <=50K\n",
      "32559     <=50K\n",
      "32560      >50K\n",
      "Name: target, Length: 32561, dtype: object>\n",
      "Set <bound method IndexOpsMixin.nunique of 0        Valid\n",
      "1        Train\n",
      "2        Train\n",
      "3        Train\n",
      "4        Train\n",
      "         ...  \n",
      "32556    Train\n",
      "32557    Train\n",
      "32558    Train\n",
      "32559    Train\n",
      "32560    Train\n",
      "Name: Set, Length: 32561, dtype: object>\n"
     ]
    }
   ],
   "source": [
    "nunique = train.nunique()\n",
    "types = train.dtypes\n",
    "\n",
    "categorical_columns = []\n",
    "categorical_dims = {}\n",
    "for col in train.columns:\n",
    "    if types[col] == 'object' or nunique[col] < 200:\n",
    "        print(col, train[col].nunique)\n",
    "        le = LabelEncoder()\n",
    "        train[col] = train[col].fillna('VV_likely')\n",
    "        train[col] = le.fit_transform(train[col].values)\n",
    "        categorical_columns.append(col)\n",
    "        categorical_dims[col] = len(le.classes_)\n",
    "    else:\n",
    "        train.fillna(train.loc[train_index,col].mean(),inplace=True)"
   ]
  },
  {
   "cell_type": "code",
   "execution_count": 11,
   "metadata": {},
   "outputs": [],
   "source": [
    "\n",
    "# check that pipeline accepts strings\n",
    "train.loc[train['target']==0, 'target'] = \"wealthy\"\n",
    "train.loc[train['target']==1, 'target'] = \"not_wealthy\""
   ]
  },
  {
   "cell_type": "markdown",
   "metadata": {},
   "source": [
    "# Define categorical features for categorical embeddinngs"
   ]
  },
  {
   "cell_type": "code",
   "execution_count": 15,
   "metadata": {},
   "outputs": [],
   "source": [
    "unused_feat = ['Set']\n",
    "\n",
    "features = [col for col in train.columns if col not in unused_feat + ['target']]\n",
    "cate_idxs = [i for i, f in enumerate(features) if f in categorical_columns]\n",
    "cate_dims = [categorical_dims[f] for i,f in enumerate(features) if f in categorical_columns]"
   ]
  },
  {
   "cell_type": "markdown",
   "metadata": {},
   "source": [
    "# Network parameters"
   ]
  },
  {
   "cell_type": "code",
   "execution_count": 25,
   "metadata": {},
   "outputs": [
    {
     "name": "stdout",
     "output_type": "stream",
     "text": [
      "Device used : cpu\n"
     ]
    }
   ],
   "source": [
    "clf = TabNetClassifier(cat_idxs=cate_idxs,\n",
    "                       cat_dims=cate_dims,\n",
    "                       cat_emb_dim=1,\n",
    "                       optimizer_fn = torch.optim.Adam,\n",
    "                       optimizer_params=dict(lr=2e-2),\n",
    "                       scheduler_params={\n",
    "                           'step_size':50,\n",
    "                           'gamma':0.9,                           \n",
    "                       },\n",
    "                       scheduler_fn= torch.optim.lr_scheduler.StepLR,\n",
    "                       mask_type='entmax'\n",
    "                      )"
   ]
  },
  {
   "cell_type": "markdown",
   "metadata": {},
   "source": [
    "# Training"
   ]
  },
  {
   "cell_type": "code",
   "execution_count": 29,
   "metadata": {},
   "outputs": [],
   "source": [
    "X_train = train[features].values[train_index]\n",
    "y_train = train['target'].values[train_index]\n",
    "\n",
    "X_valid = train[features].values[valid_index]\n",
    "y_valid = train['target'].values[valid_index]\n",
    "\n",
    "X_test = train[features].values[test_index]\n",
    "y_test = train['target'].values[test_index]"
   ]
  },
  {
   "cell_type": "code",
   "execution_count": 30,
   "metadata": {},
   "outputs": [],
   "source": [
    "max_epochs = 1000"
   ]
  },
  {
   "cell_type": "code",
   "execution_count": 35,
   "metadata": {},
   "outputs": [
    {
     "name": "stdout",
     "output_type": "stream",
     "text": [
      "epoch 0  | loss: 0.3226  | Train_auc: 0.93854 | Valid_auc: 0.92009 |  0:00:03s\n",
      "epoch 1  | loss: 0.313   | Train_auc: 0.93909 | Valid_auc: 0.92149 |  0:00:06s\n",
      "epoch 2  | loss: 0.32089 | Train_auc: 0.93853 | Valid_auc: 0.91922 |  0:00:09s\n",
      "epoch 3  | loss: 0.31895 | Train_auc: 0.93912 | Valid_auc: 0.92097 |  0:00:13s\n",
      "epoch 4  | loss: 0.31539 | Train_auc: 0.94033 | Valid_auc: 0.92012 |  0:00:16s\n",
      "epoch 5  | loss: 0.3133  | Train_auc: 0.93958 | Valid_auc: 0.92249 |  0:00:19s\n",
      "epoch 6  | loss: 0.31445 | Train_auc: 0.93877 | Valid_auc: 0.92059 |  0:00:22s\n",
      "epoch 7  | loss: 0.31605 | Train_auc: 0.93872 | Valid_auc: 0.91732 |  0:00:26s\n",
      "epoch 8  | loss: 0.31432 | Train_auc: 0.93911 | Valid_auc: 0.92205 |  0:00:29s\n",
      "epoch 9  | loss: 0.31499 | Train_auc: 0.941   | Valid_auc: 0.92244 |  0:00:32s\n",
      "epoch 10 | loss: 0.30764 | Train_auc: 0.94078 | Valid_auc: 0.9229  |  0:00:36s\n",
      "epoch 11 | loss: 0.30819 | Train_auc: 0.94056 | Valid_auc: 0.92205 |  0:00:39s\n",
      "epoch 12 | loss: 0.30886 | Train_auc: 0.9398  | Valid_auc: 0.92106 |  0:00:42s\n",
      "epoch 13 | loss: 0.30212 | Train_auc: 0.94153 | Valid_auc: 0.92028 |  0:00:45s\n",
      "epoch 14 | loss: 0.29761 | Train_auc: 0.94045 | Valid_auc: 0.9187  |  0:00:49s\n",
      "epoch 15 | loss: 0.3046  | Train_auc: 0.94173 | Valid_auc: 0.92134 |  0:00:52s\n",
      "epoch 16 | loss: 0.31173 | Train_auc: 0.94118 | Valid_auc: 0.91828 |  0:00:55s\n",
      "epoch 17 | loss: 0.30805 | Train_auc: 0.94122 | Valid_auc: 0.91759 |  0:00:59s\n",
      "epoch 18 | loss: 0.31221 | Train_auc: 0.94255 | Valid_auc: 0.92091 |  0:01:02s\n",
      "epoch 19 | loss: 0.30524 | Train_auc: 0.94283 | Valid_auc: 0.91941 |  0:01:05s\n",
      "epoch 20 | loss: 0.30402 | Train_auc: 0.94183 | Valid_auc: 0.91906 |  0:01:09s\n",
      "epoch 21 | loss: 0.30434 | Train_auc: 0.94265 | Valid_auc: 0.91952 |  0:01:12s\n",
      "epoch 22 | loss: 0.30418 | Train_auc: 0.94341 | Valid_auc: 0.92046 |  0:01:15s\n",
      "epoch 23 | loss: 0.29935 | Train_auc: 0.94267 | Valid_auc: 0.91893 |  0:01:19s\n",
      "epoch 24 | loss: 0.30391 | Train_auc: 0.943   | Valid_auc: 0.91819 |  0:01:22s\n",
      "epoch 25 | loss: 0.30822 | Train_auc: 0.94318 | Valid_auc: 0.91768 |  0:01:25s\n",
      "epoch 26 | loss: 0.29901 | Train_auc: 0.94393 | Valid_auc: 0.91751 |  0:01:28s\n",
      "epoch 27 | loss: 0.29967 | Train_auc: 0.94231 | Valid_auc: 0.91577 |  0:01:31s\n",
      "epoch 28 | loss: 0.29939 | Train_auc: 0.94236 | Valid_auc: 0.91684 |  0:01:35s\n",
      "epoch 29 | loss: 0.30097 | Train_auc: 0.94307 | Valid_auc: 0.91512 |  0:01:38s\n",
      "epoch 30 | loss: 0.29602 | Train_auc: 0.9441  | Valid_auc: 0.91842 |  0:01:41s\n",
      "\n",
      "Early stopping occured at epoch 30 with best_epoch = 10 and best_Valid_auc = 0.9229\n",
      "Best weights from best epoch are automatically used!\n"
     ]
    }
   ],
   "source": [
    "clf.fit(\n",
    "    X_train=X_train,\n",
    "    y_train=y_train,\n",
    "    eval_set=[(X_train,y_train),(X_valid,y_valid)],\n",
    "    eval_name=['Train','Valid'],\n",
    "    eval_metric=['auc'],\n",
    "    max_epochs=max_epochs,\n",
    "    patience=20,\n",
    "    batch_size=1024,\n",
    "    virtual_batch_size=128,\n",
    "    num_workers=0,\n",
    "    weights=1,\n",
    "    drop_last=False\n",
    ")"
   ]
  },
  {
   "cell_type": "code",
   "execution_count": 36,
   "metadata": {},
   "outputs": [
    {
     "data": {
      "text/plain": [
       "[<matplotlib.lines.Line2D at 0x7f713a211bb0>]"
      ]
     },
     "execution_count": 36,
     "metadata": {},
     "output_type": "execute_result"
    },
    {
     "data": {
      "image/png": "[encoded data removed]",
      "text/plain": [
       "<Figure size 432x288 with 1 Axes>"
      ]
     },
     "metadata": {},
     "output_type": "display_data"
    }
   ],
   "source": [
    "# plot losses\n",
    "\n",
    "plt.plot(clf.history['loss'])"
   ]
  },
  {
   "cell_type": "code",
   "execution_count": 37,
   "metadata": {},
   "outputs": [
    {
     "data": {
      "text/plain": [
       "[<matplotlib.lines.Line2D at 0x7f713a115280>]"
      ]
     },
     "execution_count": 37,
     "metadata": {},
     "output_type": "execute_result"
    },
    {
     "data": {
      "image/png": "[encoded data removed]",
      "text/plain": [
       "<Figure size 432x288 with 1 Axes>"
      ]
     },
     "metadata": {},
     "output_type": "display_data"
    }
   ],
   "source": [
    "# plot auc\n",
    "plt.plot(clf.history['Train_auc'])\n",
    "plt.plot(clf.history['Valid_auc'])"
   ]
  },
  {
   "cell_type": "code",
   "execution_count": null,
   "metadata": {},
   "outputs": [],
   "source": [
    "# plot learning rates\n",
    "plt.plot(clf.history['lr'])"
   ]
  },
  {
   "cell_type": "markdown",
   "metadata": {},
   "source": [
    "# Predictions"
   ]
  },
  {
   "cell_type": "code",
   "execution_count": 40,
   "metadata": {},
   "outputs": [
    {
     "name": "stdout",
     "output_type": "stream",
     "text": [
      "BEST VALID SCORE FOR : 0.9229003341472818\n",
      "FINAL TEST SCORE FOR : 0.9225417589111057\n"
     ]
    }
   ],
   "source": [
    "preds = clf.predict_proba(X_test)\n",
    "test_auc = roc_auc_score(y_score=preds[:,1], y_true=y_test)\n",
    "\n",
    "\n",
    "preds_valid = clf.predict_proba(X_valid)\n",
    "valid_auc = roc_auc_score(y_score=preds_valid[:,1], y_true=y_valid)\n",
    "\n",
    "print(f\"BEST VALID SCORE FOR : {clf.best_cost}\")\n",
    "print(f\"FINAL TEST SCORE FOR : {test_auc}\")"
   ]
  },
  {
   "cell_type": "markdown",
   "metadata": {},
   "source": [
    "# Global explainability: feat importance summing"
   ]
  },
  {
   "cell_type": "code",
   "execution_count": 59,
   "metadata": {},
   "outputs": [
    {
     "data": {
      "image/png": "[encoded data removed]",
      "text/plain": [
       "<Figure size 504x504 with 1 Axes>"
      ]
     },
     "metadata": {},
     "output_type": "display_data"
    }
   ],
   "source": [
    "def visualize_importance(models,df):\n",
    "    feature_importance_df = pd.DataFrame()\n",
    "    \n",
    "    for i, model in enumerate(models):\n",
    "        _df = pd.DataFrame()\n",
    "        _df['feature_importance'] = model.feature_importances_\n",
    "        _df['column'] = df.columns\n",
    "        _df['fold'] = i+1\n",
    "        feature_importance_df = pd.concat([feature_importance_df,_df],axis=0,ignore_index=True)\n",
    "    \n",
    "    order = feature_importance_df.groupby('column').sum()[['feature_importance']].sort_values('feature_importance',ascending=False).index\n",
    "    \n",
    "    fig, ax = plt.subplots(figsize=(max(6, len(order)*.5),7))\n",
    "    sns.boxenplot(data=feature_importance_df, x='column', y='feature_importance', order=order, ax=ax)\n",
    "    ax.tick_params(axis='x', rotation=90)\n",
    "    ax.grid()\n",
    "    fig.tight_layout()\n",
    "    return fig,ax\n",
    "\n",
    "fig, ax = visualize_importance([clf],train[features] )"
   ]
  },
  {
   "cell_type": "markdown",
   "metadata": {},
   "source": [
    "# Local explainability and masks"
   ]
  },
  {
   "cell_type": "code",
   "execution_count": 60,
   "metadata": {},
   "outputs": [],
   "source": [
    "explain_matrix, masks = clf.explain(X_test)"
   ]
  },
  {
   "cell_type": "code",
   "execution_count": 80,
   "metadata": {},
   "outputs": [
    {
     "data": {
      "image/png": "[encoded data removed]",
      "text/plain": [
       "<Figure size 1440x1440 with 3 Axes>"
      ]
     },
     "metadata": {},
     "output_type": "display_data"
    }
   ],
   "source": [
    "fig, ax = plt.subplots(1,3, figsize=(20,20))\n",
    "\n",
    "for i in range(3):\n",
    "    ax[i].imshow(masks[i][:10])\n",
    "    ax[i].set_xticks([i for i in range(len(train[features].columns))])\n",
    "    ax[i].set_xticklabels(train[features].columns)\n",
    "    ax[i].tick_params(axis='x', rotation=90)\n",
    "    ax[i].set_title(f'mask {i}')"
   ]
  },
  {
   "cell_type": "code",
   "execution_count": 69,
   "metadata": {},
   "outputs": [
    {
     "data": {
      "text/plain": [
       "(32561, 14)"
      ]
     },
     "execution_count": 69,
     "metadata": {},
     "output_type": "execute_result"
    }
   ],
   "source": [
    "train[features].shape"
   ]
  },
  {
   "cell_type": "code",
   "execution_count": 76,
   "metadata": {},
   "outputs": [
    {
     "data": {
      "text/plain": [
       "[0, 1, 2, 3, 4, 5, 6, 7, 8, 9, 10, 11, 12, 13]"
      ]
     },
     "execution_count": 76,
     "metadata": {},
     "output_type": "execute_result"
    }
   ],
   "source": [
    "[i for i in range(len(train[features].columns))]"
   ]
  },
  {
   "cell_type": "code",
   "execution_count": null,
   "metadata": {},
   "outputs": [],
   "source": []
  }
 ],
 "metadata": {
  "kernelspec": {
   "display_name": "Python 3",
   "language": "python",
   "name": "python3"
  },
  "language_info": {
   "codemirror_mode": {
    "name": "ipython",
    "version": 3
   },
   "file_extension": ".py",
   "mimetype": "text/x-python",
   "name": "python",
   "nbconvert_exporter": "python",
   "pygments_lexer": "ipython3",
   "version": "3.8.6"
  }
 },
 "nbformat": 4,
 "nbformat_minor": 4
}
