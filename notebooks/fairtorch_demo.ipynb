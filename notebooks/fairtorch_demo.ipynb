{
 "cells": [
  {
   "cell_type": "code",
   "execution_count": 1,
   "metadata": {},
   "outputs": [],
   "source": [
    "from fairtorch import ConstraintLoss, DemographicParityLoss, EqualiedOddsLoss\n",
    "\n",
    "import random\n",
    "import numpy as np \n",
    "import os\n",
    "import torch \n",
    "from torch.utils.data import DataLoader, Dataset\n",
    "import torch.nn as nn\n",
    "import torch.optim as optim"
   ]
  },
  {
   "cell_type": "code",
   "execution_count": 2,
   "metadata": {},
   "outputs": [],
   "source": [
    "def seed_everything(seed):\n",
    "    random.seed(seed)\n",
    "    os.environ[\"PYTHONHASHSEED\"] = str(seed)\n",
    "    np.random.seed(seed)\n",
    "    torch.manual_seed(seed)\n",
    "    torch.cuda.manual_seed(seed)\n",
    "    torch.backends.cudnn.deterministic = True\n",
    "\n",
    "\n",
    "seed_everything(42)"
   ]
  },
  {
   "cell_type": "markdown",
   "metadata": {},
   "source": [
    "### Prepare synthetic dataset "
   ]
  },
  {
   "cell_type": "code",
   "execution_count": 3,
   "metadata": {},
   "outputs": [],
   "source": [
    "n_samples = 512\n",
    "n_feature = 4 \n",
    "\n",
    "def generate_data(n_samples=n_samples, n_feature=n_feature):\n",
    "    \n",
    "    y = np.random.randint(0,2, size=n_samples)\n",
    "    loc0 = np.random.uniform(-1,1,n_feature)\n",
    "    loc1 = np.random.uniform(-1,1,n_feature)\n",
    "    \n",
    "    X = np.zeros((n_samples, n_feature))\n",
    "    for i,u in enumerate(y):\n",
    "        if y[i]==0:\n",
    "            X[i] = np.random.normal(loc=loc0,scale=1.0, size=n_feature)\n",
    "        else:\n",
    "            X[i] = np.random.normal(loc=loc1, scale=1.0, size=n_feature)\n",
    "    \n",
    "    sensitive_feature = (X[:,0]>X[:,0].mean()).astype(int)\n",
    "    X = torch.from_numpy(X).float()\n",
    "    y = torch.from_numpy(y).float()\n",
    "    sensitive_feature = torch.from_numpy(sensitive_feature)\n",
    "    \n",
    "    return X, y, sensitive_feature"
   ]
  },
  {
   "cell_type": "code",
   "execution_count": 4,
   "metadata": {},
   "outputs": [],
   "source": [
    "dataset = generate_data(1024,4)"
   ]
  },
  {
   "cell_type": "markdown",
   "metadata": {},
   "source": [
    "#### split dataset"
   ]
  },
  {
   "cell_type": "code",
   "execution_count": 5,
   "metadata": {},
   "outputs": [],
   "source": [
    "n_train = int(0.7 * len(dataset[0]))\n",
    "X_train, y_train, sensitive_train = map(lambda x: x[:n_train], dataset)\n",
    "X_test, y_test, sensitive_test = map(lambda x: x[n_train:], dataset)"
   ]
  },
  {
   "cell_type": "markdown",
   "metadata": {},
   "source": [
    "### non fair model"
   ]
  },
  {
   "cell_type": "code",
   "execution_count": 6,
   "metadata": {},
   "outputs": [
    {
     "name": "stdout",
     "output_type": "stream",
     "text": [
      "acc train 0.8743016719818115\n",
      "acc test 0.8896104097366333\n"
     ]
    },
    {
     "name": "stderr",
     "output_type": "stream",
     "text": [
      "/opt/conda/lib/python3.8/site-packages/torch/autograd/__init__.py:130: UserWarning: CUDA initialization: Found no NVIDIA driver on your system. Please check that you have an NVIDIA GPU and installed a driver from http://www.nvidia.com/Download/index.aspx (Triggered internally at  /pytorch/c10/cuda/CUDAFunctions.cpp:100.)\n",
      "  Variable._execution_engine.run_backward(\n"
     ]
    }
   ],
   "source": [
    "hidden_size = 32\n",
    "n_epochs = 50\n",
    "\n",
    "\n",
    "model = nn.Sequential(nn.Linear(n_feature,1))\n",
    "\n",
    "criterion = nn.BCEWithLogitsLoss()\n",
    "optimizer = optim.SGD(model.parameters(), lr=0.1)\n",
    "\n",
    "for param in model.parameters():\n",
    "    nn.init.normal_(param, 0, 1e-7)\n",
    "\n",
    "model.train()\n",
    "\n",
    "for i in range(n_epochs):\n",
    "    optimizer.zero_grad()\n",
    "    logit = model(X_train)\n",
    "    loss = criterion(logit.view(-1), y_train)\n",
    "    loss.backward()\n",
    "    optimizer.step()\n",
    "    \n",
    "acc_train = ((torch.sigmoid(model(X_train)).view(-1) >0.5).float()==y_train).float().mean().float().item()\n",
    "acc_test = ((torch.sigmoid(model(X_test)).view(-1) >0.5).float()==y_test).float().mean().float().item()\n",
    "\n",
    "print('acc train', acc_train)\n",
    "print('acc test', acc_test)\n",
    "acc_nonfair_test = acc_test"
   ]
  },
  {
   "cell_type": "markdown",
   "metadata": {},
   "source": [
    "### parity check"
   ]
  },
  {
   "cell_type": "code",
   "execution_count": 11,
   "metadata": {},
   "outputs": [],
   "source": [
    "y_pred = (torch.sigmoid(model(X_test)).view(-1)>0.5).float()"
   ]
  },
  {
   "cell_type": "code",
   "execution_count": 12,
   "metadata": {},
   "outputs": [],
   "source": [
    "y_pred = (torch.sigmoid(model(X_test)).view(-1) > 0.5 ).float()"
   ]
  },
  {
   "cell_type": "code",
   "execution_count": 13,
   "metadata": {},
   "outputs": [
    {
     "name": "stdout",
     "output_type": "stream",
     "text": [
      "{0: 0.7272727489471436, 1: 0.14935064315795898}\n",
      "0.5779221057891846\n"
     ]
    }
   ],
   "source": [
    "# expected value of y_pred = 1 for each sensitive group\n",
    "# E[h(X)|A=a]\n",
    "# correspond to demographic parity\n",
    "expect_by_a={}\n",
    "for i in [0,1]:\n",
    "    idx = sensitive_test==i\n",
    "    expect_by_a[i] = y_pred[idx].mean().item()\n",
    "print(expect_by_a)\n",
    "nonfair_gap = np.abs(expect_by_a[0]-expect_by_a[1])\n",
    "print(nonfair_gap)"
   ]
  },
  {
   "cell_type": "code",
   "execution_count": 14,
   "metadata": {},
   "outputs": [
    {
     "name": "stdout",
     "output_type": "stream",
     "text": [
      "{0: {0: 0.25, 1: 0.918181836605072}, 1: {0: 0.01652892492711544, 1: 0.6363636255264282}}\n",
      "gap:  0.9016529116779566\n"
     ]
    }
   ],
   "source": [
    "# expected value of y_pred = 1 for each sensitive group and true label\n",
    "# E[h(X)|A=a, Y=y]\n",
    "# correspond to equalized odds\n",
    "\n",
    "expect_by_a_y = {}\n",
    "expect_by_a_y_list = []\n",
    "\n",
    "for i in [0, 1]:\n",
    "    expect_by_a_y[i]={}\n",
    "    for j in [0, 1]:\n",
    "        idx= (sensitive_test == i) & (y_test == j)\n",
    "        expc = y_pred[idx].mean().item()\n",
    "        expect_by_a_y[i][j] =  expc\n",
    "        expect_by_a_y_list.append(expc)\n",
    "print(expect_by_a_y)\n",
    "vanilla_gap_eo = np.max(expect_by_a_y_list)- np.min(expect_by_a_y_list)\n",
    "print(\"gap: \", vanilla_gap_eo)"
   ]
  },
  {
   "cell_type": "markdown",
   "metadata": {},
   "source": [
    "### Demographi parity"
   ]
  },
  {
   "cell_type": "markdown",
   "metadata": {},
   "source": [
    "#### fairness for dp"
   ]
  },
  {
   "cell_type": "code",
   "execution_count": 15,
   "metadata": {},
   "outputs": [],
   "source": [
    "model = nn.Sequential(nn.Linear(n_feature,1))\n",
    "dp_loss = DemographicParityLoss(sensitive_classes=[0,1], alpha=100)\n",
    "optimizer = optim.SGD(model.parameters(), lr=0.1)\n",
    "\n",
    "for param in model.parameters():\n",
    "    nn.init.normal_(param, 0, 1e-7)\n",
    "model.train()\n",
    "\n",
    "for i in range(n_epochs):\n",
    "    optimizer.zero_grad()\n",
    "    logit = model(X_train)\n",
    "    loss = criterion(logit.view(-1), y_train)\n",
    "    #　普通のロスに追加する\n",
    "    loss += dp_loss(X_train, logit, sensitive_train)\n",
    "    loss.backward()\n",
    "    optimizer.step()"
   ]
  },
  {
   "cell_type": "code",
   "execution_count": 16,
   "metadata": {},
   "outputs": [
    {
     "name": "stdout",
     "output_type": "stream",
     "text": [
      "acc train:  0.7150837779045105\n",
      "acc test:  0.7045454382896423\n"
     ]
    }
   ],
   "source": [
    "acc_train = ((torch.sigmoid(model(X_train)).view(-1) > 0.5 ).float()  == y_train ).float().mean().float().item()\n",
    "acc_test = ((torch.sigmoid(model(X_test)).view(-1) > 0.5 ).float()  == y_test ).float().mean().float().item()\n",
    "\n",
    "print(\"acc train: \", acc_train)\n",
    "print(\"acc test: \",acc_test)\n",
    "acc_test_dp = acc_test"
   ]
  },
  {
   "cell_type": "markdown",
   "metadata": {},
   "source": [
    "#### check parity for dp"
   ]
  },
  {
   "cell_type": "code",
   "execution_count": 17,
   "metadata": {},
   "outputs": [],
   "source": [
    "y_pred = (torch.sigmoid(model(X_test)).view(-1)>0.5).float()"
   ]
  },
  {
   "cell_type": "code",
   "execution_count": 18,
   "metadata": {},
   "outputs": [
    {
     "name": "stdout",
     "output_type": "stream",
     "text": [
      "{0: 0.5324675440788269, 1: 0.5064935088157654}\n",
      "0.025974035263061523\n"
     ]
    }
   ],
   "source": [
    "# expected value of y_pred = 1 for each sensitive group\n",
    "# E[h(X)|A=a]\n",
    "# correspond to demographic parity\n",
    "expect_by_a={}\n",
    "for i in [0,1]:\n",
    "    idx = sensitive_test==i\n",
    "    expect_by_a[i] = y_pred[idx].mean().item()\n",
    "print(expect_by_a)\n",
    "nonfair_gap = np.abs(expect_by_a[0]-expect_by_a[1])\n",
    "print(nonfair_gap)"
   ]
  },
  {
   "cell_type": "code",
   "execution_count": 27,
   "metadata": {},
   "outputs": [
    {
     "name": "stdout",
     "output_type": "stream",
     "text": [
      "{0: {0: 0.15909090638160706, 1: 0.6818181872367859}, 1: {0: 0.38842976093292236, 1: 0.939393937587738}}\n",
      "gap:  0.780303031206131\n"
     ]
    }
   ],
   "source": [
    "# expected value of y_pred = 1 for each sensitive group and true label\n",
    "# E[h(X)|A=a, Y=y]\n",
    "# correspond to equalized odds\n",
    "\n",
    "expect_by_a_y = {}\n",
    "expect_by_a_y_list = []\n",
    "\n",
    "for i in [0, 1]:\n",
    "    expect_by_a_y[i]={}\n",
    "    for j in [0, 1]:\n",
    "        idx= (sensitive_test == i) & (y_test == j)\n",
    "        expc = y_pred[idx].mean().item()\n",
    "        expect_by_a_y[i][j] =  expc\n",
    "        expect_by_a_y_list.append(expc)\n",
    "print(expect_by_a_y)\n",
    "vanilla_gap_eo = np.max(expect_by_a_y_list)- np.min(expect_by_a_y_list)\n",
    "print(\"gap: \", vanilla_gap_eo)"
   ]
  },
  {
   "cell_type": "code",
   "execution_count": null,
   "metadata": {},
   "outputs": [],
   "source": []
  },
  {
   "cell_type": "markdown",
   "metadata": {},
   "source": [
    "### Equalied Odds"
   ]
  },
  {
   "cell_type": "markdown",
   "metadata": {},
   "source": [
    "#### fairness for eo"
   ]
  },
  {
   "cell_type": "code",
   "execution_count": 32,
   "metadata": {},
   "outputs": [
    {
     "name": "stdout",
     "output_type": "stream",
     "text": [
      "acc train:  0.7025139927864075\n",
      "acc test:  0.7532467246055603\n"
     ]
    }
   ],
   "source": [
    "model = nn.Sequential(nn.Linear(n_feature,1))\n",
    "eo_loss = EqualiedOddsLoss(sensitive_classes=[0, 1], alpha=100)\n",
    "optimizer = optim.SGD(model.parameters(),lr=0.1)\n",
    "\n",
    "\n",
    "\n",
    "for param in model.parameters():\n",
    "    nn.init.normal_(param, 0, 1e-7)\n",
    "model.train()\n",
    "\n",
    "for i in range(0, 50):\n",
    "    optimizer.zero_grad()    \n",
    "    logit = model(X_train)\n",
    "    loss = criterion(logit.view(-1), y_train)\n",
    "    loss +=  eo_loss(X_train, logit, sensitive_train, y_train)\n",
    "    loss.backward()\n",
    "    optimizer.step()\n",
    "\n",
    "\n",
    "acc_train = ((torch.sigmoid(model(X_train)).view(-1) > 0.5 ).float()  == y_train ).float().mean().float().item()\n",
    "acc_test = ((torch.sigmoid(model(X_test)).view(-1) > 0.5 ).float()  == y_test ).float().mean().float().item()\n",
    "\n",
    "print(\"acc train: \", acc_train)\n",
    "print(\"acc test: \",acc_test)\n",
    "acc_test_eo = acc_test\n"
   ]
  },
  {
   "cell_type": "markdown",
   "metadata": {},
   "source": [
    "#### check parity for dp"
   ]
  },
  {
   "cell_type": "code",
   "execution_count": 36,
   "metadata": {},
   "outputs": [],
   "source": [
    "y_pred = (torch.sigmoid(model(X_test)).view(-1)>0.5).float()"
   ]
  },
  {
   "cell_type": "code",
   "execution_count": 37,
   "metadata": {},
   "outputs": [
    {
     "name": "stdout",
     "output_type": "stream",
     "text": [
      "{0: 0.37012988328933716, 1: 0.12987013161182404}\n",
      "0.24025975167751312\n"
     ]
    }
   ],
   "source": [
    "# expected value of y_pred = 1 for each sensitive group\n",
    "# E[h(X)|A=a]\n",
    "# correspond to demographic parity\n",
    "expect_by_a={}\n",
    "for i in [0,1]:\n",
    "    idx = sensitive_test==i\n",
    "    expect_by_a[i] = y_pred[idx].mean().item()\n",
    "print(expect_by_a)\n",
    "nonfair_gap = np.abs(expect_by_a[0]-expect_by_a[1])\n",
    "print(nonfair_gap)"
   ]
  },
  {
   "cell_type": "code",
   "execution_count": 38,
   "metadata": {},
   "outputs": [
    {
     "name": "stdout",
     "output_type": "stream",
     "text": [
      "{0: {0: 0.0, 1: 0.5181818008422852}, 1: {0: 0.041322313249111176, 1: 0.4545454680919647}}\n",
      "gap:  0.5181818008422852\n"
     ]
    }
   ],
   "source": [
    "# expected value of y_pred = 1 for each sensitive group and true label\n",
    "# E[h(X)|A=a, Y=y]\n",
    "# correspond to equalized odds\n",
    "\n",
    "expect_by_a_y = {}\n",
    "expect_by_a_y_list = []\n",
    "\n",
    "for i in [0, 1]:\n",
    "    expect_by_a_y[i]={}\n",
    "    for j in [0, 1]:\n",
    "        idx= (sensitive_test == i) & (y_test == j)\n",
    "        expc = y_pred[idx].mean().item()\n",
    "        expect_by_a_y[i][j] =  expc\n",
    "        expect_by_a_y_list.append(expc)\n",
    "print(expect_by_a_y)\n",
    "vanilla_gap_eo = np.max(expect_by_a_y_list)- np.min(expect_by_a_y_list)\n",
    "print(\"gap: \", vanilla_gap_eo)"
   ]
  },
  {
   "cell_type": "markdown",
   "metadata": {},
   "source": [
    "### Trade-off between fairness and accuracy"
   ]
  },
  {
   "cell_type": "code",
   "execution_count": 42,
   "metadata": {},
   "outputs": [],
   "source": [
    "acc_list = []\n",
    "dp_fairness_list = []\n",
    "alpha_list = np.logspace(-2, 2, 20)\n",
    "\n",
    "for alpha in alpha_list:\n",
    "    model = nn.Sequential(nn.Linear(n_feature,1))\n",
    "    dp_loss = DemographicParityLoss(sensitive_classes=[0, 1], alpha=alpha)\n",
    "    optimizer = optim.Adam(model.parameters())\n",
    "\n",
    "\n",
    "    for param in model.parameters():\n",
    "        nn.init.normal_(param, 0, 1e-7)\n",
    "    model.train()\n",
    "\n",
    "    for i in range(0, 50):\n",
    "        optimizer.zero_grad()    \n",
    "        logit = model(X_train)\n",
    "        loss = criterion(logit.view(-1), y_train)\n",
    "        loss +=  dp_loss(X_train, logit, sensitive_train)\n",
    "        loss.backward()\n",
    "        optimizer.step()\n",
    "\n",
    "\n",
    "    acc_train = ((torch.sigmoid(model(X_train)).view(-1) > 0.5 ).float()  == y_train ).float().mean().float().item()\n",
    "    acc_test = ((torch.sigmoid(model(X_test)).view(-1) > 0.5 ).float()  == y_test ).float().mean().float().item()\n",
    "\n",
    "    acc_test_dp = acc_test\n",
    "    y_pred = (torch.sigmoid(model(X_test)).view(-1) > 0.5 ).float()\n",
    "    acc_list.append(acc_test_dp)\n",
    "\n",
    "    expect_by_a={}\n",
    "    for i in [0, 1]:\n",
    "        idx = sensitive_test==i\n",
    "        expect_by_a[i]=  y_pred[idx].mean().item()\n",
    "    dp_gap_dp = np.abs(expect_by_a[0] - expect_by_a[1])\n",
    "    dp_fairness_list.append(dp_gap_dp)"
   ]
  },
  {
   "cell_type": "code",
   "execution_count": 43,
   "metadata": {},
   "outputs": [],
   "source": [
    "from matplotlib import pyplot as plt"
   ]
  },
  {
   "cell_type": "code",
   "execution_count": 44,
   "metadata": {},
   "outputs": [
    {
     "data": {
      "text/plain": [
       "Text(0, 0.5, 'total accuracy')"
      ]
     },
     "execution_count": 44,
     "metadata": {},
     "output_type": "execute_result"
    },
    {
     "data": {
      "image/png": "[encoded data removed]",
      "text/plain": [
       "<Figure size 432x288 with 1 Axes>"
      ]
     },
     "metadata": {
      "needs_background": "light"
     },
     "output_type": "display_data"
    }
   ],
   "source": [
    "\n",
    "plt.scatter(dp_fairness_list, acc_list)\n",
    "plt.xlabel(\"gap of expected values between each group\")\n",
    "plt.ylabel(\"total accuracy\")"
   ]
  },
  {
   "cell_type": "code",
   "execution_count": 45,
   "metadata": {},
   "outputs": [
    {
     "data": {
      "text/plain": [
       "Text(0.5, 0, 'alpha (degree of contraint)')"
      ]
     },
     "execution_count": 45,
     "metadata": {},
     "output_type": "execute_result"
    },
    {
     "data": {
      "image/png": "[encoded data removed]",
      "text/plain": [
       "<Figure size 432x288 with 1 Axes>"
      ]
     },
     "metadata": {
      "needs_background": "light"
     },
     "output_type": "display_data"
    }
   ],
   "source": [
    "\n",
    "plt.scatter(alpha_list, dp_fairness_list)\n",
    "plt.ylabel(\"gap of expected values between each group\")\n",
    "plt.xlabel(\"alpha (degree of contraint)\")"
   ]
  },
  {
   "cell_type": "code",
   "execution_count": null,
   "metadata": {},
   "outputs": [],
   "source": []
  }
 ],
 "metadata": {
  "kernelspec": {
   "display_name": "Python 3",
   "language": "python",
   "name": "python3"
  },
  "language_info": {
   "codemirror_mode": {
    "name": "ipython",
    "version": 3
   },
   "file_extension": ".py",
   "mimetype": "text/x-python",
   "name": "python",
   "nbconvert_exporter": "python",
   "pygments_lexer": "ipython3",
   "version": "3.8.6"
  }
 },
 "nbformat": 4,
 "nbformat_minor": 4
}
