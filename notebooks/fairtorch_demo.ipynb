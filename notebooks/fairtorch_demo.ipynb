{
 "cells": [
  {
   "cell_type": "code",
   "execution_count": 20,
   "metadata": {},
   "outputs": [],
   "source": [
    "from fairtorch import ConstraintLoss, DemographicParityLoss, EqualiedOddsLoss\n",
    "\n",
    "import random\n",
    "import numpy as np \n",
    "import os\n",
    "import torch \n",
    "from torch.utils.data import DataLoader, Dataset\n",
    "import torch.nn as nn\n",
    "import torch.optim as optim"
   ]
  },
  {
   "cell_type": "code",
   "execution_count": 21,
   "metadata": {},
   "outputs": [],
   "source": [
    "\n",
    "def seed_everything(seed):\n",
    "    random.seed(seed)\n",
    "    os.environ[\"PYTHONHASHSEED\"] = str(seed)\n",
    "    np.random.seed(seed)\n",
    "    torch.manual_seed(seed)\n",
    "    torch.cuda.manual_seed(seed)\n",
    "    torch.backends.cudnn.deterministic = True\n",
    "\n",
    "\n",
    "seed_everything(42)"
   ]
  },
  {
   "cell_type": "markdown",
   "metadata": {},
   "source": [
    "### Prepare synthetic dataset "
   ]
  },
  {
   "cell_type": "code",
   "execution_count": 22,
   "metadata": {},
   "outputs": [],
   "source": [
    "n_samples = 512\n",
    "n_feature = 4 \n",
    "\n",
    "def generate_data(n_samples=n_samples, n_feature=n_feature):\n",
    "    \n",
    "    y = np.random.randint(0,2, size=n_samples)\n",
    "    loc0 = np.random.uniform(-1,1,n_feature)\n",
    "    loc1 = np.random.uniform(-1,1,n_feature)\n",
    "    \n",
    "    X = np.zeros((n_samples, n_feature))\n",
    "    for i,u in enumerate(y):\n",
    "        if y[i]==0:\n",
    "            X[i] = np.random.normal(loc=loc0,scale=1.0, size=n_feature)\n",
    "        else:\n",
    "            X[i] = np.random.normal(loc=loc1, scale=1.0, size=n_feature)\n",
    "    \n",
    "    sensitive_feature = (X[:,0]>X[:,0].mean()).astype(int)\n",
    "    X = torch.from_numpy(X).float()\n",
    "    y = torch.from_numpy(y).float()\n",
    "    sensitive_feature = torch.from_numpy(sensitive_feature)\n",
    "    \n",
    "    return X, y, sensitive_feature"
   ]
  },
  {
   "cell_type": "code",
   "execution_count": 23,
   "metadata": {},
   "outputs": [],
   "source": [
    "dataset = generate_data(1024,4)"
   ]
  },
  {
   "cell_type": "markdown",
   "metadata": {},
   "source": [
    "#### split dataset"
   ]
  },
  {
   "cell_type": "code",
   "execution_count": 24,
   "metadata": {},
   "outputs": [],
   "source": [
    "n_train = int(0.7 * len(dataset[0]))\n",
    "X_train, y_train, sensitive_train = map(lambda x: x[:n_train], dataset)\n",
    "X_test, y_test, sensitive_test = map(lambda x: x[n_train:], dataset)"
   ]
  },
  {
   "cell_type": "markdown",
   "metadata": {},
   "source": [
    "### non fair model"
   ]
  },
  {
   "cell_type": "code",
   "execution_count": 28,
   "metadata": {},
   "outputs": [
    {
     "name": "stdout",
     "output_type": "stream",
     "text": [
      "acc train 0.8743016719818115\n",
      "acc test 0.8896104097366333\n"
     ]
    }
   ],
   "source": [
    "hidden_size = 32\n",
    "n_epochs = 50\n",
    "\n",
    "\n",
    "model = nn.Sequential(nn.Linear(n_feature,1))\n",
    "\n",
    "criterion = nn.BCEWithLogitsLoss()\n",
    "optimizer = optim.SGD(model.parameters(), lr=0.1)\n",
    "\n",
    "for param in model.parameters():\n",
    "    nn.init.normal_(param, 0, 1e-7)\n",
    "\n",
    "model.train()\n",
    "\n",
    "for i in range(n_epochs):\n",
    "    optimizer.zero_grad()\n",
    "    logit = model(X_train)\n",
    "    loss = criterion(logit.view(-1), y_train)\n",
    "    loss.backward()\n",
    "    optimizer.step()\n",
    "    \n",
    "acc_train = ((torch.sigmoid(model(X_train)).view(-1) >0.5).float()==y_train).float().mean().float().item()\n",
    "acc_test = ((torch.sigmoid(model(X_test)).view(-1) >0.5).float()==y_test).float().mean().float().item()\n",
    "\n",
    "print('acc train', acc_train)\n",
    "print('acc test', acc_test)\n",
    "acc_nonfair_test = acc_test"
   ]
  },
  {
   "cell_type": "markdown",
   "metadata": {},
   "source": [
    "### parity check"
   ]
  },
  {
   "cell_type": "code",
   "execution_count": 32,
   "metadata": {},
   "outputs": [],
   "source": [
    "y_pred = (torch.sigmoid(model(X_test)).view(-1)>0.5).float()"
   ]
  },
  {
   "cell_type": "code",
   "execution_count": 41,
   "metadata": {},
   "outputs": [],
   "source": [
    "y_pred = (torch.sigmoid(model(X_test)).view(-1) > 0.5 ).float()"
   ]
  },
  {
   "cell_type": "code",
   "execution_count": 42,
   "metadata": {},
   "outputs": [
    {
     "name": "stdout",
     "output_type": "stream",
     "text": [
      "{0: 0.7272727489471436, 1: 0.14935064315795898}\n",
      "0.5779221057891846\n"
     ]
    }
   ],
   "source": [
    "# expected value of y_pred = 1 for each sensitive group\n",
    "# E[h(X)|A=a]\n",
    "# correspond to demographic parity\n",
    "expect_by_a={}\n",
    "for i in [0,1]:\n",
    "    idx = sensitive_test==i\n",
    "    expect_by_a[i] = y_pred[idx].mean().item()\n",
    "print(expect_by_a)\n",
    "nonfair_gap = np.abs(expect_by_a[0]-expect_by_a[1])\n",
    "print(nonfair_gap)"
   ]
  },
  {
   "cell_type": "code",
   "execution_count": 44,
   "metadata": {},
   "outputs": [
    {
     "name": "stdout",
     "output_type": "stream",
     "text": [
      "{0: {0: 0.25, 1: 0.918181836605072}, 1: {0: 0.01652892492711544, 1: 0.6363636255264282}}\n",
      "gap:  0.9016529116779566\n"
     ]
    }
   ],
   "source": [
    "# expected value of y_pred = 1 for each sensitive group and true label\n",
    "# E[h(X)|A=a, Y=y]\n",
    "# correspond to equalized odds\n",
    "\n",
    "expect_by_a_y = {}\n",
    "expect_by_a_y_list = []\n",
    "\n",
    "for i in [0, 1]:\n",
    "    expect_by_a_y[i]={}\n",
    "    for j in [0, 1]:\n",
    "        idx= (sensitive_test == i) & (y_test == j)\n",
    "        expc = y_pred[idx].mean().item()\n",
    "        expect_by_a_y[i][j] =  expc\n",
    "        expect_by_a_y_list.append(expc)\n",
    "print(expect_by_a_y)\n",
    "vanilla_gap_eo = np.max(expect_by_a_y_list)- np.min(expect_by_a_y_list)\n",
    "print(\"gap: \", vanilla_gap_eo)"
   ]
  },
  {
   "cell_type": "markdown",
   "metadata": {},
   "source": [
    "### Demographi parity"
   ]
  },
  {
   "cell_type": "markdown",
   "metadata": {},
   "source": [
    "#### fairness for dp"
   ]
  },
  {
   "cell_type": "code",
   "execution_count": 46,
   "metadata": {},
   "outputs": [],
   "source": [
    "model = nn.Sequential(nn.Linear(n_feature,1))\n",
    "dp_loss = DemographicParityLoss(sensitive_classes=[0,1], alpha=100)\n",
    "optimizer = optim.SGD(model.parameters(), lr=0.1)\n",
    "\n",
    "for param in model.parameters():\n",
    "    nn.init.normal_(param, 0, 1e-7)\n",
    "model.train()\n",
    "\n",
    "for i in range(n_epochs):\n",
    "    optimizer.zero_grad()\n",
    "    logit = model(X_train)\n",
    "    loss = criterion(logit.view(-1), y_train)\n",
    "    #　普通のロスに追加する\n",
    "    loss += dp_loss(X_train, logit, sensitive_train)\n",
    "    loss.backward()\n",
    "    optimizer.step()"
   ]
  },
  {
   "cell_type": "code",
   "execution_count": 47,
   "metadata": {},
   "outputs": [
    {
     "name": "stdout",
     "output_type": "stream",
     "text": [
      "acc train:  0.7150837779045105\n",
      "acc test:  0.7045454382896423\n"
     ]
    }
   ],
   "source": [
    "acc_train = ((torch.sigmoid(model(X_train)).view(-1) > 0.5 ).float()  == y_train ).float().mean().float().item()\n",
    "acc_test = ((torch.sigmoid(model(X_test)).view(-1) > 0.5 ).float()  == y_test ).float().mean().float().item()\n",
    "\n",
    "print(\"acc train: \", acc_train)\n",
    "print(\"acc test: \",acc_test)\n",
    "acc_test_dp = acc_test"
   ]
  },
  {
   "cell_type": "markdown",
   "metadata": {},
   "source": [
    "#### check parity for dp"
   ]
  },
  {
   "cell_type": "code",
   "execution_count": 49,
   "metadata": {},
   "outputs": [],
   "source": [
    "y_pred = (torch.sigmoid(model(X_test)).view(-1)>0.5).float()"
   ]
  },
  {
   "cell_type": "code",
   "execution_count": 50,
   "metadata": {},
   "outputs": [],
   "source": [
    "y_pred = (torch.sigmoid(model(X_test)).view(-1) > 0.5 ).float()"
   ]
  },
  {
   "cell_type": "code",
   "execution_count": 51,
   "metadata": {},
   "outputs": [
    {
     "name": "stdout",
     "output_type": "stream",
     "text": [
      "{0: 0.5324675440788269, 1: 0.5064935088157654}\n",
      "0.025974035263061523\n"
     ]
    }
   ],
   "source": [
    "# expected value of y_pred = 1 for each sensitive group\n",
    "# E[h(X)|A=a]\n",
    "# correspond to demographic parity\n",
    "expect_by_a={}\n",
    "for i in [0,1]:\n",
    "    idx = sensitive_test==i\n",
    "    expect_by_a[i] = y_pred[idx].mean().item()\n",
    "print(expect_by_a)\n",
    "nonfair_gap = np.abs(expect_by_a[0]-expect_by_a[1])\n",
    "print(nonfair_gap)"
   ]
  },
  {
   "cell_type": "code",
   "execution_count": 52,
   "metadata": {},
   "outputs": [
    {
     "name": "stdout",
     "output_type": "stream",
     "text": [
      "{0: {0: 0.15909090638160706, 1: 0.6818181872367859}, 1: {0: 0.38842976093292236, 1: 0.939393937587738}}\n",
      "gap:  0.780303031206131\n"
     ]
    }
   ],
   "source": [
    "# expected value of y_pred = 1 for each sensitive group and true label\n",
    "# E[h(X)|A=a, Y=y]\n",
    "# correspond to equalized odds\n",
    "\n",
    "expect_by_a_y = {}\n",
    "expect_by_a_y_list = []\n",
    "\n",
    "for i in [0, 1]:\n",
    "    expect_by_a_y[i]={}\n",
    "    for j in [0, 1]:\n",
    "        idx= (sensitive_test == i) & (y_test == j)\n",
    "        expc = y_pred[idx].mean().item()\n",
    "        expect_by_a_y[i][j] =  expc\n",
    "        expect_by_a_y_list.append(expc)\n",
    "print(expect_by_a_y)\n",
    "vanilla_gap_eo = np.max(expect_by_a_y_list)- np.min(expect_by_a_y_list)\n",
    "print(\"gap: \", vanilla_gap_eo)"
   ]
  },
  {
   "cell_type": "code",
   "execution_count": null,
   "metadata": {},
   "outputs": [],
   "source": []
  },
  {
   "cell_type": "markdown",
   "metadata": {},
   "source": [
    "### Equalied Odds"
   ]
  },
  {
   "cell_type": "markdown",
   "metadata": {},
   "source": [
    "#### fairness for eo"
   ]
  },
  {
   "cell_type": "code",
   "execution_count": 65,
   "metadata": {},
   "outputs": [
    {
     "name": "stdout",
     "output_type": "stream",
     "text": [
      "acc train:  0.4902234673500061\n",
      "acc test:  0.4285714328289032\n"
     ]
    }
   ],
   "source": [
    "model = nn.Sequential(nn.Linear(n_feature,1))\n",
    "eo_loss = EqualiedOddsLoss(sensitive_classes=[0, 1], alpha=1000)\n",
    "optimizer = optim.SGD(model.parameters(),lr=0.1)\n",
    "\n",
    "\n",
    "\n",
    "for param in model.parameters():\n",
    "    nn.init.normal_(param, 0, 1e-7)\n",
    "model.train()\n",
    "\n",
    "for i in range(0, 50):\n",
    "    optimizer.zero_grad()    \n",
    "    logit = model(X_train)\n",
    "    loss = criterion(logit.view(-1), y_train)\n",
    "    loss +=  eo_loss(X_train, logit, sensitive_train, y_train)\n",
    "    loss.backward()\n",
    "    optimizer.step()\n",
    "\n",
    "\n",
    "acc_train = ((torch.sigmoid(model(X_train)).view(-1) > 0.5 ).float()  == y_train ).float().mean().float().item()\n",
    "acc_test = ((torch.sigmoid(model(X_test)).view(-1) > 0.5 ).float()  == y_test ).float().mean().float().item()\n",
    "\n",
    "print(\"acc train: \", acc_train)\n",
    "print(\"acc test: \",acc_test)\n",
    "acc_test_eo = acc_test\n"
   ]
  },
  {
   "cell_type": "markdown",
   "metadata": {},
   "source": [
    "#### check parity for dp"
   ]
  },
  {
   "cell_type": "code",
   "execution_count": 66,
   "metadata": {},
   "outputs": [],
   "source": [
    "y_pred = (torch.sigmoid(model(X_test)).view(-1)>0.5).float()"
   ]
  },
  {
   "cell_type": "code",
   "execution_count": 67,
   "metadata": {},
   "outputs": [],
   "source": [
    "y_pred = (torch.sigmoid(model(X_test)).view(-1) > 0.5 ).float()"
   ]
  },
  {
   "cell_type": "code",
   "execution_count": 68,
   "metadata": {},
   "outputs": [
    {
     "name": "stdout",
     "output_type": "stream",
     "text": [
      "{0: 0.9155844449996948, 1: 0.9090909361839294}\n",
      "0.006493508815765381\n"
     ]
    }
   ],
   "source": [
    "# expected value of y_pred = 1 for each sensitive group\n",
    "# E[h(X)|A=a]\n",
    "# correspond to demographic parity\n",
    "expect_by_a={}\n",
    "for i in [0,1]:\n",
    "    idx = sensitive_test==i\n",
    "    expect_by_a[i] = y_pred[idx].mean().item()\n",
    "print(expect_by_a)\n",
    "nonfair_gap = np.abs(expect_by_a[0]-expect_by_a[1])\n",
    "print(nonfair_gap)"
   ]
  },
  {
   "cell_type": "code",
   "execution_count": 69,
   "metadata": {},
   "outputs": [
    {
     "name": "stdout",
     "output_type": "stream",
     "text": [
      "{0: {0: 1.0, 1: 0.8818181753158569}, 1: {0: 0.93388432264328, 1: 0.8181818127632141}}\n",
      "gap:  0.1818181872367859\n"
     ]
    }
   ],
   "source": [
    "# expected value of y_pred = 1 for each sensitive group and true label\n",
    "# E[h(X)|A=a, Y=y]\n",
    "# correspond to equalized odds\n",
    "\n",
    "expect_by_a_y = {}\n",
    "expect_by_a_y_list = []\n",
    "\n",
    "for i in [0, 1]:\n",
    "    expect_by_a_y[i]={}\n",
    "    for j in [0, 1]:\n",
    "        idx= (sensitive_test == i) & (y_test == j)\n",
    "        expc = y_pred[idx].mean().item()\n",
    "        expect_by_a_y[i][j] =  expc\n",
    "        expect_by_a_y_list.append(expc)\n",
    "print(expect_by_a_y)\n",
    "vanilla_gap_eo = np.max(expect_by_a_y_list)- np.min(expect_by_a_y_list)\n",
    "print(\"gap: \", vanilla_gap_eo)"
   ]
  },
  {
   "cell_type": "code",
   "execution_count": null,
   "metadata": {},
   "outputs": [],
   "source": []
  }
 ],
 "metadata": {
  "kernelspec": {
   "display_name": "Python 3",
   "language": "python",
   "name": "python3"
  },
  "language_info": {
   "codemirror_mode": {
    "name": "ipython",
    "version": 3
   },
   "file_extension": ".py",
   "mimetype": "text/x-python",
   "name": "python",
   "nbconvert_exporter": "python",
   "pygments_lexer": "ipython3",
   "version": "3.8.6"
  }
 },
 "nbformat": 4,
 "nbformat_minor": 4
}
