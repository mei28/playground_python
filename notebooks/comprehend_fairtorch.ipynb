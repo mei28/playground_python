{
 "cells": [
  {
   "cell_type": "code",
   "execution_count": 1,
   "metadata": {},
   "outputs": [],
   "source": [
    "from fairtorch import ConstraintLoss, DemographicParityLoss, EqualiedOddsLoss\n",
    "\n",
    "import random\n",
    "import numpy as np \n",
    "import os\n",
    "\n",
    "  \n",
    "import torch\n",
    "from torch import nn\n",
    "from torch.nn import functional as F\n",
    "\n",
    "\n",
    "from icecream import ic\n",
    "import math"
   ]
  },
  {
   "cell_type": "code",
   "execution_count": 2,
   "metadata": {},
   "outputs": [],
   "source": [
    "def seed_everything(seed):\n",
    "    random.seed(seed)\n",
    "    os.environ[\"PYTHONSEED\"]=str(seed)\n",
    "    np.random.seed(seed)\n",
    "\n",
    "seed_everything(42)"
   ]
  },
  {
   "cell_type": "code",
   "execution_count": 3,
   "metadata": {
    "jupyter": {
     "source_hidden": true
    }
   },
   "outputs": [],
   "source": [
    "n_samples = 512\n",
    "n_feature = 4 \n",
    "\n",
    "def generate_data(n_samples=n_samples, n_feature=n_feature):\n",
    "    \n",
    "    y = np.random.randint(0,2, size=n_samples)\n",
    "    loc0 = np.random.uniform(-1,1,n_feature)\n",
    "    loc1 = np.random.uniform(-1,1,n_feature)\n",
    "    \n",
    "    X = np.zeros((n_samples, n_feature))\n",
    "    for i,u in enumerate(y):\n",
    "        if y[i]==0:\n",
    "            X[i] = np.random.normal(loc=loc0,scale=1.0, size=n_feature)\n",
    "        else:\n",
    "            X[i] = np.random.normal(loc=loc1, scale=1.0, size=n_feature)\n",
    "    \n",
    "    sensitive_feature = (X[:,0]>X[:,0].mean()).astype(int)\n",
    " \n",
    "    return X, y, sensitive_feature"
   ]
  },
  {
   "cell_type": "code",
   "execution_count": 4,
   "metadata": {},
   "outputs": [],
   "source": [
    "X,y,sensitive = generate_data(n_samples, n_feature)"
   ]
  },
  {
   "cell_type": "code",
   "execution_count": 5,
   "metadata": {},
   "outputs": [
    {
     "name": "stderr",
     "output_type": "stream",
     "text": [
      "/opt/conda/lib/python3.8/site-packages/torch/cuda/__init__.py:52: UserWarning: CUDA initialization: Found no NVIDIA driver on your system. Please check that you have an NVIDIA GPU and installed a driver from http://www.nvidia.com/Download/index.aspx (Triggered internally at  /pytorch/c10/cuda/CUDAFunctions.cpp:100.)\n",
      "  return torch._C._cuda_getDeviceCount() > 0\n"
     ]
    }
   ],
   "source": [
    "dp_criterion = DemographicParityLoss(sensitive_classes=[0,1],alpha=1,p_norm=2)"
   ]
  },
  {
   "cell_type": "code",
   "execution_count": 6,
   "metadata": {},
   "outputs": [
    {
     "data": {
      "text/plain": [
       "[0, 1]"
      ]
     },
     "execution_count": 6,
     "metadata": {},
     "output_type": "execute_result"
    }
   ],
   "source": [
    "dp_criterion.sensitive_classes"
   ]
  },
  {
   "cell_type": "code",
   "execution_count": 7,
   "metadata": {},
   "outputs": [
    {
     "data": {
      "text/plain": [
       "3"
      ]
     },
     "execution_count": 7,
     "metadata": {},
     "output_type": "execute_result"
    }
   ],
   "source": [
    "dp_criterion.dim_condition"
   ]
  },
  {
   "cell_type": "code",
   "execution_count": 8,
   "metadata": {},
   "outputs": [
    {
     "data": {
      "text/plain": [
       "tensor([[ 1.,  0., -1.],\n",
       "        [-1.,  0.,  1.],\n",
       "        [ 1.,  0., -1.],\n",
       "        [-1.,  0.,  1.]])"
      ]
     },
     "execution_count": 8,
     "metadata": {},
     "output_type": "execute_result"
    }
   ],
   "source": [
    "dp_criterion.M"
   ]
  },
  {
   "cell_type": "code",
   "execution_count": 9,
   "metadata": {},
   "outputs": [
    {
     "name": "stderr",
     "output_type": "stream",
     "text": [
      "ic| M: array([[ 1.,  0., -1.],\n",
      "              [ 0.,  0.,  0.],\n",
      "              [ 0.,  0.,  0.],\n",
      "              [ 0.,  0.,  0.]])\n",
      "ic| M: array([[ 1.,  0., -1.],\n",
      "              [-1.,  0.,  1.],\n",
      "              [ 0.,  0.,  0.],\n",
      "              [ 0.,  0.,  0.]])\n",
      "ic| M: array([[ 1.,  0., -1.],\n",
      "              [-1.,  0.,  1.],\n",
      "              [ 1.,  0., -1.],\n",
      "              [ 0.,  0.,  0.]])\n",
      "ic| M: array([[ 1.,  0., -1.],\n",
      "              [-1.,  0.,  1.],\n",
      "              [ 1.,  0., -1.],\n",
      "              [-1.,  0.,  1.]])\n"
     ]
    }
   ],
   "source": [
    "M = np.zeros((4,3))\n",
    "for i in range(4):\n",
    "    j = i%2\n",
    "    if j==0:\n",
    "        M[i,j] = 1.0\n",
    "        M[i,-1] = -1.0\n",
    "    else:\n",
    "        M[i,j-1] = -1.0\n",
    "        M[i,-1] = 1.0\n",
    "    ic(M)"
   ]
  },
  {
   "cell_type": "code",
   "execution_count": 10,
   "metadata": {},
   "outputs": [
    {
     "name": "stderr",
     "output_type": "stream",
     "text": [
      "ic| expected_values_list: [0.6563706563706564, 0.35968379446640314, 0.509765625]\n"
     ]
    },
    {
     "data": {
      "text/plain": [
       "[0.6563706563706564, 0.35968379446640314, 0.509765625]"
      ]
     },
     "execution_count": 10,
     "metadata": {},
     "output_type": "execute_result"
    }
   ],
   "source": [
    "expected_values_list = []\n",
    "for v in [0,1]:\n",
    "    idx_true = sensitive==v\n",
    "    expected_values_list.append(y[idx_true].mean())\n",
    "expected_values_list.append(y.mean())\n",
    "ic(expected_values_list)"
   ]
  },
  {
   "cell_type": "markdown",
   "metadata": {},
   "source": [
    "Mu_f\n",
    "[s=0のみの平均出力， s＝1のみの平均出力，　全ての平均出力]"
   ]
  },
  {
   "cell_type": "code",
   "execution_count": 11,
   "metadata": {},
   "outputs": [],
   "source": [
    "n_samples = 512\n",
    "n_feature = 4\n",
    "\n",
    "def genelate_data(n_samples = n_samples, n_feature=n_feature):\n",
    "\n",
    "    y = np.random.randint(0, 2, size=n_samples)\n",
    "    loc0 = np.random.uniform(-1, 1, n_feature)\n",
    "    loc1 = np.random.uniform(-1, 1, n_feature)\n",
    "\n",
    "    X = np.zeros((n_samples, n_feature))\n",
    "    for i, u in enumerate(y):\n",
    "        if y[i] ==0:\n",
    "            X[i] = np.random.normal(loc = loc0, scale=1.0, size=n_feature)  \n",
    "        else:\n",
    "            X[i] = np.random.normal(loc = loc1, scale=1.0, size=n_feature)  \n",
    "\n",
    "    sensi_feat = (X[:, 0] > X[:, 0].mean()).astype(int)\n",
    "    X[:, 0] = sensi_feat.astype(np.float32)\n",
    "    X = torch.from_numpy(X).float()\n",
    "    y = torch.from_numpy(y).float()\n",
    "    sensi_feat = torch.from_numpy(sensi_feat)\n",
    "    return X, y, sensi_feat\n",
    "\n",
    "X_, y_, sensitive_ = genelate_data(n_samples, n_feature)"
   ]
  },
  {
   "cell_type": "code",
   "execution_count": 12,
   "metadata": {},
   "outputs": [
    {
     "name": "stderr",
     "output_type": "stream",
     "text": [
      "ic| X_.shape: torch.Size([512, 4])\n",
      "    y_.shape: torch.Size([512])\n",
      "    sensitive_.shape: torch.Size([512])\n",
      "ic| X.shape: (512, 4), y.shape: (512,), sensitive.shape: (512,)\n"
     ]
    },
    {
     "data": {
      "text/plain": [
       "((512, 4), (512,), (512,))"
      ]
     },
     "execution_count": 12,
     "metadata": {},
     "output_type": "execute_result"
    }
   ],
   "source": [
    "ic(X_.shape, y_.shape, sensitive_.shape)\n",
    "ic(X.shape, y.shape, sensitive.shape)"
   ]
  },
  {
   "cell_type": "code",
   "execution_count": 13,
   "metadata": {},
   "outputs": [
    {
     "data": {
      "text/plain": [
       "tensor([0.4355, 0.5038, 0.4707])"
      ]
     },
     "execution_count": 13,
     "metadata": {},
     "output_type": "execute_result"
    }
   ],
   "source": [
    "dp_criterion.mu_f(X_,y_,sensitive_)"
   ]
  },
  {
   "cell_type": "code",
   "execution_count": 14,
   "metadata": {},
   "outputs": [
    {
     "data": {
      "text/plain": [
       "tensor([0.4355, 0.5038, 0.4707])"
      ]
     },
     "execution_count": 14,
     "metadata": {},
     "output_type": "execute_result"
    }
   ],
   "source": [
    "def mu_f(X, out, sensitive, y=None):\n",
    "    expected_values_list = []\n",
    "    for v in [0,1]:\n",
    "        idx_true = sensitive == v  # torch.bool\n",
    "        expected_values_list.append(out[idx_true].mean())\n",
    "    expected_values_list.append(out.mean())\n",
    "    return torch.stack(expected_values_list)\n",
    "    \n",
    "mu_f(X_,y_,sensitive_)"
   ]
  },
  {
   "cell_type": "markdown",
   "metadata": {},
   "source": [
    "torch.stackすると\n",
    "[tensor(1), tensor(2), tensor(3)] -> tensor([1,2,3])になった"
   ]
  },
  {
   "cell_type": "code",
   "execution_count": 25,
   "metadata": {},
   "outputs": [],
   "source": [
    "for i, v in enumerate(dp_criterion.parameters()):\n",
    "    print(i,v)"
   ]
  },
  {
   "cell_type": "code",
   "execution_count": 34,
   "metadata": {},
   "outputs": [
    {
     "data": {
      "text/plain": [
       "tensor(0.0001)"
      ]
     },
     "execution_count": 34,
     "metadata": {},
     "output_type": "execute_result"
    }
   ],
   "source": [
    "dp_criterion(X_,y_,sensitive_)"
   ]
  },
  {
   "cell_type": "markdown",
   "metadata": {},
   "source": [
    "gap_constraint = ReLU(M:[4,3], mu:[3,] - c: [3,])\n",
    "               = ReLU([4,])\n",
    "\n"
   ]
  }
 ],
 "metadata": {
  "kernelspec": {
   "display_name": "Python 3",
   "language": "python",
   "name": "python3"
  },
  "language_info": {
   "codemirror_mode": {
    "name": "ipython",
    "version": 3
   },
   "file_extension": ".py",
   "mimetype": "text/x-python",
   "name": "python",
   "nbconvert_exporter": "python",
   "pygments_lexer": "ipython3",
   "version": "3.8.6"
  }
 },
 "nbformat": 4,
 "nbformat_minor": 4
}
