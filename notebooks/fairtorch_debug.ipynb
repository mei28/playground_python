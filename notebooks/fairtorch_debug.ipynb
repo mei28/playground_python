{
 "cells": [
  {
   "cell_type": "code",
   "execution_count": 1,
   "metadata": {},
   "outputs": [
    {
     "name": "stdout",
     "output_type": "stream",
     "text": [
      "Requirement already satisfied: icecream in /opt/conda/lib/python3.8/site-packages (2.1.0)\n",
      "Requirement already satisfied: executing>=0.3.1 in /opt/conda/lib/python3.8/site-packages (from icecream) (0.5.4)\n",
      "Requirement already satisfied: pygments>=2.2.0 in /opt/conda/lib/python3.8/site-packages (from icecream) (2.7.3)\n",
      "Requirement already satisfied: asttokens>=2.0.1 in /opt/conda/lib/python3.8/site-packages (from icecream) (2.0.4)\n",
      "Requirement already satisfied: colorama>=0.3.9 in /opt/conda/lib/python3.8/site-packages (from icecream) (0.4.4)\n",
      "Requirement already satisfied: six in /opt/conda/lib/python3.8/site-packages (from asttokens>=2.0.1->icecream) (1.15.0)\n"
     ]
    }
   ],
   "source": [
    "!pip install icecream"
   ]
  },
  {
   "cell_type": "code",
   "execution_count": 2,
   "metadata": {},
   "outputs": [],
   "source": [
    "from fairtorch import ConstraintLoss, DemographicParityLoss, EqualiedOddsLoss\n",
    "\n",
    "import random\n",
    "import numpy as np \n",
    "import os\n",
    "import torch \n",
    "from torch.utils.data import DataLoader, Dataset\n",
    "import torch.nn as nn\n",
    "import torch.optim as optim\n",
    "\n",
    "from icecream import ic\n",
    "import math"
   ]
  },
  {
   "cell_type": "code",
   "execution_count": 3,
   "metadata": {},
   "outputs": [],
   "source": [
    "def seed_everything(seed):\n",
    "    random.seed(seed)\n",
    "    os.environ[\"PYTHONHASHSEED\"] = str(seed)\n",
    "    np.random.seed(seed)\n",
    "    torch.manual_seed(seed)\n",
    "    torch.cuda.manual_seed(seed)\n",
    "    torch.backends.cudnn.deterministic = True\n",
    "\n",
    "seed_everything(42)"
   ]
  },
  {
   "cell_type": "markdown",
   "metadata": {},
   "source": [
    "### Prepare synthetic dataset "
   ]
  },
  {
   "cell_type": "code",
   "execution_count": 4,
   "metadata": {},
   "outputs": [],
   "source": [
    "n_samples = 512\n",
    "n_feature = 4 \n",
    "\n",
    "def generate_data(n_samples=n_samples, n_feature=n_feature):\n",
    "    \n",
    "    y = np.random.randint(0,2, size=n_samples)\n",
    "    loc0 = np.random.uniform(-1,1,n_feature)\n",
    "    loc1 = np.random.uniform(-1,1,n_feature)\n",
    "    \n",
    "    X = np.zeros((n_samples, n_feature))\n",
    "    for i,u in enumerate(y):\n",
    "        if y[i]==0:\n",
    "            X[i] = np.random.normal(loc=loc0,scale=1.0, size=n_feature)\n",
    "        else:\n",
    "            X[i] = np.random.normal(loc=loc1, scale=1.0, size=n_feature)\n",
    "    \n",
    "    sensitive_feature = (X[:,0]>X[:,0].mean()).astype(int)\n",
    " \n",
    "    return X, y, sensitive_feature"
   ]
  },
  {
   "cell_type": "code",
   "execution_count": 5,
   "metadata": {},
   "outputs": [],
   "source": [
    "dataset = generate_data(1024,4)"
   ]
  },
  {
   "cell_type": "markdown",
   "metadata": {},
   "source": [
    "#### split dataset"
   ]
  },
  {
   "cell_type": "code",
   "execution_count": 6,
   "metadata": {},
   "outputs": [],
   "source": [
    "n_train = int(0.7 * len(dataset[0]))\n",
    "X_train, y_train, sensitive_train = map(lambda x: x[:n_train], dataset)\n",
    "X_test, y_test, sensitive_test = map(lambda x: x[n_train:], dataset)"
   ]
  },
  {
   "cell_type": "code",
   "execution_count": 7,
   "metadata": {},
   "outputs": [
    {
     "name": "stdout",
     "output_type": "stream",
     "text": [
      "TRAIN\n"
     ]
    },
    {
     "data": {
      "text/plain": [
       "(716, 4)"
      ]
     },
     "metadata": {},
     "output_type": "display_data"
    },
    {
     "data": {
      "text/plain": [
       "(716,)"
      ]
     },
     "metadata": {},
     "output_type": "display_data"
    },
    {
     "data": {
      "text/plain": [
       "(716,)"
      ]
     },
     "metadata": {},
     "output_type": "display_data"
    },
    {
     "name": "stdout",
     "output_type": "stream",
     "text": [
      "TEST\n"
     ]
    },
    {
     "data": {
      "text/plain": [
       "(308, 4)"
      ]
     },
     "metadata": {},
     "output_type": "display_data"
    },
    {
     "data": {
      "text/plain": [
       "(308,)"
      ]
     },
     "metadata": {},
     "output_type": "display_data"
    },
    {
     "data": {
      "text/plain": [
       "(308,)"
      ]
     },
     "metadata": {},
     "output_type": "display_data"
    }
   ],
   "source": [
    "print('TRAIN')\n",
    "display(X_train.shape, y_train.shape, sensitive_train.shape)\n",
    "print('TEST')\n",
    "display(X_test.shape, y_test.shape, sensitive_test.shape)"
   ]
  },
  {
   "cell_type": "code",
   "execution_count": 8,
   "metadata": {},
   "outputs": [],
   "source": [
    "class MyDataset:\n",
    "    def __init__(self,features,targets, sensitive):\n",
    "        self.features = features\n",
    "        self.targets = targets\n",
    "        self.sensitive = sensitive\n",
    "    def __len__(self):\n",
    "        return (len(self.features))\n",
    "    def __getitem__(self,idx):\n",
    "        dct = {\n",
    "            'x': torch.tensor(self.features[idx,:],dtype=torch.float),\n",
    "            'y': torch.tensor(self.targets[idx],dtype=torch.float),\n",
    "            's': torch.tensor(self.sensitive[idx],dtype=torch.float)\n",
    "        }\n",
    "        return dct"
   ]
  },
  {
   "cell_type": "code",
   "execution_count": 9,
   "metadata": {},
   "outputs": [],
   "source": [
    "class SimpleModel(nn.Module):\n",
    "    def __init__(self, n_features):\n",
    "        super(SimpleModel, self).__init__()\n",
    "        self.fc = nn.Linear(n_features,1)\n",
    "    def forward(self,inputs):\n",
    "        outputs = self.fc(inputs)\n",
    "        return outputs\n",
    "    "
   ]
  },
  {
   "cell_type": "code",
   "execution_count": 10,
   "metadata": {},
   "outputs": [
    {
     "name": "stderr",
     "output_type": "stream",
     "text": [
      "/opt/conda/lib/python3.8/site-packages/torch/cuda/__init__.py:52: UserWarning: CUDA initialization: Found no NVIDIA driver on your system. Please check that you have an NVIDIA GPU and installed a driver from http://www.nvidia.com/Download/index.aspx (Triggered internally at  /pytorch/c10/cuda/CUDAFunctions.cpp:100.)\n",
      "  return torch._C._cuda_getDeviceCount() > 0\n",
      "ic| dp_loss: nan, inputs.shape: torch.Size([3, 4])\n"
     ]
    },
    {
     "name": "stdout",
     "output_type": "stream",
     "text": [
      "FINISH\n"
     ]
    }
   ],
   "source": [
    "n_epochs = 50\n",
    "batch_size = 3\n",
    "n_feature = 4\n",
    "\n",
    "model = SimpleModel(n_feature)\n",
    "criterion = nn.BCEWithLogitsLoss()\n",
    "dp_criterion = DemographicParityLoss(sensitive_classes=[0,1], alpha=100)\n",
    "optimizer = optim.SGD(model.parameters(), lr=.1)\n",
    "\n",
    "for param in model.parameters():\n",
    "    nn.init.normal_(param, 0, 1e-7)\n",
    "\n",
    "# train\n",
    "model.train()\n",
    "\n",
    "train_dataset = MyDataset(X_train, y_train, sensitive_train)\n",
    "test_dataset = MyDataset(X_test, y_test, sensitive_test)\n",
    "\n",
    "train_loader = DataLoader(train_dataset, batch_size=batch_size, shuffle=True)\n",
    "test_loader = DataLoader(test_dataset, batch_size=batch_size, shuffle=False)\n",
    "\n",
    "\n",
    "for data in train_loader:\n",
    "    inputs, targets, sensitive = data['x'], data['y'], data['s']\n",
    "    outputs = model(inputs)\n",
    "    dp_loss = dp_criterion(inputs,outputs,sensitive).item()\n",
    "\n",
    "    if math.isnan(dp_loss):\n",
    "        ic(dp_loss,inputs.shape)\n",
    "        break\n",
    "    \n",
    "print('FINISH')\n",
    "\n",
    "\n"
   ]
  },
  {
   "cell_type": "code",
   "execution_count": 11,
   "metadata": {},
   "outputs": [
    {
     "name": "stdout",
     "output_type": "stream",
     "text": [
      "FINISH\n"
     ]
    }
   ],
   "source": [
    "n_epochs = 50\n",
    "batch_size = 32\n",
    "n_feature = 4\n",
    "\n",
    "model = SimpleModel(n_feature)\n",
    "criterion = nn.BCEWithLogitsLoss()\n",
    "dp_criterion = DemographicParityLoss(sensitive_classes=[0,1], alpha=100)\n",
    "optimizer = optim.SGD(model.parameters(), lr=.1)\n",
    "\n",
    "for param in model.parameters():\n",
    "    nn.init.normal_(param, 0, 1e-7)\n",
    "\n",
    "# train\n",
    "model.train()\n",
    "\n",
    "train_dataset = MyDataset(X_train, y_train, sensitive_train)\n",
    "test_dataset = MyDataset(X_test, y_test, sensitive_test)\n",
    "\n",
    "train_loader = DataLoader(train_dataset, batch_size=batch_size, shuffle=True)\n",
    "test_loader = DataLoader(test_dataset, batch_size=batch_size, shuffle=False)\n",
    "\n",
    "\n",
    "for data in train_loader:\n",
    "    inputs, targets, sensitive = data['x'], data['y'], data['s']\n",
    "    outputs = model(inputs)\n",
    "    dp_loss = dp_criterion(inputs,outputs,sensitive).item()\n",
    "\n",
    "    if math.isnan(dp_loss):\n",
    "        ic(dp_loss,inputs.shape)\n",
    "        break\n",
    "print(\"FINISH\")"
   ]
  }
 ],
 "metadata": {
  "kernelspec": {
   "display_name": "Python 3",
   "language": "python",
   "name": "python3"
  },
  "language_info": {
   "codemirror_mode": {
    "name": "ipython",
    "version": 3
   },
   "file_extension": ".py",
   "mimetype": "text/x-python",
   "name": "python",
   "nbconvert_exporter": "python",
   "pygments_lexer": "ipython3",
   "version": "3.8.6"
  }
 },
 "nbformat": 4,
 "nbformat_minor": 4
}
