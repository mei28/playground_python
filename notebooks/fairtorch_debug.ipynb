{
 "cells": [
  {
   "cell_type": "code",
   "execution_count": 1,
   "metadata": {},
   "outputs": [
    {
     "name": "stdout",
     "output_type": "stream",
     "text": [
      "Collecting icecream\n",
      "  Downloading icecream-2.1.0-py2.py3-none-any.whl (8.0 kB)\n",
      "Requirement already satisfied: pygments>=2.2.0 in /opt/conda/lib/python3.8/site-packages (from icecream) (2.7.3)\n",
      "Collecting asttokens>=2.0.1\n",
      "  Downloading asttokens-2.0.4-py2.py3-none-any.whl (20 kB)\n",
      "Requirement already satisfied: six in /opt/conda/lib/python3.8/site-packages (from asttokens>=2.0.1->icecream) (1.15.0)\n",
      "Collecting colorama>=0.3.9\n",
      "  Downloading colorama-0.4.4-py2.py3-none-any.whl (16 kB)\n",
      "Collecting executing>=0.3.1\n",
      "  Downloading executing-0.5.4-py3-none-any.whl (12 kB)\n",
      "Installing collected packages: executing, colorama, asttokens, icecream\n",
      "Successfully installed asttokens-2.0.4 colorama-0.4.4 executing-0.5.4 icecream-2.1.0\n"
     ]
    }
   ],
   "source": [
    "!pip install icecream"
   ]
  },
  {
   "cell_type": "code",
   "execution_count": 2,
   "metadata": {},
   "outputs": [],
   "source": [
    "from fairtorch import ConstraintLoss, DemographicParityLoss, EqualiedOddsLoss\n",
    "\n",
    "import random\n",
    "import numpy as np \n",
    "import os\n",
    "import torch \n",
    "from torch.utils.data import DataLoader, Dataset\n",
    "import torch.nn as nn\n",
    "import torch.optim as optim\n",
    "\n",
    "from icecream import ic\n",
    "import math"
   ]
  },
  {
   "cell_type": "code",
   "execution_count": 3,
   "metadata": {},
   "outputs": [],
   "source": [
    "def seed_everything(seed):\n",
    "    random.seed(seed)\n",
    "    os.environ[\"PYTHONHASHSEED\"] = str(seed)\n",
    "    np.random.seed(seed)\n",
    "    torch.manual_seed(seed)\n",
    "    torch.cuda.manual_seed(seed)\n",
    "    torch.backends.cudnn.deterministic = True\n",
    "\n",
    "seed_everything(42)"
   ]
  },
  {
   "cell_type": "markdown",
   "metadata": {},
   "source": [
    "### Prepare synthetic dataset "
   ]
  },
  {
   "cell_type": "code",
   "execution_count": 4,
   "metadata": {},
   "outputs": [],
   "source": [
    "n_samples = 512\n",
    "n_feature = 4 \n",
    "\n",
    "def generate_data(n_samples=n_samples, n_feature=n_feature):\n",
    "    \n",
    "    y = np.random.randint(0,2, size=n_samples)\n",
    "    loc0 = np.random.uniform(-1,1,n_feature)\n",
    "    loc1 = np.random.uniform(-1,1,n_feature)\n",
    "    \n",
    "    X = np.zeros((n_samples, n_feature))\n",
    "    for i,u in enumerate(y):\n",
    "        if y[i]==0:\n",
    "            X[i] = np.random.normal(loc=loc0,scale=1.0, size=n_feature)\n",
    "        else:\n",
    "            X[i] = np.random.normal(loc=loc1, scale=1.0, size=n_feature)\n",
    "    \n",
    "    sensitive_feature = (X[:,0]>X[:,0].mean()).astype(int)\n",
    " \n",
    "    return X, y, sensitive_feature"
   ]
  },
  {
   "cell_type": "code",
   "execution_count": 5,
   "metadata": {},
   "outputs": [],
   "source": [
    "dataset = generate_data(1024,4)"
   ]
  },
  {
   "cell_type": "markdown",
   "metadata": {},
   "source": [
    "#### split dataset"
   ]
  },
  {
   "cell_type": "code",
   "execution_count": 6,
   "metadata": {},
   "outputs": [],
   "source": [
    "n_train = int(0.7 * len(dataset[0]))\n",
    "X_train, y_train, sensitive_train = map(lambda x: x[:n_train], dataset)\n",
    "X_test, y_test, sensitive_test = map(lambda x: x[n_train:], dataset)"
   ]
  },
  {
   "cell_type": "code",
   "execution_count": 7,
   "metadata": {},
   "outputs": [
    {
     "name": "stdout",
     "output_type": "stream",
     "text": [
      "TRAIN\n"
     ]
    },
    {
     "data": {
      "text/plain": [
       "(716, 4)"
      ]
     },
     "metadata": {},
     "output_type": "display_data"
    },
    {
     "data": {
      "text/plain": [
       "(716,)"
      ]
     },
     "metadata": {},
     "output_type": "display_data"
    },
    {
     "data": {
      "text/plain": [
       "(716,)"
      ]
     },
     "metadata": {},
     "output_type": "display_data"
    },
    {
     "name": "stdout",
     "output_type": "stream",
     "text": [
      "TEST\n"
     ]
    },
    {
     "data": {
      "text/plain": [
       "(308, 4)"
      ]
     },
     "metadata": {},
     "output_type": "display_data"
    },
    {
     "data": {
      "text/plain": [
       "(308,)"
      ]
     },
     "metadata": {},
     "output_type": "display_data"
    },
    {
     "data": {
      "text/plain": [
       "(308,)"
      ]
     },
     "metadata": {},
     "output_type": "display_data"
    }
   ],
   "source": [
    "print('TRAIN')\n",
    "display(X_train.shape, y_train.shape, sensitive_train.shape)\n",
    "print('TEST')\n",
    "display(X_test.shape, y_test.shape, sensitive_test.shape)"
   ]
  },
  {
   "cell_type": "code",
   "execution_count": 8,
   "metadata": {},
   "outputs": [],
   "source": [
    "class MyDataset:\n",
    "    def __init__(self,features,targets, sensitive):\n",
    "        self.features = features\n",
    "        self.targets = targets\n",
    "        self.sensitive = sensitive\n",
    "    def __len__(self):\n",
    "        return (len(self.features))\n",
    "    def __getitem__(self,idx):\n",
    "        dct = {\n",
    "            'x': torch.tensor(self.features[idx,:],dtype=torch.float),\n",
    "            'y': torch.tensor(self.targets[idx],dtype=torch.float),\n",
    "            's': torch.tensor(self.sensitive[idx],dtype=torch.float)\n",
    "        }\n",
    "        return dct"
   ]
  },
  {
   "cell_type": "code",
   "execution_count": 9,
   "metadata": {},
   "outputs": [],
   "source": [
    "class SimpleModel(nn.Module):\n",
    "    def __init__(self, n_features):\n",
    "        super(SimpleModel, self).__init__()\n",
    "        self.fc = nn.Linear(n_features,1)\n",
    "    def forward(self,inputs):\n",
    "        outputs = self.fc(inputs)\n",
    "        return outputs\n",
    "    "
   ]
  },
  {
   "cell_type": "code",
   "execution_count": 35,
   "metadata": {},
   "outputs": [
    {
     "name": "stderr",
     "output_type": "stream",
     "text": [
      "ic| dp_loss: nan, inputs.shape: torch.Size([3, 4])\n"
     ]
    },
    {
     "name": "stdout",
     "output_type": "stream",
     "text": [
      "FINISH\n"
     ]
    }
   ],
   "source": [
    "n_epochs = 50\n",
    "batch_size = 3\n",
    "n_feature = 4\n",
    "\n",
    "model = SimpleModel(n_feature)\n",
    "criterion = nn.BCEWithLogitsLoss()\n",
    "dp_criterion = DemographicParityLoss(sensitive_classes=[0,1], alpha=100)\n",
    "optimizer = optim.SGD(model.parameters(), lr=.1)\n",
    "\n",
    "for param in model.parameters():\n",
    "    nn.init.normal_(param, 0, 1e-7)\n",
    "\n",
    "# train\n",
    "model.train()\n",
    "\n",
    "train_dataset = MyDataset(X_train, y_train, sensitive_train)\n",
    "test_dataset = MyDataset(X_test, y_test, sensitive_test)\n",
    "\n",
    "train_loader = DataLoader(train_dataset, batch_size=batch_size, shuffle=True)\n",
    "test_loader = DataLoader(test_dataset, batch_size=batch_size, shuffle=False)\n",
    "\n",
    "\n",
    "for data in train_loader:\n",
    "    inputs, targets, sensitive = data['x'], data['y'], data['s']\n",
    "    outputs = model(inputs)\n",
    "    dp_loss = dp_criterion(inputs,outputs,sensitive).item()\n",
    "\n",
    "    if math.isnan(dp_loss):\n",
    "        ic(dp_loss,inputs.shape)\n",
    "        break\n",
    "    \n",
    "print('FINISH')\n",
    "\n",
    "\n"
   ]
  },
  {
   "cell_type": "code",
   "execution_count": 11,
   "metadata": {},
   "outputs": [
    {
     "name": "stdout",
     "output_type": "stream",
     "text": [
      "FINISH\n"
     ]
    }
   ],
   "source": [
    "n_epochs = 50\n",
    "batch_size = 32\n",
    "n_feature = 4\n",
    "\n",
    "model = SimpleModel(n_feature)\n",
    "criterion = nn.BCEWithLogitsLoss()\n",
    "dp_criterion = DemographicParityLoss(sensitive_classes=[0,1], alpha=100)\n",
    "optimizer = optim.SGD(model.parameters(), lr=.1)\n",
    "\n",
    "for param in model.parameters():\n",
    "    nn.init.normal_(param, 0, 1e-7)\n",
    "\n",
    "# train\n",
    "model.train()\n",
    "\n",
    "train_dataset = MyDataset(X_train, y_train, sensitive_train)\n",
    "test_dataset = MyDataset(X_test, y_test, sensitive_test)\n",
    "\n",
    "train_loader = DataLoader(train_dataset, batch_size=batch_size, shuffle=True)\n",
    "test_loader = DataLoader(test_dataset, batch_size=batch_size, shuffle=False)\n",
    "\n",
    "\n",
    "for data in train_loader:\n",
    "    inputs, targets, sensitive = data['x'], data['y'], data['s']\n",
    "    outputs = model(inputs)\n",
    "    dp_loss = dp_criterion(inputs,outputs,sensitive).item()\n",
    "\n",
    "    if math.isnan(dp_loss):\n",
    "        ic(dp_loss,inputs.shape)\n",
    "        break\n",
    "print(\"FINISH\")"
   ]
  },
  {
   "cell_type": "code",
   "execution_count": 12,
   "metadata": {},
   "outputs": [
    {
     "name": "stdout",
     "output_type": "stream",
     "text": [
      "Python 3.8.6\n"
     ]
    }
   ],
   "source": [
    "!python --version"
   ]
  },
  {
   "cell_type": "code",
   "execution_count": 13,
   "metadata": {},
   "outputs": [
    {
     "name": "stdout",
     "output_type": "stream",
     "text": [
      "Package                       Version             Location                               Installer\n",
      "----------------------------- ------------------- -------------------------------------- ---------\n",
      "alembic                       1.4.3               /opt/conda/lib/python3.8/site-packages conda\n",
      "argon2-cffi                   20.1.0              /opt/conda/lib/python3.8/site-packages conda\n",
      "asttokens                     2.0.4               /opt/conda/lib/python3.8/site-packages pip\n",
      "async-generator               1.10                /opt/conda/lib/python3.8/site-packages pip\n",
      "attrs                         20.3.0              /opt/conda/lib/python3.8/site-packages conda\n",
      "backcall                      0.2.0               /opt/conda/lib/python3.8/site-packages conda\n",
      "backports.functools-lru-cache 1.6.1               /opt/conda/lib/python3.8/site-packages conda\n",
      "bleach                        3.2.1               /opt/conda/lib/python3.8/site-packages conda\n",
      "blinker                       1.4                 /opt/conda/lib/python3.8/site-packages\n",
      "brotlipy                      0.7.0               /opt/conda/lib/python3.8/site-packages\n",
      "certifi                       2020.12.5           /opt/conda/lib/python3.8/site-packages\n",
      "certipy                       0.1.3               /opt/conda/lib/python3.8/site-packages pip\n",
      "cffi                          1.14.4              /opt/conda/lib/python3.8/site-packages conda\n",
      "chardet                       4.0.0               /opt/conda/lib/python3.8/site-packages conda\n",
      "colorama                      0.4.4               /opt/conda/lib/python3.8/site-packages pip\n",
      "conda                         4.9.2               /opt/conda/lib/python3.8/site-packages\n",
      "conda-package-handling        1.7.2               /opt/conda/lib/python3.8/site-packages conda\n",
      "cryptography                  3.3.1               /opt/conda/lib/python3.8/site-packages conda\n",
      "cycler                        0.10.0              /opt/conda/lib/python3.8/site-packages pip\n",
      "decorator                     4.4.2               /opt/conda/lib/python3.8/site-packages conda\n",
      "defusedxml                    0.6.0               /opt/conda/lib/python3.8/site-packages conda\n",
      "entrypoints                   0.3                 /opt/conda/lib/python3.8/site-packages conda\n",
      "executing                     0.5.4               /opt/conda/lib/python3.8/site-packages pip\n",
      "fairtorch                     0.1.2               /opt/conda/lib/python3.8/site-packages pip\n",
      "icecream                      2.1.0               /opt/conda/lib/python3.8/site-packages pip\n",
      "idna                          2.10                /opt/conda/lib/python3.8/site-packages conda\n",
      "imageio                       2.9.0               /opt/conda/lib/python3.8/site-packages pip\n",
      "importlib-metadata            3.3.0               /opt/conda/lib/python3.8/site-packages conda\n",
      "ipykernel                     5.4.2               /opt/conda/lib/python3.8/site-packages conda\n",
      "ipython                       7.19.0              /opt/conda/lib/python3.8/site-packages conda\n",
      "ipython-genutils              0.2.0               /opt/conda/lib/python3.8/site-packages\n",
      "jedi                          0.18.0              /opt/conda/lib/python3.8/site-packages conda\n",
      "Jinja2                        2.11.2              /opt/conda/lib/python3.8/site-packages conda\n",
      "joblib                        1.0.0               /opt/conda/lib/python3.8/site-packages pip\n",
      "json5                         0.9.5               /opt/conda/lib/python3.8/site-packages conda\n",
      "jsonschema                    3.2.0               /opt/conda/lib/python3.8/site-packages conda\n",
      "jupyter-client                6.1.7               /opt/conda/lib/python3.8/site-packages conda\n",
      "jupyter-core                  4.7.0               /opt/conda/lib/python3.8/site-packages conda\n",
      "jupyter-kite                  1.2.0               /opt/conda/lib/python3.8/site-packages pip\n",
      "jupyter-telemetry             0.1.0               /opt/conda/lib/python3.8/site-packages conda\n",
      "jupyterhub                    1.2.2               /opt/conda/lib/python3.8/site-packages conda\n",
      "jupyterlab                    2.2.9               /opt/conda/lib/python3.8/site-packages\n",
      "jupyterlab-pygments           0.1.2               /opt/conda/lib/python3.8/site-packages conda\n",
      "jupyterlab-server             1.2.0               /opt/conda/lib/python3.8/site-packages conda\n",
      "kiwisolver                    1.3.1               /opt/conda/lib/python3.8/site-packages pip\n",
      "lightgbm                      3.1.1               /opt/conda/lib/python3.8/site-packages pip\n",
      "lime                          0.2.0.1             /opt/conda/lib/python3.8/site-packages pip\n",
      "Mako                          1.1.3               /opt/conda/lib/python3.8/site-packages conda\n",
      "MarkupSafe                    1.1.1               /opt/conda/lib/python3.8/site-packages conda\n",
      "matplotlib                    3.3.3               /opt/conda/lib/python3.8/site-packages pip\n",
      "mistune                       0.8.4               /opt/conda/lib/python3.8/site-packages conda\n",
      "nbclient                      0.5.1               /opt/conda/lib/python3.8/site-packages conda\n",
      "nbconvert                     6.0.7               /opt/conda/lib/python3.8/site-packages conda\n",
      "nbformat                      5.0.8               /opt/conda/lib/python3.8/site-packages conda\n",
      "nest-asyncio                  1.4.3               /opt/conda/lib/python3.8/site-packages conda\n",
      "networkx                      2.5                 /opt/conda/lib/python3.8/site-packages pip\n",
      "nodejs                        0.1.1               /opt/conda/lib/python3.8/site-packages pip\n",
      "notebook                      6.1.5               /opt/conda/lib/python3.8/site-packages conda\n",
      "numpy                         1.19.5              /opt/conda/lib/python3.8/site-packages pip\n",
      "oauthlib                      3.0.1               /opt/conda/lib/python3.8/site-packages pip\n",
      "optional-django               0.1.0               /opt/conda/lib/python3.8/site-packages pip\n",
      "packaging                     20.8                /opt/conda/lib/python3.8/site-packages conda\n",
      "pamela                        1.0.0               /opt/conda/lib/python3.8/site-packages pip\n",
      "pandas                        1.2.0               /opt/conda/lib/python3.8/site-packages pip\n",
      "pandocfilters                 1.4.2               /opt/conda/lib/python3.8/site-packages\n",
      "parso                         0.8.1               /opt/conda/lib/python3.8/site-packages pip\n",
      "pexpect                       4.8.0               /opt/conda/lib/python3.8/site-packages conda\n",
      "pickleshare                   0.7.5               /opt/conda/lib/python3.8/site-packages conda\n",
      "Pillow                        8.1.0               /opt/conda/lib/python3.8/site-packages pip\n",
      "pip                           20.3.3              /opt/conda/lib/python3.8/site-packages\n",
      "prometheus-client             0.9.0               /opt/conda/lib/python3.8/site-packages conda\n",
      "prompt-toolkit                3.0.8               /opt/conda/lib/python3.8/site-packages conda\n",
      "ptyprocess                    0.6.0               /opt/conda/lib/python3.8/site-packages pip\n",
      "pycosat                       0.6.3               /opt/conda/lib/python3.8/site-packages conda\n",
      "pycparser                     2.20                /opt/conda/lib/python3.8/site-packages conda\n",
      "pycurl                        7.43.0.6            /opt/conda/lib/python3.8/site-packages\n",
      "Pygments                      2.7.3               /opt/conda/lib/python3.8/site-packages conda\n",
      "PyJWT                         1.7.1               /opt/conda/lib/python3.8/site-packages pip\n",
      "pyOpenSSL                     20.0.1              /opt/conda/lib/python3.8/site-packages conda\n",
      "pyparsing                     2.4.7               /opt/conda/lib/python3.8/site-packages conda\n",
      "pyrsistent                    0.17.3              /opt/conda/lib/python3.8/site-packages conda\n",
      "PySocks                       1.7.1               /opt/conda/lib/python3.8/site-packages conda\n",
      "python-dateutil               2.8.1               /opt/conda/lib/python3.8/site-packages conda\n",
      "python-editor                 1.0.4               /opt/conda/lib/python3.8/site-packages\n",
      "python-json-logger            2.0.1               /opt/conda/lib/python3.8/site-packages conda\n",
      "pytorch-tabnet                3.1.0               /opt/conda/lib/python3.8/site-packages pip\n",
      "pytz                          2020.5              /opt/conda/lib/python3.8/site-packages pip\n",
      "PyWavelets                    1.1.1               /opt/conda/lib/python3.8/site-packages pip\n",
      "pyzmq                         20.0.0              /opt/conda/lib/python3.8/site-packages\n",
      "requests                      2.25.1              /opt/conda/lib/python3.8/site-packages conda\n",
      "ruamel-yaml-conda             0.15.80             /opt/conda/lib/python3.8/site-packages conda\n",
      "ruamel.yaml                   0.16.12             /opt/conda/lib/python3.8/site-packages conda\n",
      "ruamel.yaml.clib              0.2.2               /opt/conda/lib/python3.8/site-packages conda\n",
      "scikit-image                  0.18.1              /opt/conda/lib/python3.8/site-packages pip\n",
      "scikit-learn                  0.24.0              /opt/conda/lib/python3.8/site-packages pip\n",
      "scipy                         1.6.0               /opt/conda/lib/python3.8/site-packages pip\n",
      "seaborn                       0.11.1              /opt/conda/lib/python3.8/site-packages pip\n",
      "Send2Trash                    1.5.0               /opt/conda/lib/python3.8/site-packages pip\n",
      "setuptools                    49.6.0.post20201009 /opt/conda/lib/python3.8/site-packages\n",
      "six                           1.15.0              /opt/conda/lib/python3.8/site-packages conda\n",
      "sklearn                       0.0                 /opt/conda/lib/python3.8/site-packages pip\n",
      "SQLAlchemy                    1.3.22              /opt/conda/lib/python3.8/site-packages conda\n",
      "terminado                     0.9.1               /opt/conda/lib/python3.8/site-packages conda\n",
      "testpath                      0.4.4               /opt/conda/lib/python3.8/site-packages conda\n",
      "threadpoolctl                 2.1.0               /opt/conda/lib/python3.8/site-packages pip\n",
      "tifffile                      2021.1.14           /opt/conda/lib/python3.8/site-packages pip\n",
      "torch                         1.7.1               /opt/conda/lib/python3.8/site-packages pip\n",
      "tornado                       6.1                 /opt/conda/lib/python3.8/site-packages conda\n",
      "tqdm                          4.55.0              /opt/conda/lib/python3.8/site-packages conda\n",
      "traitlets                     5.0.5               /opt/conda/lib/python3.8/site-packages conda\n",
      "typing-extensions             3.7.4.3             /opt/conda/lib/python3.8/site-packages pip\n",
      "urllib3                       1.26.2              /opt/conda/lib/python3.8/site-packages conda\n",
      "wcwidth                       0.2.5               /opt/conda/lib/python3.8/site-packages conda\n",
      "webencodings                  0.5.1               /opt/conda/lib/python3.8/site-packages\n",
      "wget                          3.2                 /opt/conda/lib/python3.8/site-packages pip\n",
      "wheel                         0.36.2              /opt/conda/lib/python3.8/site-packages\n",
      "zipp                          3.4.0               /opt/conda/lib/python3.8/site-packages conda\n"
     ]
    }
   ],
   "source": [
    "!pip list -v"
   ]
  },
  {
   "cell_type": "code",
   "execution_count": null,
   "metadata": {},
   "outputs": [],
   "source": []
  }
 ],
 "metadata": {
  "kernelspec": {
   "display_name": "Python 3",
   "language": "python",
   "name": "python3"
  },
  "language_info": {
   "codemirror_mode": {
    "name": "ipython",
    "version": 3
   },
   "file_extension": ".py",
   "mimetype": "text/x-python",
   "name": "python",
   "nbconvert_exporter": "python",
   "pygments_lexer": "ipython3",
   "version": "3.8.6"
  }
 },
 "nbformat": 4,
 "nbformat_minor": 4
}
